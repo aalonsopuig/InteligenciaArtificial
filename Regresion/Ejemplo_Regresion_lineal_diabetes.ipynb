{
  "nbformat": 4,
  "nbformat_minor": 0,
  "metadata": {
    "colab": {
      "provenance": []
    },
    "kernelspec": {
      "name": "python3",
      "display_name": "Python 3"
    },
    "language_info": {
      "name": "python"
    }
  },
  "cells": [
    {
      "cell_type": "markdown",
      "source": [
        "# Ejemplo de Regresión lineal"
      ],
      "metadata": {
        "id": "eqf9SdW3GIKK"
      }
    },
    {
      "cell_type": "markdown",
      "source": [
        "**Autor**: Alejandro Alonso Puig + ChatGPT-5\n",
        "\n",
        "**Fecha**: Octubre 2025\n",
        "\n",
        "**Licencia**: Apache 2.0"
      ],
      "metadata": {
        "id": "2FwYJA3Wayth"
      }
    },
    {
      "cell_type": "markdown",
      "source": [
        "### Objetivos"
      ],
      "metadata": {
        "id": "5aK9WkUrGdKv"
      }
    },
    {
      "cell_type": "markdown",
      "source": [
        "En este cuaderno vamos a aplicar un modelo de **regresión lineal** utilizando Python y scikit-learn. El objetivo es predecir una variable continua a partir de otras características numéricas, siguiendo el ciclo habitual de trabajo en machine learning.\n",
        "\n",
        "A lo largo del cuaderno realizaremos los siguientes pasos:\n",
        "\n",
        "1. Cargar un conjunto de datos real de ejemplo.\n",
        "2. Explorar brevemente los datos y verificar si requieren preprocesamiento.\n",
        "3. Dividir el conjunto en datos de entrenamiento y prueba.\n",
        "4. Crear y entrenar un modelo de regresión lineal.\n",
        "5. Evaluar el rendimiento del modelo con métricas como RMSE y R².\n",
        "6. Guardar y reutilizar el modelo para hacer nuevas predicciones.\n"
      ],
      "metadata": {
        "id": "O4U3O4WcapU3"
      }
    },
    {
      "cell_type": "markdown",
      "source": [
        "### Preparación del entorno"
      ],
      "metadata": {
        "id": "i1N2O0x8GYhP"
      }
    },
    {
      "cell_type": "markdown",
      "source": [
        "Importamos las librerías necesarias para todo el proceso: manipulación de datos, modelos de regresión, métricas y guardado del modelo."
      ],
      "metadata": {
        "id": "qlH3uVgNH32x"
      }
    },
    {
      "cell_type": "code",
      "source": [
        "import numpy as np                                                  # Operaciones numéricas\n",
        "import pandas as pd                                                 # Manipulación de DataFrames\n",
        "from sklearn.datasets import load_diabetes                          # Dataset clásico de regresión\n",
        "from sklearn.model_selection import train_test_split, GridSearchCV  # División y búsqueda de hiperparámetros\n",
        "from sklearn.preprocessing import StandardScaler                    # Escalado de datos\n",
        "from sklearn.linear_model import LinearRegression, Ridge            # Modelos\n",
        "from sklearn.pipeline import Pipeline                               # Pipeline: escalado + modelo\n",
        "from sklearn.metrics import mean_squared_error, r2_score            # Métricas\n",
        "import joblib                                                       # Guardado/carga del modelo\n"
      ],
      "metadata": {
        "id": "1UShwgDeH4qN"
      },
      "execution_count": 2,
      "outputs": []
    },
    {
      "cell_type": "markdown",
      "source": [
        "### Recolección de datos"
      ],
      "metadata": {
        "id": "_aAYPOGfHFTm"
      }
    },
    {
      "cell_type": "markdown",
      "source": [
        "Usamos un dataset incluido en scikit-learn: `diabetes`, con variables numéricas y un target continuo."
      ],
      "metadata": {
        "id": "4XWlJ2WrILu0"
      }
    },
    {
      "cell_type": "code",
      "source": [
        "data = load_diabetes(as_frame=True)       # Carga como DataFrame\n",
        "X = data.data                             # Variables de entrada\n",
        "y = data.target                           # Variable objetivo\n"
      ],
      "metadata": {
        "id": "QaCjeWMtIIXb"
      },
      "execution_count": 3,
      "outputs": []
    },
    {
      "cell_type": "markdown",
      "source": [
        "### Análisis y preprocesamiento de datos"
      ],
      "metadata": {
        "id": "CBSJXqjeHMKx"
      }
    },
    {
      "cell_type": "markdown",
      "source": [
        "#### Análisis inicial del dataset"
      ],
      "metadata": {
        "id": "NNJOgeEYQTHd"
      }
    },
    {
      "cell_type": "markdown",
      "source": [
        "Antes de entrenar un modelo, conviene responder a preguntas como:\n",
        "\n",
        "*   ¿Faltan datos?\n",
        "*   ¿Hay variables con escalas muy distintas?\n",
        "*   ¿Hay outliers evidentes?\n",
        "*   ¿Es necesario normalizar o escalar?\n",
        "*   ¿Todas las variables son numéricas?"
      ],
      "metadata": {
        "id": "AeWZwDDZJT6N"
      }
    },
    {
      "cell_type": "markdown",
      "source": [
        "**Visualizar las primeras filas**. sirve para:\n",
        "\n",
        "- Verificar que los datos se han cargado correctamente\n",
        "- Entender la estructura del dataset (columnas, tipos de datos, escalas)\n",
        "- Detectar posibles valores atípicos o faltantes al primer vistazo\n",
        "\n",
        "Es un paso básico antes de cualquier análisis o modelado."
      ],
      "metadata": {
        "id": "oGUiB7eIPkh_"
      }
    },
    {
      "cell_type": "code",
      "source": [
        "# Análisis inicial del dataset\n",
        "print(\"Dimensiones del dataset:\", X.shape)  # Tamaño del conjunto de datos\n",
        "print(\"\\nPrimeras filas de X:\")\n",
        "display(X.head())                           # Muestra las primeras filas de datos\n",
        "print(\"\\nPrimeras filas de y:\")\n",
        "display(y.head())                           # Muestra las primeras filas de datos\n",
        "\n"
      ],
      "metadata": {
        "colab": {
          "base_uri": "https://localhost:8080/",
          "height": 517
        },
        "id": "9cyhsCLaJflu",
        "outputId": "9703a412-bbd6-45c8-d10c-44b0ef1b92ee"
      },
      "execution_count": 13,
      "outputs": [
        {
          "output_type": "stream",
          "name": "stdout",
          "text": [
            "Dimensiones del dataset: (442, 10)\n",
            "\n",
            "Primeras filas de X:\n"
          ]
        },
        {
          "output_type": "display_data",
          "data": {
            "text/plain": [
              "        age       sex       bmi        bp        s1        s2        s3  \\\n",
              "0  0.038076  0.050680  0.061696  0.021872 -0.044223 -0.034821 -0.043401   \n",
              "1 -0.001882 -0.044642 -0.051474 -0.026328 -0.008449 -0.019163  0.074412   \n",
              "2  0.085299  0.050680  0.044451 -0.005670 -0.045599 -0.034194 -0.032356   \n",
              "3 -0.089063 -0.044642 -0.011595 -0.036656  0.012191  0.024991 -0.036038   \n",
              "4  0.005383 -0.044642 -0.036385  0.021872  0.003935  0.015596  0.008142   \n",
              "\n",
              "         s4        s5        s6  \n",
              "0 -0.002592  0.019907 -0.017646  \n",
              "1 -0.039493 -0.068332 -0.092204  \n",
              "2 -0.002592  0.002861 -0.025930  \n",
              "3  0.034309  0.022688 -0.009362  \n",
              "4 -0.002592 -0.031988 -0.046641  "
            ],
            "text/html": [
              "\n",
              "  <div id=\"df-a63df5cf-fcff-4d5e-94a9-89accbc1aa32\" class=\"colab-df-container\">\n",
              "    <div>\n",
              "<style scoped>\n",
              "    .dataframe tbody tr th:only-of-type {\n",
              "        vertical-align: middle;\n",
              "    }\n",
              "\n",
              "    .dataframe tbody tr th {\n",
              "        vertical-align: top;\n",
              "    }\n",
              "\n",
              "    .dataframe thead th {\n",
              "        text-align: right;\n",
              "    }\n",
              "</style>\n",
              "<table border=\"1\" class=\"dataframe\">\n",
              "  <thead>\n",
              "    <tr style=\"text-align: right;\">\n",
              "      <th></th>\n",
              "      <th>age</th>\n",
              "      <th>sex</th>\n",
              "      <th>bmi</th>\n",
              "      <th>bp</th>\n",
              "      <th>s1</th>\n",
              "      <th>s2</th>\n",
              "      <th>s3</th>\n",
              "      <th>s4</th>\n",
              "      <th>s5</th>\n",
              "      <th>s6</th>\n",
              "    </tr>\n",
              "  </thead>\n",
              "  <tbody>\n",
              "    <tr>\n",
              "      <th>0</th>\n",
              "      <td>0.038076</td>\n",
              "      <td>0.050680</td>\n",
              "      <td>0.061696</td>\n",
              "      <td>0.021872</td>\n",
              "      <td>-0.044223</td>\n",
              "      <td>-0.034821</td>\n",
              "      <td>-0.043401</td>\n",
              "      <td>-0.002592</td>\n",
              "      <td>0.019907</td>\n",
              "      <td>-0.017646</td>\n",
              "    </tr>\n",
              "    <tr>\n",
              "      <th>1</th>\n",
              "      <td>-0.001882</td>\n",
              "      <td>-0.044642</td>\n",
              "      <td>-0.051474</td>\n",
              "      <td>-0.026328</td>\n",
              "      <td>-0.008449</td>\n",
              "      <td>-0.019163</td>\n",
              "      <td>0.074412</td>\n",
              "      <td>-0.039493</td>\n",
              "      <td>-0.068332</td>\n",
              "      <td>-0.092204</td>\n",
              "    </tr>\n",
              "    <tr>\n",
              "      <th>2</th>\n",
              "      <td>0.085299</td>\n",
              "      <td>0.050680</td>\n",
              "      <td>0.044451</td>\n",
              "      <td>-0.005670</td>\n",
              "      <td>-0.045599</td>\n",
              "      <td>-0.034194</td>\n",
              "      <td>-0.032356</td>\n",
              "      <td>-0.002592</td>\n",
              "      <td>0.002861</td>\n",
              "      <td>-0.025930</td>\n",
              "    </tr>\n",
              "    <tr>\n",
              "      <th>3</th>\n",
              "      <td>-0.089063</td>\n",
              "      <td>-0.044642</td>\n",
              "      <td>-0.011595</td>\n",
              "      <td>-0.036656</td>\n",
              "      <td>0.012191</td>\n",
              "      <td>0.024991</td>\n",
              "      <td>-0.036038</td>\n",
              "      <td>0.034309</td>\n",
              "      <td>0.022688</td>\n",
              "      <td>-0.009362</td>\n",
              "    </tr>\n",
              "    <tr>\n",
              "      <th>4</th>\n",
              "      <td>0.005383</td>\n",
              "      <td>-0.044642</td>\n",
              "      <td>-0.036385</td>\n",
              "      <td>0.021872</td>\n",
              "      <td>0.003935</td>\n",
              "      <td>0.015596</td>\n",
              "      <td>0.008142</td>\n",
              "      <td>-0.002592</td>\n",
              "      <td>-0.031988</td>\n",
              "      <td>-0.046641</td>\n",
              "    </tr>\n",
              "  </tbody>\n",
              "</table>\n",
              "</div>\n",
              "    <div class=\"colab-df-buttons\">\n",
              "\n",
              "  <div class=\"colab-df-container\">\n",
              "    <button class=\"colab-df-convert\" onclick=\"convertToInteractive('df-a63df5cf-fcff-4d5e-94a9-89accbc1aa32')\"\n",
              "            title=\"Convert this dataframe to an interactive table.\"\n",
              "            style=\"display:none;\">\n",
              "\n",
              "  <svg xmlns=\"http://www.w3.org/2000/svg\" height=\"24px\" viewBox=\"0 -960 960 960\">\n",
              "    <path d=\"M120-120v-720h720v720H120Zm60-500h600v-160H180v160Zm220 220h160v-160H400v160Zm0 220h160v-160H400v160ZM180-400h160v-160H180v160Zm440 0h160v-160H620v160ZM180-180h160v-160H180v160Zm440 0h160v-160H620v160Z\"/>\n",
              "  </svg>\n",
              "    </button>\n",
              "\n",
              "  <style>\n",
              "    .colab-df-container {\n",
              "      display:flex;\n",
              "      gap: 12px;\n",
              "    }\n",
              "\n",
              "    .colab-df-convert {\n",
              "      background-color: #E8F0FE;\n",
              "      border: none;\n",
              "      border-radius: 50%;\n",
              "      cursor: pointer;\n",
              "      display: none;\n",
              "      fill: #1967D2;\n",
              "      height: 32px;\n",
              "      padding: 0 0 0 0;\n",
              "      width: 32px;\n",
              "    }\n",
              "\n",
              "    .colab-df-convert:hover {\n",
              "      background-color: #E2EBFA;\n",
              "      box-shadow: 0px 1px 2px rgba(60, 64, 67, 0.3), 0px 1px 3px 1px rgba(60, 64, 67, 0.15);\n",
              "      fill: #174EA6;\n",
              "    }\n",
              "\n",
              "    .colab-df-buttons div {\n",
              "      margin-bottom: 4px;\n",
              "    }\n",
              "\n",
              "    [theme=dark] .colab-df-convert {\n",
              "      background-color: #3B4455;\n",
              "      fill: #D2E3FC;\n",
              "    }\n",
              "\n",
              "    [theme=dark] .colab-df-convert:hover {\n",
              "      background-color: #434B5C;\n",
              "      box-shadow: 0px 1px 3px 1px rgba(0, 0, 0, 0.15);\n",
              "      filter: drop-shadow(0px 1px 2px rgba(0, 0, 0, 0.3));\n",
              "      fill: #FFFFFF;\n",
              "    }\n",
              "  </style>\n",
              "\n",
              "    <script>\n",
              "      const buttonEl =\n",
              "        document.querySelector('#df-a63df5cf-fcff-4d5e-94a9-89accbc1aa32 button.colab-df-convert');\n",
              "      buttonEl.style.display =\n",
              "        google.colab.kernel.accessAllowed ? 'block' : 'none';\n",
              "\n",
              "      async function convertToInteractive(key) {\n",
              "        const element = document.querySelector('#df-a63df5cf-fcff-4d5e-94a9-89accbc1aa32');\n",
              "        const dataTable =\n",
              "          await google.colab.kernel.invokeFunction('convertToInteractive',\n",
              "                                                    [key], {});\n",
              "        if (!dataTable) return;\n",
              "\n",
              "        const docLinkHtml = 'Like what you see? Visit the ' +\n",
              "          '<a target=\"_blank\" href=https://colab.research.google.com/notebooks/data_table.ipynb>data table notebook</a>'\n",
              "          + ' to learn more about interactive tables.';\n",
              "        element.innerHTML = '';\n",
              "        dataTable['output_type'] = 'display_data';\n",
              "        await google.colab.output.renderOutput(dataTable, element);\n",
              "        const docLink = document.createElement('div');\n",
              "        docLink.innerHTML = docLinkHtml;\n",
              "        element.appendChild(docLink);\n",
              "      }\n",
              "    </script>\n",
              "  </div>\n",
              "\n",
              "\n",
              "    <div id=\"df-31d7c341-b82f-4e0a-a3d2-2757e1e2c91e\">\n",
              "      <button class=\"colab-df-quickchart\" onclick=\"quickchart('df-31d7c341-b82f-4e0a-a3d2-2757e1e2c91e')\"\n",
              "                title=\"Suggest charts\"\n",
              "                style=\"display:none;\">\n",
              "\n",
              "<svg xmlns=\"http://www.w3.org/2000/svg\" height=\"24px\"viewBox=\"0 0 24 24\"\n",
              "     width=\"24px\">\n",
              "    <g>\n",
              "        <path d=\"M19 3H5c-1.1 0-2 .9-2 2v14c0 1.1.9 2 2 2h14c1.1 0 2-.9 2-2V5c0-1.1-.9-2-2-2zM9 17H7v-7h2v7zm4 0h-2V7h2v10zm4 0h-2v-4h2v4z\"/>\n",
              "    </g>\n",
              "</svg>\n",
              "      </button>\n",
              "\n",
              "<style>\n",
              "  .colab-df-quickchart {\n",
              "      --bg-color: #E8F0FE;\n",
              "      --fill-color: #1967D2;\n",
              "      --hover-bg-color: #E2EBFA;\n",
              "      --hover-fill-color: #174EA6;\n",
              "      --disabled-fill-color: #AAA;\n",
              "      --disabled-bg-color: #DDD;\n",
              "  }\n",
              "\n",
              "  [theme=dark] .colab-df-quickchart {\n",
              "      --bg-color: #3B4455;\n",
              "      --fill-color: #D2E3FC;\n",
              "      --hover-bg-color: #434B5C;\n",
              "      --hover-fill-color: #FFFFFF;\n",
              "      --disabled-bg-color: #3B4455;\n",
              "      --disabled-fill-color: #666;\n",
              "  }\n",
              "\n",
              "  .colab-df-quickchart {\n",
              "    background-color: var(--bg-color);\n",
              "    border: none;\n",
              "    border-radius: 50%;\n",
              "    cursor: pointer;\n",
              "    display: none;\n",
              "    fill: var(--fill-color);\n",
              "    height: 32px;\n",
              "    padding: 0;\n",
              "    width: 32px;\n",
              "  }\n",
              "\n",
              "  .colab-df-quickchart:hover {\n",
              "    background-color: var(--hover-bg-color);\n",
              "    box-shadow: 0 1px 2px rgba(60, 64, 67, 0.3), 0 1px 3px 1px rgba(60, 64, 67, 0.15);\n",
              "    fill: var(--button-hover-fill-color);\n",
              "  }\n",
              "\n",
              "  .colab-df-quickchart-complete:disabled,\n",
              "  .colab-df-quickchart-complete:disabled:hover {\n",
              "    background-color: var(--disabled-bg-color);\n",
              "    fill: var(--disabled-fill-color);\n",
              "    box-shadow: none;\n",
              "  }\n",
              "\n",
              "  .colab-df-spinner {\n",
              "    border: 2px solid var(--fill-color);\n",
              "    border-color: transparent;\n",
              "    border-bottom-color: var(--fill-color);\n",
              "    animation:\n",
              "      spin 1s steps(1) infinite;\n",
              "  }\n",
              "\n",
              "  @keyframes spin {\n",
              "    0% {\n",
              "      border-color: transparent;\n",
              "      border-bottom-color: var(--fill-color);\n",
              "      border-left-color: var(--fill-color);\n",
              "    }\n",
              "    20% {\n",
              "      border-color: transparent;\n",
              "      border-left-color: var(--fill-color);\n",
              "      border-top-color: var(--fill-color);\n",
              "    }\n",
              "    30% {\n",
              "      border-color: transparent;\n",
              "      border-left-color: var(--fill-color);\n",
              "      border-top-color: var(--fill-color);\n",
              "      border-right-color: var(--fill-color);\n",
              "    }\n",
              "    40% {\n",
              "      border-color: transparent;\n",
              "      border-right-color: var(--fill-color);\n",
              "      border-top-color: var(--fill-color);\n",
              "    }\n",
              "    60% {\n",
              "      border-color: transparent;\n",
              "      border-right-color: var(--fill-color);\n",
              "    }\n",
              "    80% {\n",
              "      border-color: transparent;\n",
              "      border-right-color: var(--fill-color);\n",
              "      border-bottom-color: var(--fill-color);\n",
              "    }\n",
              "    90% {\n",
              "      border-color: transparent;\n",
              "      border-bottom-color: var(--fill-color);\n",
              "    }\n",
              "  }\n",
              "</style>\n",
              "\n",
              "      <script>\n",
              "        async function quickchart(key) {\n",
              "          const quickchartButtonEl =\n",
              "            document.querySelector('#' + key + ' button');\n",
              "          quickchartButtonEl.disabled = true;  // To prevent multiple clicks.\n",
              "          quickchartButtonEl.classList.add('colab-df-spinner');\n",
              "          try {\n",
              "            const charts = await google.colab.kernel.invokeFunction(\n",
              "                'suggestCharts', [key], {});\n",
              "          } catch (error) {\n",
              "            console.error('Error during call to suggestCharts:', error);\n",
              "          }\n",
              "          quickchartButtonEl.classList.remove('colab-df-spinner');\n",
              "          quickchartButtonEl.classList.add('colab-df-quickchart-complete');\n",
              "        }\n",
              "        (() => {\n",
              "          let quickchartButtonEl =\n",
              "            document.querySelector('#df-31d7c341-b82f-4e0a-a3d2-2757e1e2c91e button');\n",
              "          quickchartButtonEl.style.display =\n",
              "            google.colab.kernel.accessAllowed ? 'block' : 'none';\n",
              "        })();\n",
              "      </script>\n",
              "    </div>\n",
              "\n",
              "    </div>\n",
              "  </div>\n"
            ],
            "application/vnd.google.colaboratory.intrinsic+json": {
              "type": "dataframe",
              "summary": "{\n  \"name\": \"display(y\",\n  \"rows\": 5,\n  \"fields\": [\n    {\n      \"column\": \"age\",\n      \"properties\": {\n        \"dtype\": \"number\",\n        \"std\": 0.06403991180428206,\n        \"min\": -0.0890629393522567,\n        \"max\": 0.08529890629667548,\n        \"num_unique_values\": 5,\n        \"samples\": [\n          -0.0018820165277906047,\n          0.005383060374248237,\n          0.08529890629667548\n        ],\n        \"semantic_type\": \"\",\n        \"description\": \"\"\n      }\n    },\n    {\n      \"column\": \"sex\",\n      \"properties\": {\n        \"dtype\": \"number\",\n        \"std\": 0.052209875569663035,\n        \"min\": -0.044641636506989144,\n        \"max\": 0.05068011873981862,\n        \"num_unique_values\": 2,\n        \"samples\": [\n          -0.044641636506989144,\n          0.05068011873981862\n        ],\n        \"semantic_type\": \"\",\n        \"description\": \"\"\n      }\n    },\n    {\n      \"column\": \"bmi\",\n      \"properties\": {\n        \"dtype\": \"number\",\n        \"std\": 0.04970221433529666,\n        \"min\": -0.051474061238800654,\n        \"max\": 0.061696206518683294,\n        \"num_unique_values\": 5,\n        \"samples\": [\n          -0.051474061238800654,\n          -0.03638469220446948\n        ],\n        \"semantic_type\": \"\",\n        \"description\": \"\"\n      }\n    },\n    {\n      \"column\": \"bp\",\n      \"properties\": {\n        \"dtype\": \"number\",\n        \"std\": 0.026933570835012948,\n        \"min\": -0.03665608107540074,\n        \"max\": 0.0218723855140367,\n        \"num_unique_values\": 4,\n        \"samples\": [\n          -0.02632752814785296,\n          -0.03665608107540074\n        ],\n        \"semantic_type\": \"\",\n        \"description\": \"\"\n      }\n    },\n    {\n      \"column\": \"s1\",\n      \"properties\": {\n        \"dtype\": \"number\",\n        \"std\": 0.027022677246424903,\n        \"min\": -0.04559945128264711,\n        \"max\": 0.01219056876179996,\n        \"num_unique_values\": 5,\n        \"samples\": [\n          -0.008448724111216851,\n          0.003934851612593237\n        ],\n        \"semantic_type\": \"\",\n        \"description\": \"\"\n      }\n    },\n    {\n      \"column\": \"s2\",\n      \"properties\": {\n        \"dtype\": \"number\",\n        \"std\": 0.02812362607636992,\n        \"min\": -0.03482076283769895,\n        \"max\": 0.02499059336410222,\n        \"num_unique_values\": 5,\n        \"samples\": [\n          -0.019163339748222204,\n          0.015596139510416171\n        ],\n        \"semantic_type\": \"\",\n        \"description\": \"\"\n      }\n    },\n    {\n      \"column\": \"s3\",\n      \"properties\": {\n        \"dtype\": \"number\",\n        \"std\": 0.049146762082866786,\n        \"min\": -0.04340084565202491,\n        \"max\": 0.07441156407875721,\n        \"num_unique_values\": 5,\n        \"samples\": [\n          0.07441156407875721,\n          0.008142083605192267\n        ],\n        \"semantic_type\": \"\",\n        \"description\": \"\"\n      }\n    },\n    {\n      \"column\": \"s4\",\n      \"properties\": {\n        \"dtype\": \"number\",\n        \"std\": 0.02609303280474044,\n        \"min\": -0.03949338287409329,\n        \"max\": 0.03430885887772673,\n        \"num_unique_values\": 3,\n        \"samples\": [\n          -0.002592261998183278,\n          -0.03949338287409329\n        ],\n        \"semantic_type\": \"\",\n        \"description\": \"\"\n      }\n    },\n    {\n      \"column\": \"s5\",\n      \"properties\": {\n        \"dtype\": \"number\",\n        \"std\": 0.03876098646766808,\n        \"min\": -0.0683315470939731,\n        \"max\": 0.022687744966501246,\n        \"num_unique_values\": 5,\n        \"samples\": [\n          -0.0683315470939731,\n          -0.03198763948805312\n        ],\n        \"semantic_type\": \"\",\n        \"description\": \"\"\n      }\n    },\n    {\n      \"column\": \"s6\",\n      \"properties\": {\n        \"dtype\": \"number\",\n        \"std\": 0.03313685531867565,\n        \"min\": -0.092204049626824,\n        \"max\": -0.009361911330134878,\n        \"num_unique_values\": 5,\n        \"samples\": [\n          -0.092204049626824,\n          -0.04664087356364498\n        ],\n        \"semantic_type\": \"\",\n        \"description\": \"\"\n      }\n    }\n  ]\n}"
            }
          },
          "metadata": {}
        },
        {
          "output_type": "stream",
          "name": "stdout",
          "text": [
            "\n",
            "Primeras filas de y:\n"
          ]
        },
        {
          "output_type": "display_data",
          "data": {
            "text/plain": [
              "0    151.0\n",
              "1     75.0\n",
              "2    141.0\n",
              "3    206.0\n",
              "4    135.0\n",
              "Name: target, dtype: float64"
            ],
            "text/html": [
              "<div>\n",
              "<style scoped>\n",
              "    .dataframe tbody tr th:only-of-type {\n",
              "        vertical-align: middle;\n",
              "    }\n",
              "\n",
              "    .dataframe tbody tr th {\n",
              "        vertical-align: top;\n",
              "    }\n",
              "\n",
              "    .dataframe thead th {\n",
              "        text-align: right;\n",
              "    }\n",
              "</style>\n",
              "<table border=\"1\" class=\"dataframe\">\n",
              "  <thead>\n",
              "    <tr style=\"text-align: right;\">\n",
              "      <th></th>\n",
              "      <th>target</th>\n",
              "    </tr>\n",
              "  </thead>\n",
              "  <tbody>\n",
              "    <tr>\n",
              "      <th>0</th>\n",
              "      <td>151.0</td>\n",
              "    </tr>\n",
              "    <tr>\n",
              "      <th>1</th>\n",
              "      <td>75.0</td>\n",
              "    </tr>\n",
              "    <tr>\n",
              "      <th>2</th>\n",
              "      <td>141.0</td>\n",
              "    </tr>\n",
              "    <tr>\n",
              "      <th>3</th>\n",
              "      <td>206.0</td>\n",
              "    </tr>\n",
              "    <tr>\n",
              "      <th>4</th>\n",
              "      <td>135.0</td>\n",
              "    </tr>\n",
              "  </tbody>\n",
              "</table>\n",
              "</div><br><label><b>dtype:</b> float64</label>"
            ]
          },
          "metadata": {}
        }
      ]
    },
    {
      "cell_type": "markdown",
      "source": [
        "Cada fila representa a un paciente, y las columnas son variables\n",
        "\n",
        "| Variable | Significado aproximado                        |\n",
        "| -------- | --------------------------------------------- |\n",
        "| `age`    | Edad del paciente (normalizada)               |\n",
        "| `sex`    | Sexo (codificado como -0.0446 o 0.0506)       |\n",
        "| `bmi`    | Índice de masa corporal                       |\n",
        "| `bp`     | Presión arterial promedio                     |\n",
        "| `s1`     | Colesterol total en sangre (probable)         |\n",
        "| `s2`     | LDL (colesterol “malo”)                       |\n",
        "| `s3`     | HDL (colesterol “bueno”)                      |\n",
        "| `s4`     | Relación entre colesterol total y HDL         |\n",
        "| `s5`     | Niveles de azúcar en sangre (similar a HbA1c) |\n",
        "| `s6`     | Nivel de insulina o similar                   |\n",
        "\n",
        "| Variable | Significado aproximado                        |\n",
        "| -------- | --------------------------------------------- |\n",
        "| `target` | Progresión de la diabetes un año después (medida continua, derivada de datos clínicos como evolución de glucosa, complicaciones, etc.) |\n",
        "\n"
      ],
      "metadata": {
        "id": "TQ0gu343ObXW"
      }
    },
    {
      "cell_type": "markdown",
      "source": [
        "**Verificar valores nulos**\n",
        "Verificamos valores nulos para evitar errores durante el entrenamiento y asegurar que el modelo trabaje con datos completos y consistentes."
      ],
      "metadata": {
        "id": "3e6AUXBpP4Xa"
      }
    },
    {
      "cell_type": "code",
      "source": [
        "print(\"\\nCantidad de valores nulos por variable:\")\n",
        "print(X.isnull().sum())                     # Comprueba valores faltantes\n"
      ],
      "metadata": {
        "colab": {
          "base_uri": "https://localhost:8080/"
        },
        "id": "nqxkElGSP6s3",
        "outputId": "6fe9ee44-347d-4ada-c7bc-cdb970f54da1"
      },
      "execution_count": 10,
      "outputs": [
        {
          "output_type": "stream",
          "name": "stdout",
          "text": [
            "\n",
            "Cantidad de valores nulos por variable:\n",
            "age    0\n",
            "sex    0\n",
            "bmi    0\n",
            "bp     0\n",
            "s1     0\n",
            "s2     0\n",
            "s3     0\n",
            "s4     0\n",
            "s5     0\n",
            "s6     0\n",
            "dtype: int64\n"
          ]
        }
      ]
    },
    {
      "cell_type": "markdown",
      "source": [
        "**Histograma de distribución de las variables**\n",
        "\n",
        "Esto permite ver si los datos están centrados, si hay sesgo o outliers visuales. Si aparecen variables con distribuciones muy asimétricas, valores extremos o escalas diferentes, conviene considerar normalización o transformación logarítmica."
      ],
      "metadata": {
        "id": "ZuGuHdCsKdLU"
      }
    },
    {
      "cell_type": "code",
      "source": [
        "import matplotlib.pyplot as plt\n",
        "import seaborn as sns\n",
        "\n",
        "X.hist(bins=20, figsize=(12, 8))  # Histograma por variable\n",
        "plt.suptitle(\"Distribución de las variables del dataset\")\n",
        "plt.tight_layout()\n",
        "plt.show()\n"
      ],
      "metadata": {
        "colab": {
          "base_uri": "https://localhost:8080/",
          "height": 805
        },
        "id": "Um8By3PUKiG8",
        "outputId": "6ec251aa-6a2c-4d78-95eb-5418bea4b9b7"
      },
      "execution_count": 6,
      "outputs": [
        {
          "output_type": "display_data",
          "data": {
            "text/plain": [
              "<Figure size 1200x800 with 12 Axes>"
            ],
            "image/png": "[encoded data removed]"
          },
          "metadata": {}
        }
      ]
    },
    {
      "cell_type": "markdown",
      "source": [
        "*Observaciones: La mayoría de las variables están razonablemente distribuidas, pero es importante detectar casos como sex (binaria) y s4 (discreta o problemática). Además, variables muy correlacionadas como s1 y s2 podrían causar redundancia. Todo esto debe revisarse antes de entrenar un modelo para evitar errores y mejorar la precisión.*"
      ],
      "metadata": {
        "id": "ycPz5SaGM1Dc"
      }
    },
    {
      "cell_type": "markdown",
      "source": [
        "**Mapa de calor de correlaciones**\n",
        "\n",
        "Esto te permite ver si hay variables muy correlacionadas, lo cual puede influir en la regresión.\n",
        "Si hay pares de variables con correlación cercana a 1 o -1, puede que estén aportando información redundante."
      ],
      "metadata": {
        "id": "BeaNV7t8K_Hd"
      }
    },
    {
      "cell_type": "code",
      "source": [
        "plt.figure(figsize=(10, 8))\n",
        "sns.heatmap(X.corr(), annot=True, fmt=\".2f\", cmap=\"coolwarm\")\n",
        "plt.title(\"Matriz de correlaciones entre variables\")\n",
        "plt.show()\n"
      ],
      "metadata": {
        "colab": {
          "base_uri": "https://localhost:8080/",
          "height": 699
        },
        "id": "gO5ix3m2LELn",
        "outputId": "d621125b-fa66-4e77-ddb2-cfef18dfe291"
      },
      "execution_count": 7,
      "outputs": [
        {
          "output_type": "display_data",
          "data": {
            "text/plain": [
              "<Figure size 1000x800 with 2 Axes>"
            ],
            "image/png": "[encoded data removed]"
          },
          "metadata": {}
        }
      ]
    },
    {
      "cell_type": "markdown",
      "source": [
        "*Observaciones: Hemos detectado que las variables S1 y S2 están altamente correlacionadas (r = 0.9), lo que sugiere que aportan información redundante.\n",
        "Aunque en regresión lineal simple esto no es crítico, en modelos más complejos (como regresión múltiple o regularizada) puede generar problemas dificultando la interpretación.*"
      ],
      "metadata": {
        "id": "_XQAyUZBL6YL"
      }
    },
    {
      "cell_type": "markdown",
      "source": [
        "####Preprocesamiento"
      ],
      "metadata": {
        "id": "pWBc7gnuQ197"
      }
    },
    {
      "cell_type": "markdown",
      "source": [
        "Dado que los datos ya están normalizados y no presentan valores nulos ni atípicos evidentes, y al ser un ejemplo sencillo de regresión lineal, podemos obviar el preprocesamiento adicional y proceder directamente al entrenamiento del modelo."
      ],
      "metadata": {
        "id": "b-B7Q4RVQ6TY"
      }
    },
    {
      "cell_type": "markdown",
      "source": [
        "### División de los datos"
      ],
      "metadata": {
        "id": "NtCey-AZHcUM"
      }
    },
    {
      "cell_type": "markdown",
      "source": [
        "X contiene las variables predictoras normalizadas del paciente y y contiene un valor numérico que representa la progresión de la diabetes un año después.\n",
        "\n",
        "Dividimos el conjunto total en entrenamiento (80%) y test (20%)."
      ],
      "metadata": {
        "id": "wrmj8Qj0IZ53"
      }
    },
    {
      "cell_type": "code",
      "source": [
        "X_train, X_test, y_train, y_test = train_test_split(\n",
        "    X, y, test_size=0.2, random_state=42, shuffle=True\n",
        ")\n"
      ],
      "metadata": {
        "id": "7v_3DrljIbtt"
      },
      "execution_count": 4,
      "outputs": []
    },
    {
      "cell_type": "markdown",
      "source": [
        "### Entrenamiento del modelo"
      ],
      "metadata": {
        "id": "tXV16BcVHgqe"
      }
    },
    {
      "cell_type": "markdown",
      "source": [
        "Antes de entrenar el modelo, agrupamos varios pasos en un solo flujo usando un pipeline. Un pipeline nos permite encadenar operaciones de preprocesamiento y entrenamiento, asegurando que se apliquen siempre en el mismo orden y evitando errores.\n",
        "\n",
        "Primero, normalizamos los datos usando `StandardScaler`, que ajusta cada variable para que tenga media 0 y desviación típica 1. Esto es útil porque muchas técnicas de aprendizaje automático (como la regresión) funcionan mejor si las variables están en la misma escala.\n",
        "\n",
        "Luego aplicamos una regresión lineal con `LinearRegression`, que intenta encontrar la línea (o plano) que mejor se ajusta a los datos para predecir el resultado."
      ],
      "metadata": {
        "id": "AuTyBN89U8KH"
      }
    },
    {
      "cell_type": "code",
      "source": [
        "pipe = Pipeline([\n",
        "    (\"scaler\", StandardScaler()),         # Normaliza las características (media 0, desviación típica 1)\n",
        "    (\"model\", LinearRegression())         # Modelo de regresión lineal\n",
        "])\n",
        "\n",
        "pipe.fit(X_train, y_train)               # Entrenamiento del modelo con los datos de entrenamiento\n"
      ],
      "metadata": {
        "colab": {
          "base_uri": "https://localhost:8080/",
          "height": 157
        },
        "id": "4G89F8uxVOsj",
        "outputId": "da2c84e7-2a11-4f87-cfc9-ccc038fef286"
      },
      "execution_count": 14,
      "outputs": [
        {
          "output_type": "execute_result",
          "data": {
            "text/plain": [
              "Pipeline(steps=[('scaler', StandardScaler()), ('model', LinearRegression())])"
            ],
            "text/html": [
              "<style>#sk-container-id-1 {\n",
              "  /* Definition of color scheme common for light and dark mode */\n",
              "  --sklearn-color-text: #000;\n",
              "  --sklearn-color-text-muted: #666;\n",
              "  --sklearn-color-line: gray;\n",
              "  /* Definition of color scheme for unfitted estimators */\n",
              "  --sklearn-color-unfitted-level-0: #fff5e6;\n",
              "  --sklearn-color-unfitted-level-1: #f6e4d2;\n",
              "  --sklearn-color-unfitted-level-2: #ffe0b3;\n",
              "  --sklearn-color-unfitted-level-3: chocolate;\n",
              "  /* Definition of color scheme for fitted estimators */\n",
              "  --sklearn-color-fitted-level-0: #f0f8ff;\n",
              "  --sklearn-color-fitted-level-1: #d4ebff;\n",
              "  --sklearn-color-fitted-level-2: #b3dbfd;\n",
              "  --sklearn-color-fitted-level-3: cornflowerblue;\n",
              "\n",
              "  /* Specific color for light theme */\n",
              "  --sklearn-color-text-on-default-background: var(--sg-text-color, var(--theme-code-foreground, var(--jp-content-font-color1, black)));\n",
              "  --sklearn-color-background: var(--sg-background-color, var(--theme-background, var(--jp-layout-color0, white)));\n",
              "  --sklearn-color-border-box: var(--sg-text-color, var(--theme-code-foreground, var(--jp-content-font-color1, black)));\n",
              "  --sklearn-color-icon: #696969;\n",
              "\n",
              "  @media (prefers-color-scheme: dark) {\n",
              "    /* Redefinition of color scheme for dark theme */\n",
              "    --sklearn-color-text-on-default-background: var(--sg-text-color, var(--theme-code-foreground, var(--jp-content-font-color1, white)));\n",
              "    --sklearn-color-background: var(--sg-background-color, var(--theme-background, var(--jp-layout-color0, #111)));\n",
              "    --sklearn-color-border-box: var(--sg-text-color, var(--theme-code-foreground, var(--jp-content-font-color1, white)));\n",
              "    --sklearn-color-icon: #878787;\n",
              "  }\n",
              "}\n",
              "\n",
              "#sk-container-id-1 {\n",
              "  color: var(--sklearn-color-text);\n",
              "}\n",
              "\n",
              "#sk-container-id-1 pre {\n",
              "  padding: 0;\n",
              "}\n",
              "\n",
              "#sk-container-id-1 input.sk-hidden--visually {\n",
              "  border: 0;\n",
              "  clip: rect(1px 1px 1px 1px);\n",
              "  clip: rect(1px, 1px, 1px, 1px);\n",
              "  height: 1px;\n",
              "  margin: -1px;\n",
              "  overflow: hidden;\n",
              "  padding: 0;\n",
              "  position: absolute;\n",
              "  width: 1px;\n",
              "}\n",
              "\n",
              "#sk-container-id-1 div.sk-dashed-wrapped {\n",
              "  border: 1px dashed var(--sklearn-color-line);\n",
              "  margin: 0 0.4em 0.5em 0.4em;\n",
              "  box-sizing: border-box;\n",
              "  padding-bottom: 0.4em;\n",
              "  background-color: var(--sklearn-color-background);\n",
              "}\n",
              "\n",
              "#sk-container-id-1 div.sk-container {\n",
              "  /* jupyter's `normalize.less` sets `[hidden] { display: none; }`\n",
              "     but bootstrap.min.css set `[hidden] { display: none !important; }`\n",
              "     so we also need the `!important` here to be able to override the\n",
              "     default hidden behavior on the sphinx rendered scikit-learn.org.\n",
              "     See: https://github.com/scikit-learn/scikit-learn/issues/21755 */\n",
              "  display: inline-block !important;\n",
              "  position: relative;\n",
              "}\n",
              "\n",
              "#sk-container-id-1 div.sk-text-repr-fallback {\n",
              "  display: none;\n",
              "}\n",
              "\n",
              "div.sk-parallel-item,\n",
              "div.sk-serial,\n",
              "div.sk-item {\n",
              "  /* draw centered vertical line to link estimators */\n",
              "  background-image: linear-gradient(var(--sklearn-color-text-on-default-background), var(--sklearn-color-text-on-default-background));\n",
              "  background-size: 2px 100%;\n",
              "  background-repeat: no-repeat;\n",
              "  background-position: center center;\n",
              "}\n",
              "\n",
              "/* Parallel-specific style estimator block */\n",
              "\n",
              "#sk-container-id-1 div.sk-parallel-item::after {\n",
              "  content: \"\";\n",
              "  width: 100%;\n",
              "  border-bottom: 2px solid var(--sklearn-color-text-on-default-background);\n",
              "  flex-grow: 1;\n",
              "}\n",
              "\n",
              "#sk-container-id-1 div.sk-parallel {\n",
              "  display: flex;\n",
              "  align-items: stretch;\n",
              "  justify-content: center;\n",
              "  background-color: var(--sklearn-color-background);\n",
              "  position: relative;\n",
              "}\n",
              "\n",
              "#sk-container-id-1 div.sk-parallel-item {\n",
              "  display: flex;\n",
              "  flex-direction: column;\n",
              "}\n",
              "\n",
              "#sk-container-id-1 div.sk-parallel-item:first-child::after {\n",
              "  align-self: flex-end;\n",
              "  width: 50%;\n",
              "}\n",
              "\n",
              "#sk-container-id-1 div.sk-parallel-item:last-child::after {\n",
              "  align-self: flex-start;\n",
              "  width: 50%;\n",
              "}\n",
              "\n",
              "#sk-container-id-1 div.sk-parallel-item:only-child::after {\n",
              "  width: 0;\n",
              "}\n",
              "\n",
              "/* Serial-specific style estimator block */\n",
              "\n",
              "#sk-container-id-1 div.sk-serial {\n",
              "  display: flex;\n",
              "  flex-direction: column;\n",
              "  align-items: center;\n",
              "  background-color: var(--sklearn-color-background);\n",
              "  padding-right: 1em;\n",
              "  padding-left: 1em;\n",
              "}\n",
              "\n",
              "\n",
              "/* Toggleable style: style used for estimator/Pipeline/ColumnTransformer box that is\n",
              "clickable and can be expanded/collapsed.\n",
              "- Pipeline and ColumnTransformer use this feature and define the default style\n",
              "- Estimators will overwrite some part of the style using the `sk-estimator` class\n",
              "*/\n",
              "\n",
              "/* Pipeline and ColumnTransformer style (default) */\n",
              "\n",
              "#sk-container-id-1 div.sk-toggleable {\n",
              "  /* Default theme specific background. It is overwritten whether we have a\n",
              "  specific estimator or a Pipeline/ColumnTransformer */\n",
              "  background-color: var(--sklearn-color-background);\n",
              "}\n",
              "\n",
              "/* Toggleable label */\n",
              "#sk-container-id-1 label.sk-toggleable__label {\n",
              "  cursor: pointer;\n",
              "  display: flex;\n",
              "  width: 100%;\n",
              "  margin-bottom: 0;\n",
              "  padding: 0.5em;\n",
              "  box-sizing: border-box;\n",
              "  text-align: center;\n",
              "  align-items: start;\n",
              "  justify-content: space-between;\n",
              "  gap: 0.5em;\n",
              "}\n",
              "\n",
              "#sk-container-id-1 label.sk-toggleable__label .caption {\n",
              "  font-size: 0.6rem;\n",
              "  font-weight: lighter;\n",
              "  color: var(--sklearn-color-text-muted);\n",
              "}\n",
              "\n",
              "#sk-container-id-1 label.sk-toggleable__label-arrow:before {\n",
              "  /* Arrow on the left of the label */\n",
              "  content: \"▸\";\n",
              "  float: left;\n",
              "  margin-right: 0.25em;\n",
              "  color: var(--sklearn-color-icon);\n",
              "}\n",
              "\n",
              "#sk-container-id-1 label.sk-toggleable__label-arrow:hover:before {\n",
              "  color: var(--sklearn-color-text);\n",
              "}\n",
              "\n",
              "/* Toggleable content - dropdown */\n",
              "\n",
              "#sk-container-id-1 div.sk-toggleable__content {\n",
              "  max-height: 0;\n",
              "  max-width: 0;\n",
              "  overflow: hidden;\n",
              "  text-align: left;\n",
              "  /* unfitted */\n",
              "  background-color: var(--sklearn-color-unfitted-level-0);\n",
              "}\n",
              "\n",
              "#sk-container-id-1 div.sk-toggleable__content.fitted {\n",
              "  /* fitted */\n",
              "  background-color: var(--sklearn-color-fitted-level-0);\n",
              "}\n",
              "\n",
              "#sk-container-id-1 div.sk-toggleable__content pre {\n",
              "  margin: 0.2em;\n",
              "  border-radius: 0.25em;\n",
              "  color: var(--sklearn-color-text);\n",
              "  /* unfitted */\n",
              "  background-color: var(--sklearn-color-unfitted-level-0);\n",
              "}\n",
              "\n",
              "#sk-container-id-1 div.sk-toggleable__content.fitted pre {\n",
              "  /* unfitted */\n",
              "  background-color: var(--sklearn-color-fitted-level-0);\n",
              "}\n",
              "\n",
              "#sk-container-id-1 input.sk-toggleable__control:checked~div.sk-toggleable__content {\n",
              "  /* Expand drop-down */\n",
              "  max-height: 200px;\n",
              "  max-width: 100%;\n",
              "  overflow: auto;\n",
              "}\n",
              "\n",
              "#sk-container-id-1 input.sk-toggleable__control:checked~label.sk-toggleable__label-arrow:before {\n",
              "  content: \"▾\";\n",
              "}\n",
              "\n",
              "/* Pipeline/ColumnTransformer-specific style */\n",
              "\n",
              "#sk-container-id-1 div.sk-label input.sk-toggleable__control:checked~label.sk-toggleable__label {\n",
              "  color: var(--sklearn-color-text);\n",
              "  background-color: var(--sklearn-color-unfitted-level-2);\n",
              "}\n",
              "\n",
              "#sk-container-id-1 div.sk-label.fitted input.sk-toggleable__control:checked~label.sk-toggleable__label {\n",
              "  background-color: var(--sklearn-color-fitted-level-2);\n",
              "}\n",
              "\n",
              "/* Estimator-specific style */\n",
              "\n",
              "/* Colorize estimator box */\n",
              "#sk-container-id-1 div.sk-estimator input.sk-toggleable__control:checked~label.sk-toggleable__label {\n",
              "  /* unfitted */\n",
              "  background-color: var(--sklearn-color-unfitted-level-2);\n",
              "}\n",
              "\n",
              "#sk-container-id-1 div.sk-estimator.fitted input.sk-toggleable__control:checked~label.sk-toggleable__label {\n",
              "  /* fitted */\n",
              "  background-color: var(--sklearn-color-fitted-level-2);\n",
              "}\n",
              "\n",
              "#sk-container-id-1 div.sk-label label.sk-toggleable__label,\n",
              "#sk-container-id-1 div.sk-label label {\n",
              "  /* The background is the default theme color */\n",
              "  color: var(--sklearn-color-text-on-default-background);\n",
              "}\n",
              "\n",
              "/* On hover, darken the color of the background */\n",
              "#sk-container-id-1 div.sk-label:hover label.sk-toggleable__label {\n",
              "  color: var(--sklearn-color-text);\n",
              "  background-color: var(--sklearn-color-unfitted-level-2);\n",
              "}\n",
              "\n",
              "/* Label box, darken color on hover, fitted */\n",
              "#sk-container-id-1 div.sk-label.fitted:hover label.sk-toggleable__label.fitted {\n",
              "  color: var(--sklearn-color-text);\n",
              "  background-color: var(--sklearn-color-fitted-level-2);\n",
              "}\n",
              "\n",
              "/* Estimator label */\n",
              "\n",
              "#sk-container-id-1 div.sk-label label {\n",
              "  font-family: monospace;\n",
              "  font-weight: bold;\n",
              "  display: inline-block;\n",
              "  line-height: 1.2em;\n",
              "}\n",
              "\n",
              "#sk-container-id-1 div.sk-label-container {\n",
              "  text-align: center;\n",
              "}\n",
              "\n",
              "/* Estimator-specific */\n",
              "#sk-container-id-1 div.sk-estimator {\n",
              "  font-family: monospace;\n",
              "  border: 1px dotted var(--sklearn-color-border-box);\n",
              "  border-radius: 0.25em;\n",
              "  box-sizing: border-box;\n",
              "  margin-bottom: 0.5em;\n",
              "  /* unfitted */\n",
              "  background-color: var(--sklearn-color-unfitted-level-0);\n",
              "}\n",
              "\n",
              "#sk-container-id-1 div.sk-estimator.fitted {\n",
              "  /* fitted */\n",
              "  background-color: var(--sklearn-color-fitted-level-0);\n",
              "}\n",
              "\n",
              "/* on hover */\n",
              "#sk-container-id-1 div.sk-estimator:hover {\n",
              "  /* unfitted */\n",
              "  background-color: var(--sklearn-color-unfitted-level-2);\n",
              "}\n",
              "\n",
              "#sk-container-id-1 div.sk-estimator.fitted:hover {\n",
              "  /* fitted */\n",
              "  background-color: var(--sklearn-color-fitted-level-2);\n",
              "}\n",
              "\n",
              "/* Specification for estimator info (e.g. \"i\" and \"?\") */\n",
              "\n",
              "/* Common style for \"i\" and \"?\" */\n",
              "\n",
              ".sk-estimator-doc-link,\n",
              "a:link.sk-estimator-doc-link,\n",
              "a:visited.sk-estimator-doc-link {\n",
              "  float: right;\n",
              "  font-size: smaller;\n",
              "  line-height: 1em;\n",
              "  font-family: monospace;\n",
              "  background-color: var(--sklearn-color-background);\n",
              "  border-radius: 1em;\n",
              "  height: 1em;\n",
              "  width: 1em;\n",
              "  text-decoration: none !important;\n",
              "  margin-left: 0.5em;\n",
              "  text-align: center;\n",
              "  /* unfitted */\n",
              "  border: var(--sklearn-color-unfitted-level-1) 1pt solid;\n",
              "  color: var(--sklearn-color-unfitted-level-1);\n",
              "}\n",
              "\n",
              ".sk-estimator-doc-link.fitted,\n",
              "a:link.sk-estimator-doc-link.fitted,\n",
              "a:visited.sk-estimator-doc-link.fitted {\n",
              "  /* fitted */\n",
              "  border: var(--sklearn-color-fitted-level-1) 1pt solid;\n",
              "  color: var(--sklearn-color-fitted-level-1);\n",
              "}\n",
              "\n",
              "/* On hover */\n",
              "div.sk-estimator:hover .sk-estimator-doc-link:hover,\n",
              ".sk-estimator-doc-link:hover,\n",
              "div.sk-label-container:hover .sk-estimator-doc-link:hover,\n",
              ".sk-estimator-doc-link:hover {\n",
              "  /* unfitted */\n",
              "  background-color: var(--sklearn-color-unfitted-level-3);\n",
              "  color: var(--sklearn-color-background);\n",
              "  text-decoration: none;\n",
              "}\n",
              "\n",
              "div.sk-estimator.fitted:hover .sk-estimator-doc-link.fitted:hover,\n",
              ".sk-estimator-doc-link.fitted:hover,\n",
              "div.sk-label-container:hover .sk-estimator-doc-link.fitted:hover,\n",
              ".sk-estimator-doc-link.fitted:hover {\n",
              "  /* fitted */\n",
              "  background-color: var(--sklearn-color-fitted-level-3);\n",
              "  color: var(--sklearn-color-background);\n",
              "  text-decoration: none;\n",
              "}\n",
              "\n",
              "/* Span, style for the box shown on hovering the info icon */\n",
              ".sk-estimator-doc-link span {\n",
              "  display: none;\n",
              "  z-index: 9999;\n",
              "  position: relative;\n",
              "  font-weight: normal;\n",
              "  right: .2ex;\n",
              "  padding: .5ex;\n",
              "  margin: .5ex;\n",
              "  width: min-content;\n",
              "  min-width: 20ex;\n",
              "  max-width: 50ex;\n",
              "  color: var(--sklearn-color-text);\n",
              "  box-shadow: 2pt 2pt 4pt #999;\n",
              "  /* unfitted */\n",
              "  background: var(--sklearn-color-unfitted-level-0);\n",
              "  border: .5pt solid var(--sklearn-color-unfitted-level-3);\n",
              "}\n",
              "\n",
              ".sk-estimator-doc-link.fitted span {\n",
              "  /* fitted */\n",
              "  background: var(--sklearn-color-fitted-level-0);\n",
              "  border: var(--sklearn-color-fitted-level-3);\n",
              "}\n",
              "\n",
              ".sk-estimator-doc-link:hover span {\n",
              "  display: block;\n",
              "}\n",
              "\n",
              "/* \"?\"-specific style due to the `<a>` HTML tag */\n",
              "\n",
              "#sk-container-id-1 a.estimator_doc_link {\n",
              "  float: right;\n",
              "  font-size: 1rem;\n",
              "  line-height: 1em;\n",
              "  font-family: monospace;\n",
              "  background-color: var(--sklearn-color-background);\n",
              "  border-radius: 1rem;\n",
              "  height: 1rem;\n",
              "  width: 1rem;\n",
              "  text-decoration: none;\n",
              "  /* unfitted */\n",
              "  color: var(--sklearn-color-unfitted-level-1);\n",
              "  border: var(--sklearn-color-unfitted-level-1) 1pt solid;\n",
              "}\n",
              "\n",
              "#sk-container-id-1 a.estimator_doc_link.fitted {\n",
              "  /* fitted */\n",
              "  border: var(--sklearn-color-fitted-level-1) 1pt solid;\n",
              "  color: var(--sklearn-color-fitted-level-1);\n",
              "}\n",
              "\n",
              "/* On hover */\n",
              "#sk-container-id-1 a.estimator_doc_link:hover {\n",
              "  /* unfitted */\n",
              "  background-color: var(--sklearn-color-unfitted-level-3);\n",
              "  color: var(--sklearn-color-background);\n",
              "  text-decoration: none;\n",
              "}\n",
              "\n",
              "#sk-container-id-1 a.estimator_doc_link.fitted:hover {\n",
              "  /* fitted */\n",
              "  background-color: var(--sklearn-color-fitted-level-3);\n",
              "}\n",
              "</style><div id=\"sk-container-id-1\" class=\"sk-top-container\"><div class=\"sk-text-repr-fallback\"><pre>Pipeline(steps=[(&#x27;scaler&#x27;, StandardScaler()), (&#x27;model&#x27;, LinearRegression())])</pre><b>In a Jupyter environment, please rerun this cell to show the HTML representation or trust the notebook. <br />On GitHub, the HTML representation is unable to render, please try loading this page with nbviewer.org.</b></div><div class=\"sk-container\" hidden><div class=\"sk-item sk-dashed-wrapped\"><div class=\"sk-label-container\"><div class=\"sk-label fitted sk-toggleable\"><input class=\"sk-toggleable__control sk-hidden--visually\" id=\"sk-estimator-id-1\" type=\"checkbox\" ><label for=\"sk-estimator-id-1\" class=\"sk-toggleable__label fitted sk-toggleable__label-arrow\"><div><div>Pipeline</div></div><div><a class=\"sk-estimator-doc-link fitted\" rel=\"noreferrer\" target=\"_blank\" href=\"https://scikit-learn.org/1.6/modules/generated/sklearn.pipeline.Pipeline.html\">?<span>Documentation for Pipeline</span></a><span class=\"sk-estimator-doc-link fitted\">i<span>Fitted</span></span></div></label><div class=\"sk-toggleable__content fitted\"><pre>Pipeline(steps=[(&#x27;scaler&#x27;, StandardScaler()), (&#x27;model&#x27;, LinearRegression())])</pre></div> </div></div><div class=\"sk-serial\"><div class=\"sk-item\"><div class=\"sk-estimator fitted sk-toggleable\"><input class=\"sk-toggleable__control sk-hidden--visually\" id=\"sk-estimator-id-2\" type=\"checkbox\" ><label for=\"sk-estimator-id-2\" class=\"sk-toggleable__label fitted sk-toggleable__label-arrow\"><div><div>StandardScaler</div></div><div><a class=\"sk-estimator-doc-link fitted\" rel=\"noreferrer\" target=\"_blank\" href=\"https://scikit-learn.org/1.6/modules/generated/sklearn.preprocessing.StandardScaler.html\">?<span>Documentation for StandardScaler</span></a></div></label><div class=\"sk-toggleable__content fitted\"><pre>StandardScaler()</pre></div> </div></div><div class=\"sk-item\"><div class=\"sk-estimator fitted sk-toggleable\"><input class=\"sk-toggleable__control sk-hidden--visually\" id=\"sk-estimator-id-3\" type=\"checkbox\" ><label for=\"sk-estimator-id-3\" class=\"sk-toggleable__label fitted sk-toggleable__label-arrow\"><div><div>LinearRegression</div></div><div><a class=\"sk-estimator-doc-link fitted\" rel=\"noreferrer\" target=\"_blank\" href=\"https://scikit-learn.org/1.6/modules/generated/sklearn.linear_model.LinearRegression.html\">?<span>Documentation for LinearRegression</span></a></div></label><div class=\"sk-toggleable__content fitted\"><pre>LinearRegression()</pre></div> </div></div></div></div></div></div>"
            ]
          },
          "metadata": {},
          "execution_count": 14
        }
      ]
    },
    {
      "cell_type": "markdown",
      "source": [
        "Este pipeline aplica automáticamente el escalado antes de entrenar, y también lo aplicará a cualquier dato nuevo que queramos predecir."
      ],
      "metadata": {
        "id": "4aid4PvFVZMX"
      }
    },
    {
      "cell_type": "markdown",
      "source": [
        "### Evaluación"
      ],
      "metadata": {
        "id": "cbGPPi5_HoJQ"
      }
    },
    {
      "cell_type": "markdown",
      "source": [
        "Una vez entrenado el modelo, es importante saber qué tal funciona con datos nuevos. Para ello usamos el conjunto de prueba (X_test), que el modelo no ha visto antes.\n",
        "\n",
        "Calculamos dos métricas comunes:\n",
        "\n",
        "- RMSE (Root Mean Squared Error): mide cuánto se equivocan las predicciones, en la misma unidad que la variable a predecir. Cuanto más bajo, mejor.\n",
        "\n",
        "- R² (coeficiente de determinación): indica qué parte de la variabilidad del resultado se explica por el modelo. Toma valores entre 0 y 1 (siendo 1 un modelo perfecto).\n",
        "\n",
        "En versiones anteriores de scikit-learn, la función mean_squared_error no acepta el parámetro squared=False, por lo que debemos calcular la raíz cuadrada manualmente.\n"
      ],
      "metadata": {
        "id": "GJlNiSxFVi-S"
      }
    },
    {
      "cell_type": "code",
      "source": [
        "y_pred = pipe.predict(X_test)                         # Predicción sobre el conjunto de prueba\n",
        "\n",
        "rmse = np.sqrt(mean_squared_error(y_test, y_pred))    # Raíz del error cuadrático medio\n",
        "r2 = r2_score(y_test, y_pred)                         # Coeficiente de determinación\n",
        "\n",
        "print(\"RMSE:\", rmse)\n",
        "print(\"R²:\", r2)\n",
        "\n"
      ],
      "metadata": {
        "colab": {
          "base_uri": "https://localhost:8080/"
        },
        "id": "5umPqciIVlQZ",
        "outputId": "11730777-c603-442c-fd67-fcbedc3a9f0b"
      },
      "execution_count": 16,
      "outputs": [
        {
          "output_type": "stream",
          "name": "stdout",
          "text": [
            "RMSE: 53.85344583676592\n",
            "R²: 0.4526027629719197\n"
          ]
        }
      ]
    },
    {
      "cell_type": "markdown",
      "source": [
        "Conclusiones: Un R² de 0.45 indica que el modelo captura parte de la variabilidad, pero más de la mitad queda sin explicar. Esto sugiere que:\n",
        "\n",
        "- Puede que la relación entre las variables no sea puramente lineal.\n",
        "\n",
        "- Puede que haya interacciones o transformaciones necesarias.\n",
        "\n",
        "- Puede que falten variables relevantes.\n",
        "\n",
        "El RMSE es relativamente alto respecto a los valores típicos de la variable objetivo (puedes comprobarlo mirando el histograma). Esto también indica que hay bastante error en las predicciones.\n",
        "\n",
        "La regresión lineal sirve para empezar y entender el proceso de entrenamiento y evaluación, pero no siempre es suficiente. Probar con modelos más complejos (como árboles de decisión, regresión polinómica o modelos basados en aprendizaje automático) podría mejorar significativamente los resultados."
      ],
      "metadata": {
        "id": "uBRmoMMsWpWs"
      }
    },
    {
      "cell_type": "markdown",
      "source": [
        "### Guardar el modelo"
      ],
      "metadata": {
        "id": "G_NNxufoZRM-"
      }
    },
    {
      "cell_type": "markdown",
      "source": [
        "A veces queremos guardar el modelo tras entrenarlo, para poder usarlo más tarde sin necesidad de volver a entrenarlo (por ejemplo, en una aplicación web o en otro notebook)."
      ],
      "metadata": {
        "id": "FB6C8Ug5ZVC1"
      }
    },
    {
      "cell_type": "markdown",
      "source": [
        "Guardar modelo:"
      ],
      "metadata": {
        "id": "gk4BW5NXZgRQ"
      }
    },
    {
      "cell_type": "code",
      "source": [
        "joblib.dump(pipe, \"modelo_regresion.pkl\")   # Guarda el pipeline en un archivo"
      ],
      "metadata": {
        "colab": {
          "base_uri": "https://localhost:8080/"
        },
        "id": "8z39zX_CZXyN",
        "outputId": "919c89bb-31ac-46eb-b725-04df558600c8"
      },
      "execution_count": 22,
      "outputs": [
        {
          "output_type": "execute_result",
          "data": {
            "text/plain": [
              "['modelo_regresion.pkl']"
            ]
          },
          "metadata": {},
          "execution_count": 22
        }
      ]
    },
    {
      "cell_type": "markdown",
      "source": [
        "Cargar modelo:"
      ],
      "metadata": {
        "id": "x1ZAt4qdZiIC"
      }
    },
    {
      "cell_type": "code",
      "source": [
        "modelo_cargado = joblib.load(\"modelo_regresion.pkl\")      # Carga el modelo desde el archivo"
      ],
      "metadata": {
        "id": "qEZQBY_GZc96"
      },
      "execution_count": 25,
      "outputs": []
    },
    {
      "cell_type": "markdown",
      "source": [
        "### Uso del modelo"
      ],
      "metadata": {
        "id": "ZNaKm9CiHuWn"
      }
    },
    {
      "cell_type": "markdown",
      "source": [
        "Una vez cargado, el modelo puede usarse directamente para hacer predicciones sobre nuevos datos sin necesidad de reentrenarlo.\n"
      ],
      "metadata": {
        "id": "r4T4L7HZaPfd"
      }
    },
    {
      "cell_type": "code",
      "source": [
        "nuevas_predicciones = modelo_cargado.predict(X_test[:5])  # Predice con los primeros 5 casos de prueba\n",
        "print(nuevas_predicciones)"
      ],
      "metadata": {
        "colab": {
          "base_uri": "https://localhost:8080/"
        },
        "id": "hEOWx7f9Z7Sm",
        "outputId": "cc2c306d-589a-44fa-a01b-aa6f8e981dcf"
      },
      "execution_count": 26,
      "outputs": [
        {
          "output_type": "stream",
          "name": "stdout",
          "text": [
            "[139.5475584  179.51720835 134.03875572 291.41702925 123.78965872]\n"
          ]
        }
      ]
    }
  ]
}
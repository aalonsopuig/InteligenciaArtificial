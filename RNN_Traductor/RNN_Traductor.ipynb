{
  "cells": [
    {
      "cell_type": "markdown",
      "metadata": {
        "id": "U9dQeWUKm8Du"
      },
      "source": [
        "## Objetivo"
      ]
    },
    {
      "cell_type": "markdown",
      "metadata": {
        "id": "v8-mxlj_m965"
      },
      "source": [
        "Usando los datasets de la página de [Anki](https://www.manythings.org/anki/), en la que se disponen de múltiples datasets de traducción de idiomas para entrenar redes neuronales, realizaremos paso a paso un traductor basado en decoders con atención de Bahdanau. Concretamente traduciremos del **italiano al inglés** y del **castellano al inglés**.\n",
        "\n",
        "El desarrollo de la red que hemos usado como referencia está basada en [este tutorial](https://pytorch.org/tutorials/intermediate/seq2seq_translation_tutorial.html) de las páginas de Pytorch.\n",
        "\n",
        "Este Jupyter Notebook está optimizado para su ejecución en Google Colab.\n",
        "\n",
        "Utilizaremos un RNN de una capa oculta, con 255 nodos, que entrenaremos durante 100 epochs, para la traducción de frases de hasta 5 caracteres. Todos estos parámetros son configurables."
      ]
    },
    {
      "cell_type": "markdown",
      "metadata": {
        "id": "gy1UN0b4epku"
      },
      "source": [
        "## Librerías"
      ]
    },
    {
      "cell_type": "markdown",
      "metadata": {
        "id": "0w_ylovYe0Vd"
      },
      "source": [
        "*El código a continuación importa las librerías y módulos necesarios para trabajar con PyTorch, manipular texto y realizar operaciones de preprocesamiento, y configura el dispositivo de hardware para la ejecución (GPU si está disponible, o CPU si no lo está). También se asegura de que las funciones de impresión y manejo de Unicode sean compatibles con versiones de Python 2 y 3.*"
      ]
    },
    {
      "cell_type": "code",
      "execution_count": null,
      "metadata": {
        "id": "0iyzFGhvxBBN"
      },
      "outputs": [],
      "source": [
        "from __future__ import unicode_literals, print_function, division  # Permite compatibilidad con Python 2 y 3 en impresiones y manejo de Unicode.\n",
        "from io import open  # Importa el módulo para manejo de archivos.\n",
        "import unicodedata  # Biblioteca para normalización de texto Unicode.\n",
        "import re  # Módulo para trabajar con expresiones regulares.\n",
        "import random  # Módulo para generar números y seleccionar elementos al azar.\n",
        "\n",
        "import torch  # Biblioteca principal de PyTorch.\n",
        "import torch.nn as nn  # Importa el módulo de redes neuronales de PyTorch.\n",
        "from torch import optim  # Importa el optimizador de PyTorch.\n",
        "import torch.nn.functional as F  # Importa funciones como activaciones, etc.\n",
        "\n",
        "import numpy as np  # Biblioteca para operaciones numéricas.\n",
        "from torch.utils.data import TensorDataset, DataLoader, RandomSampler  # Para manipular conjuntos de datos y crear cargadores de datos.\n",
        "\n",
        "# Configura el dispositivo para ejecutar el código en la GPU si está disponible; si no, en la CPU.\n",
        "device = torch.device(\"cuda\" if torch.cuda.is_available() else \"cpu\")\n"
      ]
    },
    {
      "cell_type": "markdown",
      "metadata": {
        "id": "QF8zJWiWvF-C"
      },
      "source": [
        "## Preparación datos de entrenamiento (descarga y métodos)"
      ]
    },
    {
      "cell_type": "markdown",
      "metadata": {
        "id": "X1W0Z16Qupxn"
      },
      "source": [
        "*Este código descarga los archivos ita-eng.zip y spa-eng.zip desde la URL, lo guarda en el directorio data/, lo descomprime y luego elimina los archivos zip*"
      ]
    },
    {
      "cell_type": "code",
      "execution_count": null,
      "metadata": {
        "colab": {
          "base_uri": "https://localhost:8080/"
        },
        "id": "qhEYphX6vvx4",
        "outputId": "8178d332-1979-47e8-a111-c0bc2b06af73"
      },
      "outputs": [
        {
          "output_type": "stream",
          "name": "stdout",
          "text": [
            "--2024-11-22 12:17:30--  https://www.manythings.org/anki/ita-eng.zip\n",
            "Resolving www.manythings.org (www.manythings.org)... 173.254.30.110\n",
            "Connecting to www.manythings.org (www.manythings.org)|173.254.30.110|:443... connected.\n",
            "HTTP request sent, awaiting response... 200 OK\n",
            "Length: 8326901 (7.9M) [application/zip]\n",
            "Saving to: ‘data/ita-eng.zip’\n",
            "\n",
            "data/ita-eng.zip    100%[===================>]   7.94M  10.8MB/s    in 0.7s    \n",
            "\n",
            "2024-11-22 12:17:36 (10.8 MB/s) - ‘data/ita-eng.zip’ saved [8326901/8326901]\n",
            "\n",
            "--2024-11-22 12:17:36--  https://www.manythings.org/anki/spa-eng.zip\n",
            "Resolving www.manythings.org (www.manythings.org)... 173.254.30.110\n",
            "Connecting to www.manythings.org (www.manythings.org)|173.254.30.110|:443... connected.\n",
            "HTTP request sent, awaiting response... 200 OK\n",
            "Length: 5420295 (5.2M) [application/zip]\n",
            "Saving to: ‘data/spa-eng.zip’\n",
            "\n",
            "data/spa-eng.zip    100%[===================>]   5.17M  8.01MB/s    in 0.6s    \n",
            "\n",
            "2024-11-22 12:17:37 (8.01 MB/s) - ‘data/spa-eng.zip’ saved [5420295/5420295]\n",
            "\n",
            "Archive:  data/ita-eng.zip\n",
            "  inflating: data/ita.txt            \n",
            "  inflating: data/_about.txt         \n",
            "Archive:  data/spa-eng.zip\n",
            "  inflating: data/_about.txt         \n",
            "  inflating: data/spa.txt            \n"
          ]
        }
      ],
      "source": [
        "# Crea la carpeta 'data' si no existe\n",
        "!mkdir -p data\n",
        "\n",
        "# Descarga archivos usando wget\n",
        "!wget -O data/ita-eng.zip https://www.manythings.org/anki/ita-eng.zip\n",
        "!wget -O data/spa-eng.zip https://www.manythings.org/anki/spa-eng.zip\n",
        "\n",
        "# Descomprime el archivo descargado\n",
        "!unzip -o data/ita-eng.zip -d data/\n",
        "!unzip -o data/spa-eng.zip -d data/\n",
        "\n",
        "# Renombra el archivo\n",
        "!mv data/ita.txt data/eng-ita.txt\n",
        "!mv data/spa.txt data/eng-spa.txt\n",
        "\n",
        "# Elimina el archivo zip después de la extracción si lo deseas\n",
        "!rm data/ita-eng.zip\n",
        "!rm data/spa-eng.zip"
      ]
    },
    {
      "cell_type": "markdown",
      "metadata": {
        "id": "6SRJyjus-1u_"
      },
      "source": [
        "*El código a continuación define una clase llamada Lang que se utiliza para manejar un idioma específico en un modelo de procesamiento de lenguaje. La clase permite almacenar palabras y asociarlas con índices, además de contar la frecuencia de aparición de cada palabra. La clase también gestiona los tokens especiales de inicio (SOS) y fin de secuencia (EOS).*"
      ]
    },
    {
      "cell_type": "code",
      "execution_count": null,
      "metadata": {
        "id": "a4hkWWr3xBBP"
      },
      "outputs": [],
      "source": [
        "SOS_token = 0  # Token de inicio de secuencia.\n",
        "EOS_token = 1  # Token de fin de secuencia.\n",
        "\n",
        "class Lang:\n",
        "    def __init__(self, name):\n",
        "        self.name = name  # Nombre del idioma.\n",
        "        self.word2index = {}  # Diccionario para mapear palabras a índices.\n",
        "        self.word2count = {}  # Diccionario para contar la frecuencia de palabras.\n",
        "        self.index2word = {0: \"SOS\", 1: \"EOS\"}  # Diccionario para mapear índices a palabras, incluyendo tokens especiales.\n",
        "        self.n_words = 2  # Contador de palabras, inicia en 2 por los tokens SOS y EOS.\n",
        "\n",
        "    def addSentence(self, sentence):\n",
        "        # Divide la oración en palabras y agrega cada una al vocabulario.\n",
        "        for word in sentence.split(' '):\n",
        "            self.addWord(word)\n",
        "\n",
        "    def addWord(self, word):\n",
        "        # Si la palabra no está en el vocabulario, se agrega.\n",
        "        if word not in self.word2index:\n",
        "            self.word2index[word] = self.n_words  # Asigna un nuevo índice a la palabra.\n",
        "            self.word2count[word] = 1  # Inicializa el contador de la palabra.\n",
        "            self.index2word[self.n_words] = word  # Agrega la palabra al diccionario inverso.\n",
        "            self.n_words += 1  # Incrementa el número total de palabras.\n",
        "        else:\n",
        "            self.word2count[word] += 1  # Incrementa el contador de la palabra si ya existe.\n"
      ]
    },
    {
      "cell_type": "markdown",
      "metadata": {
        "id": "alTklyAC_RBj"
      },
      "source": [
        "*El código a continuación incluye dos funciones de preprocesamiento de texto. La función unicodeToAscii convierte una cadena Unicode a caracteres ASCII normales eliminando las tildes y otros acentos, mientras que normalizeString convierte el texto a minúsculas, lo recorta y elimina los caracteres que no son letras o signos de puntuación, haciendo que el texto sea más uniforme para el procesamiento posterior.*"
      ]
    },
    {
      "cell_type": "code",
      "execution_count": null,
      "metadata": {
        "id": "6Dq66-oPxBBQ"
      },
      "outputs": [],
      "source": [
        "# Convierte una cadena Unicode a ASCII normal, eliminando tildes y acentos.\n",
        "# Inspirado en https://stackoverflow.com/a/518232/2809427\n",
        "def unicodeToAscii(s):\n",
        "    return ''.join(\n",
        "        c for c in unicodedata.normalize('NFD', s)  # Descompone caracteres Unicode en su forma base y acentos separados.\n",
        "        if unicodedata.category(c) != 'Mn'  # Filtra los caracteres que no son marcas diacríticas (como tildes).\n",
        "    )\n",
        "\n",
        "# Convierte la cadena a minúsculas, elimina espacios adicionales y elimina caracteres no alfabéticos.\n",
        "def normalizeString(s):\n",
        "    s = unicodeToAscii(s.lower().strip())  # Convierte a minúsculas, elimina espacios al inicio y final, y normaliza a ASCII.\n",
        "    s = re.sub(r\"([.!?])\", r\" \\1\", s)  # Asegura que los signos de puntuación tengan un espacio antes.\n",
        "    s = re.sub(r\"[^a-zA-Z!?]+\", r\" \", s)  # Reemplaza caracteres no alfabéticos ni de puntuación por un espacio.\n",
        "    return s.strip()  # Elimina espacios adicionales al inicio y final.\n"
      ]
    },
    {
      "cell_type": "markdown",
      "metadata": {
        "id": "-i_9eKpz_ayM"
      },
      "source": [
        "*El código siguiente define la función readLangs, que lee un archivo de texto con pares de frases en dos idiomas, los normaliza y los organiza en pares de entrada y salida. Si se especifica reverse=True, invierte los pares de frases y asigna los idiomas correspondientes a las instancias de la clase Lang.*"
      ]
    },
    {
      "cell_type": "code",
      "execution_count": null,
      "metadata": {
        "id": "1LS-scxYxBBR"
      },
      "outputs": [],
      "source": [
        "def readLangs(lang1, lang2, reverse=False):\n",
        "    print(\"Reading lines...\")  # Imprime un mensaje indicando que se están leyendo las líneas.\n",
        "\n",
        "    # Lee el archivo y lo divide en líneas individuales.\n",
        "    lines = open('data/%s-%s.txt' % (lang1, lang2), encoding='utf-8').read().strip().split('\\n')\n",
        "\n",
        "    # Divide cada línea en pares (oración en idioma 1 y oración en idioma 2) y las normaliza.\n",
        "#    pairs = [[normalizeString(s) for s in l.split('\\t')] for l in lines]\n",
        "    pairs = [[normalizeString(s) for s in l.split('\\t')[:2]] for l in lines]\n",
        "\n",
        "    # Si se especifica `reverse=True`, invierte los pares y asigna los idiomas.\n",
        "    if reverse:\n",
        "        pairs = [list(reversed(p)) for p in pairs]  # Invierte cada par de frases.\n",
        "        input_lang = Lang(lang2)  # El idioma de entrada se convierte en `lang2`.\n",
        "        output_lang = Lang(lang1)  # El idioma de salida se convierte en `lang1`.\n",
        "    else:\n",
        "        input_lang = Lang(lang1)  # El idioma de entrada es `lang1`.\n",
        "        output_lang = Lang(lang2)  # El idioma de salida es `lang2`.\n",
        "\n",
        "    return input_lang, output_lang, pairs  # Retorna las instancias de los idiomas y los pares de frases.\n"
      ]
    },
    {
      "cell_type": "markdown",
      "metadata": {
        "id": "T32kVznN_kcJ"
      },
      "source": [
        "*El código siguiente define la constante MAX_LENGTH para limitar la longitud de las frases y dos funciones: filterPair, que verifica si un par de frases cumple con ciertas condiciones de longitud, y filterPairs, que filtra una lista de pares de frases usando la función filterPair.*"
      ]
    },
    {
      "cell_type": "code",
      "execution_count": null,
      "metadata": {
        "id": "vXn47_RmxBBS"
      },
      "outputs": [],
      "source": [
        "\n",
        "MAX_LENGTH = 5         # Longitud máxima permitida para las frases.\n",
        "\n",
        "\n",
        "# Definimos prefijos comunes en inglés (lang1) para limitar la cantidad de pares en el set de datos\n",
        "eng_prefixes = (\n",
        "    \"i am \", \"i m \",\n",
        "    \"he is\", \"he s \",\n",
        "    \"she is\", \"she s \",\n",
        "    \"you are\", \"you re \",\n",
        "    \"we are\", \"we re \",\n",
        "    \"they are\", \"they re \"\n",
        ")\n",
        "\n",
        "# Función que filtra las frases según longitud y prefijos según el idioma de entrada\n",
        "def filterPair(p, reverse):\n",
        "    if reverse:\n",
        "        # Cuando la entrada es lang2 y salida lang1\n",
        "        return len(p[0].split(' ')) < MAX_LENGTH and \\\n",
        "               len(p[1].split(' ')) < MAX_LENGTH and \\\n",
        "               p[1].startswith(eng_prefixes)  # Filtra según los prefijos en inglés\n",
        "    else:\n",
        "        # Cuando la entrada es lang1 y salida lang2\n",
        "        return len(p[0].split(' ')) < MAX_LENGTH and \\\n",
        "               len(p[1].split(' ')) < MAX_LENGTH and \\\n",
        "               p[0].startswith(eng_prefixes)  # Filtra según los prefijos en inglés\n",
        "\n",
        "\n",
        "# Filtra los pares de frases usando la función `filterPair`.\n",
        "def filterPairs(pairs, reverse):\n",
        "    return [pair for pair in pairs if filterPair(pair, reverse)]  # Retorna solo los pares que cumplen las condiciones.\n",
        "\n"
      ]
    },
    {
      "cell_type": "markdown",
      "metadata": {
        "id": "f9ea2-v__zI0"
      },
      "source": [
        "*El código a continuación define la función prepareData, que prepara los datos para el entrenamiento de un modelo de traducción. La función lee un archivo con pares de frases, los filtra, cuenta las palabras en cada idioma y devuelve las instancias de los objetos Lang y la lista de pares de frases. Finalmente, se imprime un par de frases al azar de los datos preparados.*"
      ]
    },
    {
      "cell_type": "code",
      "execution_count": null,
      "metadata": {
        "id": "RRIXhoK7xBBS"
      },
      "outputs": [],
      "source": [
        "# Función para preparar el conjunto de datos\n",
        "def prepareData(lang1, lang2, reverse=False):\n",
        "    # Lee el archivo con las frases y devuelve los objetos de idioma y los pares de frases.\n",
        "    input_lang, output_lang, pairs = readLangs(lang1, lang2, reverse)\n",
        "    print(\"Read %s sentence pairs\" % len(pairs))  # Imprime la cantidad de pares de frases leídos.\n",
        "\n",
        "    # Filtra los pares de frases según las condiciones establecidas.\n",
        "    pairs = filterPairs(pairs, reverse)\n",
        "    print(\"Trimmed to %s sentence pairs\" % len(pairs))  # Imprime la cantidad de pares después de filtrar.\n",
        "\n",
        "    print(\"Counting words...\")\n",
        "    # Cuenta las palabras en cada frase de los pares y las agrega a los diccionarios de palabras.\n",
        "    for pair in pairs:\n",
        "        input_lang.addSentence(pair[0])  # Agrega las palabras de la frase de entrada.\n",
        "        output_lang.addSentence(pair[1])  # Agrega las palabras de la frase de salida.\n",
        "\n",
        "    print(\"Counted words:\")\n",
        "    # Imprime el nombre del idioma y el número de palabras únicas.\n",
        "    print(input_lang.name, input_lang.n_words)\n",
        "    print(output_lang.name, output_lang.n_words)\n",
        "\n",
        "    # Retorna los objetos de idioma y los pares de frases.\n",
        "    return input_lang, output_lang, pairs\n"
      ]
    },
    {
      "cell_type": "markdown",
      "metadata": {
        "id": "gVZzcV86peEg"
      },
      "source": [
        "## Modelo con atención (métodos)"
      ]
    },
    {
      "cell_type": "markdown",
      "metadata": {
        "id": "JWre8F_Rpk1l"
      },
      "source": [
        "Definimos un modelo seq2seq con atención de Bahdanau que consta de un codificador y un decodificador con atención."
      ]
    },
    {
      "cell_type": "markdown",
      "metadata": {
        "id": "0yZkYflNpy2R"
      },
      "source": [
        "*El código a continuación define una clase EncoderRNN, que representa el codificador de una red neuronal recurrente (RNN) utilizada en modelos de traducción de secuencias. Este codificador convierte secuencias de palabras en representaciones vectoriales que pueden ser utilizadas por un decodificador. Se utiliza un embedding para convertir los índices de las palabras en vectores densos y una capa GRU (Gated Recurrent Unit) para procesar la secuencia.*"
      ]
    },
    {
      "cell_type": "code",
      "execution_count": null,
      "metadata": {
        "id": "zfKvJYVdp4Ct"
      },
      "outputs": [],
      "source": [
        "class EncoderRNN(nn.Module):\n",
        "    def __init__(self, input_size, hidden_size, dropout_p=0.1):\n",
        "        super(EncoderRNN, self).__init__()  # Inicializa la clase base nn.Module\n",
        "        self.hidden_size = hidden_size  # Tamaño de los vectores de estado oculto\n",
        "\n",
        "        # Capa de embedding para convertir índices de palabras en vectores densos\n",
        "        self.embedding = nn.Embedding(input_size, hidden_size)\n",
        "\n",
        "        # Capa GRU para procesar la secuencia de embeddings, con salida de tamaño `hidden_size`\n",
        "        self.gru = nn.GRU(hidden_size, hidden_size, num_layers=1, batch_first=True)\n",
        "\n",
        "        # Capa de dropout para regularización, que ayuda a prevenir el overfitting\n",
        "        self.dropout = nn.Dropout(dropout_p)\n",
        "\n",
        "    def forward(self, input):\n",
        "        # Aplica la capa de embedding seguida del dropout a la entrada\n",
        "        embedded = self.dropout(self.embedding(input))\n",
        "\n",
        "        # Pasa el embedding a través de la capa GRU, obteniendo la salida y el último estado oculto\n",
        "        output, hidden = self.gru(embedded)\n",
        "\n",
        "        # Devuelve la salida y el estado oculto final\n",
        "        return output, hidden\n"
      ]
    },
    {
      "cell_type": "markdown",
      "metadata": {
        "id": "9Jwol4pXp7w9"
      },
      "source": [
        "*El código a continuación implementa un AttnDecoderRNN, que es un decodificador de red neuronal recurrente con mecanismo de atención tipo Bahdanau. Este decodificador permite a la red enfocarse en diferentes partes de la secuencia de entrada en cada paso de la decodificación, lo que mejora la capacidad de la red para manejar secuencias largas y complejas.*"
      ]
    },
    {
      "cell_type": "code",
      "execution_count": null,
      "metadata": {
        "id": "-TNUxFTuxBBU"
      },
      "outputs": [],
      "source": [
        "class BahdanauAttention(nn.Module):\n",
        "    def __init__(self, hidden_size):\n",
        "        super(BahdanauAttention, self).__init__()\n",
        "        # Matrices de pesos para calcular los scores de atención\n",
        "        self.Wa = nn.Linear(hidden_size, hidden_size)  # Para transformar la consulta (hidden state)\n",
        "        self.Ua = nn.Linear(hidden_size, hidden_size)  # Para transformar las claves (encoder outputs)\n",
        "        self.Va = nn.Linear(hidden_size, 1)  # Para calcular el score final de atención\n",
        "\n",
        "    def forward(self, query, keys):\n",
        "        # Calcula los scores de atención sumando y aplicando activación tanh\n",
        "        scores = self.Va(torch.tanh(self.Wa(query) + self.Ua(keys)))\n",
        "        scores = scores.squeeze(2).unsqueeze(1)  # Ajusta la forma del tensor para softmax\n",
        "\n",
        "        # Calcula los pesos de atención aplicando softmax sobre los scores\n",
        "        weights = F.softmax(scores, dim=-1)\n",
        "        # Calcula el contexto multiplicando los pesos por las claves\n",
        "        context = torch.bmm(weights, keys)\n",
        "\n",
        "        return context, weights  # Devuelve el contexto y los pesos de atención\n",
        "\n",
        "class AttnDecoderRNN(nn.Module):\n",
        "    def __init__(self, hidden_size, output_size, dropout_p=0.1):\n",
        "        super(AttnDecoderRNN, self).__init__()\n",
        "        self.embedding = nn.Embedding(output_size, hidden_size) # Capa de embedding para las palabras de salida\n",
        "        self.attention = BahdanauAttention(hidden_size) # Mecanismo de atención Bahdanau\n",
        "        self.gru = nn.GRU(2*hidden_size, hidden_size, num_layers=1, batch_first=True) # Capa GRU que toma en cuenta el contexto de atención\n",
        "        self.out = nn.Linear(hidden_size, output_size) # Capa lineal para generar la salida\n",
        "        self.dropout = nn.Dropout(dropout_p) # Dropout para regularización\n",
        "\n",
        "    def forward(self, encoder_outputs, encoder_hidden, target_tensor=None):\n",
        "        batch_size = encoder_outputs.size(0)  # Tamaño del lote\n",
        "        decoder_input = torch.empty(batch_size, 1, dtype=torch.long, device=device).fill_(SOS_token)  # Token de inicio\n",
        "        decoder_hidden = encoder_hidden  # Estado oculto inicial proporcionado por el codificador\n",
        "        decoder_outputs = []  # Lista para almacenar las salidas del decodificador\n",
        "        attentions = []  # Lista para almacenar los pesos de atención\n",
        "\n",
        "        # Proceso de decodificación secuencial\n",
        "        for i in range(MAX_LENGTH):\n",
        "            decoder_output, decoder_hidden, attn_weights = self.forward_step(\n",
        "                decoder_input, decoder_hidden, encoder_outputs\n",
        "            )\n",
        "            decoder_outputs.append(decoder_output)  # Agrega la salida actual a la lista\n",
        "            attentions.append(attn_weights)  # Agrega los pesos de atención\n",
        "\n",
        "            if target_tensor is not None:\n",
        "                # Teacher forcing: usa el objetivo real como la siguiente entrada\n",
        "                decoder_input = target_tensor[:, i].unsqueeze(1)\n",
        "            else:\n",
        "                # Sin teacher forcing: usa su propia predicción como la siguiente entrada\n",
        "                _, topi = decoder_output.topk(1)\n",
        "                decoder_input = topi.squeeze(-1).detach()  # Desconecta del historial de cálculo\n",
        "\n",
        "        decoder_outputs = torch.cat(decoder_outputs, dim=1)  # Concatena las salidas\n",
        "        decoder_outputs = F.log_softmax(decoder_outputs, dim=-1)  # Aplica softmax logarítmico\n",
        "        attentions = torch.cat(attentions, dim=1)  # Concatena las atenciones\n",
        "\n",
        "        return decoder_outputs, decoder_hidden, attentions  # Devuelve las salidas, estado oculto y atenciones\n",
        "\n",
        "    def forward_step(self, input, hidden, encoder_outputs):\n",
        "        # Genera el embedding de la entrada y aplica dropout\n",
        "        embedded = self.dropout(self.embedding(input))\n",
        "        query = hidden.permute(1, 0, 2)  # Permuta para que tenga la forma adecuada\n",
        "        context, attn_weights = self.attention(query, encoder_outputs)  # Calcula el contexto y pesos de atención\n",
        "        input_gru = torch.cat((embedded, context), dim=2)  # Concatena el embedding y el contexto\n",
        "\n",
        "        # Pasa la entrada a través de la GRU\n",
        "        output, hidden = self.gru(input_gru, hidden)\n",
        "        output = self.out(output)  # Genera la salida proyectada\n",
        "\n",
        "        return output, hidden, attn_weights  # Devuelve la salida, estado oculto y pesos de atención\n"
      ]
    },
    {
      "cell_type": "markdown",
      "metadata": {
        "id": "AIh2dhNmAB7V"
      },
      "source": [
        "## Entrenamiento (métodos)"
      ]
    },
    {
      "cell_type": "markdown",
      "metadata": {
        "id": "CZV_ageIBOfI"
      },
      "source": [
        "*El código a continuación define funciones para convertir frases en tensores de índices y un método para crear un DataLoader con datos de entrada y salida preparados para entrenamiento. Estas funciones permiten estructurar los datos de texto en un formato que puede ser utilizado por modelos de aprendizaje profundo.*"
      ]
    },
    {
      "cell_type": "code",
      "execution_count": null,
      "metadata": {
        "id": "n4PPaKCqxBBU"
      },
      "outputs": [],
      "source": [
        "def indexesFromSentence(lang, sentence):\n",
        "    # Convierte una oración en una lista de índices según el diccionario de la clase Lang.\n",
        "    return [lang.word2index[word] for word in sentence.split(' ')]\n",
        "\n",
        "def tensorFromSentence(lang, sentence):\n",
        "    # Convierte una lista de índices en un tensor y agrega el token de fin de oración (EOS).\n",
        "    indexes = indexesFromSentence(lang, sentence)\n",
        "    indexes.append(EOS_token)\n",
        "    return torch.tensor(indexes, dtype=torch.long, device=device).view(1, -1)  # Crea un tensor con la forma (1, longitud)\n",
        "\n",
        "def tensorsFromPair(pair):\n",
        "    # Crea tensores de entrada y salida a partir de un par de frases (entrada y objetivo).\n",
        "    input_tensor = tensorFromSentence(input_lang, pair[0])\n",
        "    target_tensor = tensorFromSentence(output_lang, pair[1])\n",
        "    return (input_tensor, target_tensor)\n",
        "\n",
        "def get_dataloader(batch_size, lang_1, lang_2):\n",
        "    # Prepara los datos de entrenamiento creando un DataLoader a partir de pares de frases.\n",
        "    input_lang, output_lang, pairs = prepareData(lang_1, lang_2, REVERSE_LANG)  # Lee y prepara los datos.\n",
        "\n",
        "    n = len(pairs)  # Número de pares de frases\n",
        "    input_ids = np.zeros((n, MAX_LENGTH), dtype=np.int32)  # Matriz para almacenar IDs de entrada\n",
        "    target_ids = np.zeros((n, MAX_LENGTH), dtype=np.int32)  # Matriz para almacenar IDs de salida\n",
        "\n",
        "    for idx, (inp, tgt) in enumerate(pairs):\n",
        "        # Convierte las frases de entrada y salida en índices y las almacena.\n",
        "        inp_ids = indexesFromSentence(input_lang, inp)\n",
        "        tgt_ids = indexesFromSentence(output_lang, tgt)\n",
        "        inp_ids.append(EOS_token)  # Agrega token de fin de oración\n",
        "        tgt_ids.append(EOS_token)  # Agrega token de fin de oración\n",
        "        input_ids[idx, :len(inp_ids)] = inp_ids  # Inserta los IDs de entrada en la matriz\n",
        "        target_ids[idx, :len(tgt_ids)] = tgt_ids  # Inserta los IDs de salida en la matriz\n",
        "\n",
        "    # Crea un dataset de tensores y lo convierte en un DataLoader con muestreo aleatorio.\n",
        "    train_data = TensorDataset(torch.LongTensor(input_ids).to(device),\n",
        "                               torch.LongTensor(target_ids).to(device))\n",
        "\n",
        "    train_sampler = RandomSampler(train_data)  # Muestra lotes aleatoriamente\n",
        "    train_dataloader = DataLoader(train_data, sampler=train_sampler, batch_size=batch_size)  # Crea DataLoader\n",
        "    return input_lang, output_lang, train_dataloader  # Retorna el lenguaje de entrada, salida y DataLoader\n"
      ]
    },
    {
      "cell_type": "markdown",
      "metadata": {
        "id": "zaP6oCIyBemw"
      },
      "source": [
        "*El código a continuación define una función que entrena el modelo en una época completa, usando un DataLoader para iterar sobre los lotes de datos y actualizar los pesos del encoder y decoder basados en la pérdida calculada.*"
      ]
    },
    {
      "cell_type": "code",
      "execution_count": null,
      "metadata": {
        "id": "4UY_v2-VxBBU"
      },
      "outputs": [],
      "source": [
        "def train_epoch(dataloader, encoder, decoder, encoder_optimizer,\n",
        "          decoder_optimizer, criterion):\n",
        "    # Entrena el modelo durante una época completa usando los datos del dataloader.\n",
        "\n",
        "    total_loss = 0  # Inicializa la variable para almacenar la pérdida total de la época.\n",
        "    for data in dataloader:  # Itera sobre cada lote de datos en el dataloader.\n",
        "        input_tensor, target_tensor = data  # Obtiene el tensor de entrada y el tensor objetivo.\n",
        "\n",
        "        # Reinicia los gradientes de los optimizadores para el encoder y el decoder.\n",
        "        encoder_optimizer.zero_grad()\n",
        "        decoder_optimizer.zero_grad()\n",
        "\n",
        "        # Realiza la pasada hacia adelante del encoder.\n",
        "        encoder_outputs, encoder_hidden = encoder(input_tensor)\n",
        "        # Realiza la pasada hacia adelante del decoder, usando la salida del encoder y el estado oculto.\n",
        "        decoder_outputs, _, _ = decoder(encoder_outputs, encoder_hidden, target_tensor)\n",
        "\n",
        "        # Calcula la pérdida entre las salidas del decoder y el tensor objetivo.\n",
        "        loss = criterion(\n",
        "            decoder_outputs.view(-1, decoder_outputs.size(-1)),  # Ajusta la forma de las salidas.\n",
        "            target_tensor.view(-1)  # Ajusta la forma del tensor objetivo.\n",
        "        )\n",
        "        loss.backward()  # Realiza la retropropagación para calcular los gradientes.\n",
        "\n",
        "        # Actualiza los parámetros del encoder y el decoder usando los optimizadores.\n",
        "        encoder_optimizer.step()\n",
        "        decoder_optimizer.step()\n",
        "\n",
        "        total_loss += loss.item()  # Acumula la pérdida para el cálculo del promedio.\n",
        "\n",
        "    # Retorna la pérdida promedio de la época.\n",
        "    return total_loss / len(dataloader)\n"
      ]
    },
    {
      "cell_type": "markdown",
      "metadata": {
        "id": "4mfUaonnBp3p"
      },
      "source": [
        "*El código a continuación define dos funciones auxiliares que ayudan a medir y mostrar el tiempo transcurrido y estimar el tiempo restante durante el entrenamiento.*"
      ]
    },
    {
      "cell_type": "code",
      "execution_count": null,
      "metadata": {
        "id": "SwWBxdFCxBBU"
      },
      "outputs": [],
      "source": [
        "import time\n",
        "import math\n",
        "\n",
        "# Convierte los segundos a un formato de minutos y segundos.\n",
        "def asMinutes(s):\n",
        "    m = math.floor(s / 60)  # Calcula los minutos enteros.\n",
        "    s -= m * 60  # Resta los minutos completos para obtener los segundos restantes.\n",
        "    return '%dm %ds' % (m, s)  # Devuelve el tiempo en formato \"Xm Ys\".\n",
        "\n",
        "# Calcula el tiempo transcurrido desde un momento dado y estima el tiempo restante.\n",
        "def timeSince(since, percent):\n",
        "    now = time.time()  # Obtiene el tiempo actual.\n",
        "    s = now - since  # Calcula el tiempo transcurrido desde el momento inicial.\n",
        "    es = s / percent  # Estima el tiempo total esperado dividiendo el tiempo transcurrido por el porcentaje completado.\n",
        "    rs = es - s  # Calcula el tiempo restante.\n",
        "    return '%s (- %s)' % (asMinutes(s), asMinutes(rs))  # Devuelve el tiempo transcurrido y el tiempo restante en formato \"Xm Ys (- Xm Ys)\".\n"
      ]
    },
    {
      "cell_type": "markdown",
      "metadata": {
        "id": "Xqfu8BFSjVto"
      },
      "source": [
        "*El código a continuación define la función showPlot que se utiliza para graficar los puntos de pérdida acumulada durante el entrenamiento de un modelo.*\n",
        "\n",
        "*La función showPlot toma un conjunto de puntos (como las pérdidas registradas durante el entrenamiento) y los grafica en un gráfico de línea. Utiliza MultipleLocator para definir intervalos regulares en el eje y y plt.plot() para dibujar los datos.*"
      ]
    },
    {
      "cell_type": "code",
      "execution_count": null,
      "metadata": {
        "id": "ialL0QILxBBV"
      },
      "outputs": [],
      "source": [
        "%matplotlib inline\n",
        "# Muestra los gráficos directamente en el notebook.\n",
        "\n",
        "import matplotlib.pyplot as plt\n",
        "plt.switch_backend('agg')  # Cambia el backend de Matplotlib para no mostrar gráficos en vivo.\n",
        "import matplotlib.ticker as ticker  # Importa herramientas para manipular los ejes de las gráficas.\n",
        "import numpy as np\n",
        "\n",
        "def showPlot(points):\n",
        "    plt.figure()  # Crea una nueva figura.\n",
        "    fig, ax = plt.subplots()  # Crea una figura y un eje de la gráfica.\n",
        "    # Establece un localizador que coloca las marcas en intervalos regulares en el eje y.\n",
        "    loc = ticker.MultipleLocator(base=0.2)\n",
        "    ax.yaxis.set_major_locator(loc)  # Aplica el localizador al eje y.\n",
        "    plt.plot(points)  # Dibuja la gráfica de los puntos.\n",
        "    plt.show()\n"
      ]
    },
    {
      "cell_type": "markdown",
      "metadata": {
        "id": "GYd7NxXuB5_z"
      },
      "source": [
        "*El código a continuación define la función train, que entrena un modelo de codificador-decodificador (encoder-decoder) durante un número determinado de épocas. Se utilizan optimizadores y una función de pérdida para ajustar los parámetros del modelo y registrar el progreso.*"
      ]
    },
    {
      "cell_type": "code",
      "execution_count": null,
      "metadata": {
        "id": "XaGP7SUZxBBV"
      },
      "outputs": [],
      "source": [
        "def train(train_dataloader, encoder, decoder, n_epochs, learning_rate=0.001,\n",
        "               print_every=100, plot_every=100):\n",
        "    start = time.time()  # Marca el tiempo de inicio del entrenamiento.\n",
        "    plot_losses = []  # Lista para almacenar las pérdidas que se usarán en el gráfico.\n",
        "    print_loss_total = 0  # Acumula la pérdida total para imprimir cada `print_every`.\n",
        "    plot_loss_total = 0  # Acumula la pérdida total para graficar cada `plot_every`.\n",
        "\n",
        "    # Inicializa los optimizadores para el codificador y el decodificador.\n",
        "    encoder_optimizer = optim.Adam(encoder.parameters(), lr=learning_rate)\n",
        "    decoder_optimizer = optim.Adam(decoder.parameters(), lr=learning_rate)\n",
        "    criterion = nn.NLLLoss()  # Función de pérdida: Negative Log-Likelihood.\n",
        "\n",
        "    # Itera a través de las épocas de entrenamiento.\n",
        "    for epoch in range(1, n_epochs + 1):\n",
        "        # Entrena una época y devuelve la pérdida promedio.\n",
        "        loss = train_epoch(train_dataloader, encoder, decoder, encoder_optimizer, decoder_optimizer, criterion)\n",
        "        print_loss_total += loss  # Acumula la pérdida para imprimir.\n",
        "        plot_loss_total += loss  # Acumula la pérdida para el gráfico.\n",
        "\n",
        "        # Imprime el progreso del entrenamiento cada `print_every` épocas.\n",
        "        if epoch % print_every == 0:\n",
        "            print_loss_avg = print_loss_total / print_every  # Calcula la pérdida promedio.\n",
        "            print_loss_total = 0  # Resetea la pérdida acumulada.\n",
        "            print('%s (%d %d%%) %.4f' % (timeSince(start, epoch / n_epochs),  # Imprime el tiempo transcurrido.\n",
        "                                         epoch, epoch / n_epochs * 100, print_loss_avg))  # Imprime la época y la pérdida promedio.\n",
        "\n",
        "        # Agrega la pérdida promedio al gráfico cada `plot_every` épocas.\n",
        "        if epoch % plot_every == 0:\n",
        "            plot_loss_avg = plot_loss_total / plot_every  # Calcula la pérdida promedio para graficar.\n",
        "            plot_losses.append(plot_loss_avg)  # Añade la pérdida al gráfico.\n",
        "            plot_loss_total = 0  # Resetea la pérdida acumulada para el gráfico.\n",
        "\n",
        "    showPlot(plot_losses)  # Llama a la función para mostrar el gráfico de pérdidas.\n"
      ]
    },
    {
      "cell_type": "markdown",
      "metadata": {
        "id": "P832EiGWC0CZ"
      },
      "source": [
        "## Evaluación (métodos)"
      ]
    },
    {
      "cell_type": "markdown",
      "metadata": {
        "id": "sp8OGX_UC7Eo"
      },
      "source": [
        "*El código a continuación define la función evaluate, que se utiliza para evaluar la salida de un modelo de traducción secuencia a secuencia (seq2seq) dado un encoder y un decoder, junto con una frase de entrada.*\n",
        "\n",
        "*La función evaluate toma un encoder y decoder, junto con una frase de entrada, y genera una traducción palabra por palabra. Utiliza torch.no_grad() para evitar el cálculo de gradientes y reduce la carga computacional. El proceso incluye la conversión de la frase en un tensor, la obtención de la salida del encoder y decoder, y la construcción de la secuencia de palabras decodificadas hasta que se alcanza el token de fin de secuencia (EOS).*"
      ]
    },
    {
      "cell_type": "code",
      "execution_count": null,
      "metadata": {
        "id": "iDW6U7AWxBBV"
      },
      "outputs": [],
      "source": [
        "def evaluate(encoder, decoder, sentence, input_lang, output_lang):\n",
        "    with torch.no_grad():  # Desactiva el cálculo de gradientes para ahorrar memoria y acelerar la evaluación.\n",
        "        # Convierte la frase de entrada en un tensor de índices.\n",
        "        input_tensor = tensorFromSentence(input_lang, sentence)\n",
        "\n",
        "        # Pasa la frase a través del encoder y obtiene las salidas y el estado oculto.\n",
        "        encoder_outputs, encoder_hidden = encoder(input_tensor)\n",
        "\n",
        "        # Pasa las salidas del encoder al decoder y obtiene las predicciones.\n",
        "        decoder_outputs, decoder_hidden, decoder_attn = decoder(encoder_outputs, encoder_hidden)\n",
        "\n",
        "        # Obtiene los índices de las palabras con las puntuaciones más altas.\n",
        "        _, topi = decoder_outputs.topk(1)\n",
        "        decoded_ids = topi.squeeze()  # Elimina dimensiones innecesarias.\n",
        "\n",
        "        decoded_words = []  # Lista para almacenar las palabras decodificadas.\n",
        "        for idx in decoded_ids:  # Itera sobre los índices decodificados.\n",
        "            if idx.item() == EOS_token:  # Verifica si se ha alcanzado el token de fin de secuencia (EOS).\n",
        "                decoded_words.append('<EOS>')\n",
        "                break  # Termina la iteración si se encuentra el token EOS.\n",
        "            # Añade la palabra correspondiente al índice actual a la lista de palabras decodificadas.\n",
        "            decoded_words.append(output_lang.index2word[idx.item()])\n",
        "\n",
        "    # Retorna la lista de palabras decodificadas y las atenciones del decoder.\n",
        "    return decoded_words, decoder_attn\n"
      ]
    },
    {
      "cell_type": "markdown",
      "metadata": {
        "id": "lhMiZ9eLDGHb"
      },
      "source": [
        "*El código a continuación define la función evaluateRandomly, que evalúa el desempeño del modelo de traducción secuencia a secuencia de manera aleatoria con n ejemplos de las frases disponibles.*\n",
        "\n",
        "*La función evaluateRandomly selecciona al azar n pares de frases de los datos de entrada y evalúa el modelo de traducción utilizando la función evaluate. Luego, imprime la frase de entrada original, la frase de salida esperada y la salida generada por el modelo, mostrando cómo el modelo traduce y si se aproxima a la respuesta correcta.*"
      ]
    },
    {
      "cell_type": "code",
      "execution_count": null,
      "metadata": {
        "id": "FPezs9kVxBBV"
      },
      "outputs": [],
      "source": [
        "def evaluateRandomly(encoder, decoder, n=10):\n",
        "    # Itera `n` veces para evaluar el modelo con diferentes ejemplos.\n",
        "    for i in range(n):\n",
        "        # Selecciona aleatoriamente un par de frases (entrada y salida) de la lista de pares.\n",
        "        pair = random.choice(pairs)\n",
        "        print('>', pair[0])  # Imprime la frase de entrada.\n",
        "        print('=', pair[1])  # Imprime la frase de salida esperada.\n",
        "\n",
        "        # Evalúa el modelo con la frase de entrada y obtiene las palabras de la salida.\n",
        "        output_words, _ = evaluate(encoder, decoder, pair[0], input_lang, output_lang)\n",
        "\n",
        "        # Convierte la lista de palabras de salida en una frase completa.\n",
        "        output_sentence = ' '.join(output_words)\n",
        "        print('<', output_sentence)  # Imprime la frase generada por el modelo.\n",
        "        print('')  # Imprime una línea en blanco para separar los ejemplos.\n"
      ]
    },
    {
      "cell_type": "markdown",
      "metadata": {
        "id": "eQDveXpKtazD"
      },
      "source": [
        "*El código a continuación define los métodos para la evaluación de un modelo de traducción basado en RNN y visualiza la atención que el modelo aplica a las palabras de la entrada mientras genera la salida. Primero, evalúa la frase de entrada, luego muestra la frase de salida generada y representa la matriz de atención con un gráfico para visualizar qué palabras de la entrada fueron más relevantes para cada palabra generada en la salida.*\n",
        "\n",
        "- *showAttention se encarga de representar la matriz de atención visualmente, mostrando qué partes de la frase de entrada influyeron más en cada palabra de la salida.*\n",
        "\n",
        "- *evaluateAndShowAttention evalúa una frase de entrada, imprime la traducción generada por el modelo y llama a showAttention para visualizar la atención.*"
      ]
    },
    {
      "cell_type": "code",
      "execution_count": null,
      "metadata": {
        "id": "OMLShkpHxBBW"
      },
      "outputs": [],
      "source": [
        "def showAttention(input_sentence, output_words, attentions):\n",
        "    # Crea una figura para mostrar la matriz de atención\n",
        "    fig = plt.figure()\n",
        "    ax = fig.add_subplot(111)\n",
        "    # Muestra la matriz de atención como una imagen con un mapa de color 'bone'\n",
        "    cax = ax.matshow(attentions.cpu().numpy(), cmap='bone')\n",
        "    fig.colorbar(cax)\n",
        "\n",
        "    # Configura las etiquetas de los ejes\n",
        "    ax.set_xticklabels([''] + input_sentence.split(' ') + ['<EOS>'], rotation=90)  # Etiquetas en el eje X\n",
        "    ax.set_yticklabels([''] + output_words)  # Etiquetas en el eje Y\n",
        "\n",
        "    # Muestra una etiqueta en cada tick (marcador de eje)\n",
        "    ax.xaxis.set_major_locator(ticker.MultipleLocator(1))\n",
        "    ax.yaxis.set_major_locator(ticker.MultipleLocator(1))\n",
        "\n",
        "    # Muestra el gráfico\n",
        "    plt.show()\n",
        "\n",
        "def evaluateAndShowAttention(input_sentence):\n",
        "    # Evalúa el modelo con la frase de entrada y obtiene las palabras de salida y la matriz de atención\n",
        "    output_words, attentions = evaluate(encoder, decoder, input_sentence, input_lang, output_lang)\n",
        "    print('input =', input_sentence)  # Imprime la frase de entrada\n",
        "    print('output =', ' '.join(output_words))  # Imprime la frase de salida generada\n",
        "    # Muestra la atención aplicada en la traducción\n",
        "    showAttention(input_sentence, output_words, attentions[0, :len(output_words), :])\n",
        "\n",
        "\n"
      ]
    },
    {
      "cell_type": "markdown",
      "metadata": {
        "id": "-fBWnSiMsSwK"
      },
      "source": [
        "## Ejecución (entrenamiento y evaluación)"
      ]
    },
    {
      "cell_type": "markdown",
      "metadata": {
        "id": "-3BnG0O_MfCG"
      },
      "source": [
        "En esta parte, ya teniendo todos los métodos necesarios definidos, procederemos al entrenamiento del modelo y a la evaluación de este una vez entrenado.\n",
        "\n",
        "Podemos cargar los datos para la traducción Italiano-->Inglés o para Español-->Inglés y luego proceder al entrenamiento y evaluación del modelo."
      ]
    },
    {
      "cell_type": "markdown",
      "metadata": {
        "id": "iMh7N_mDLq-o"
      },
      "source": [
        "### Italiano-->Inglés"
      ]
    },
    {
      "cell_type": "markdown",
      "metadata": {
        "id": "Z2-AznbdI63_"
      },
      "source": [
        "*El código siguiente define la constante REVERSE_LANG para establecer el sentido de traducción y los idiomas con los que realizará la traducción. En este caso Italiano a Inglés.*"
      ]
    },
    {
      "cell_type": "code",
      "execution_count": null,
      "metadata": {
        "id": "XCDY13KeUKP2"
      },
      "outputs": [],
      "source": [
        "# CASO ITALIANO --> INGLÉS\n",
        "REVERSE_LANG = True    #True para lang2 → lang1 (inglés), y False para lang1 → lang2.\n",
        "LANG_1 = 'eng'\n",
        "LANG_2 = 'ita'"
      ]
    },
    {
      "cell_type": "markdown",
      "metadata": {
        "id": "KbGOZPM_NAIH"
      },
      "source": [
        "#### Carga de datos y preprocesamiento"
      ]
    },
    {
      "cell_type": "markdown",
      "metadata": {
        "id": "H5xpuTC1NFMH"
      },
      "source": [
        "*El código siguiente carga y preprocesa el set de idiomas seleccionado*"
      ]
    },
    {
      "cell_type": "code",
      "execution_count": null,
      "metadata": {
        "colab": {
          "base_uri": "https://localhost:8080/"
        },
        "id": "pr5CmzYiNKcV",
        "outputId": "cf151521-bc39-4850-f924-d59a283a8b77"
      },
      "outputs": [
        {
          "name": "stdout",
          "output_type": "stream",
          "text": [
            "Reading lines...\n",
            "Read 377937 sentence pairs\n",
            "Trimmed to 12209 sentence pairs\n",
            "Counting words...\n",
            "Counted words:\n",
            "ita 2762\n",
            "eng 1416\n",
            "['tu sei malvagio', 'you re evil']\n"
          ]
        }
      ],
      "source": [
        "input_lang, output_lang, pairs = prepareData(LANG_1, LANG_2, REVERSE_LANG)\n",
        "print(random.choice(pairs))  # Imprime un par de frases al azar de los datos preparados."
      ]
    },
    {
      "cell_type": "markdown",
      "metadata": {
        "id": "MpuSl4KuNaM0"
      },
      "source": [
        "#### Ejecución del entrenamiento"
      ]
    },
    {
      "cell_type": "markdown",
      "metadata": {
        "id": "HnsSo_GAsa92"
      },
      "source": [
        "*Este código configura un encoder y un decoder **con atención**, y entrena la red en un conjunto de datos de frases para traducir de un idioma a otro. El entrenamiento se realiza durante 100 épocas, y se imprime la pérdida promedio en cada época mientras se actualiza una gráfica de pérdidas para seguir el progreso del entrenamiento.*"
      ]
    },
    {
      "cell_type": "code",
      "execution_count": null,
      "metadata": {
        "colab": {
          "base_uri": "https://localhost:8080/",
          "height": 564
        },
        "id": "tOWXcnANso6W",
        "outputId": "3138ed83-9dff-45f0-de41-c60affd995bd"
      },
      "outputs": [
        {
          "name": "stdout",
          "output_type": "stream",
          "text": [
            "Reading lines...\n",
            "Read 377937 sentence pairs\n",
            "Trimmed to 12209 sentence pairs\n",
            "Counting words...\n",
            "Counted words:\n",
            "ita 2762\n",
            "eng 1416\n",
            "0m 15s (- 26m 4s) (1 1%) 1.8760\n",
            "0m 33s (- 27m 33s) (2 2%) 1.1042\n",
            "0m 49s (- 26m 54s) (3 3%) 0.6370\n",
            "1m 6s (- 26m 33s) (4 4%) 0.3283\n",
            "1m 24s (- 26m 54s) (5 5%) 0.1941\n",
            "1m 42s (- 26m 40s) (6 6%) 0.1364\n",
            "1m 58s (- 26m 9s) (7 7%) 0.1093\n",
            "2m 15s (- 26m 1s) (8 8%) 0.0956\n",
            "2m 32s (- 25m 41s) (9 9%) 0.0892\n",
            "2m 49s (- 25m 23s) (10 10%) 0.0853\n",
            "3m 6s (- 25m 12s) (11 11%) 0.0811\n",
            "3m 24s (- 24m 58s) (12 12%) 0.0791\n",
            "3m 40s (- 24m 38s) (13 13%) 0.0821\n",
            "3m 57s (- 24m 19s) (14 14%) 0.0763\n",
            "4m 14s (- 24m 3s) (15 15%) 0.0747\n",
            "4m 31s (- 23m 47s) (16 16%) 0.0735\n",
            "4m 48s (- 23m 28s) (17 17%) 0.0731\n",
            "5m 5s (- 23m 12s) (18 18%) 0.0747\n",
            "5m 22s (- 22m 56s) (19 19%) 0.0717\n",
            "5m 40s (- 22m 43s) (20 20%) 0.0698\n",
            "5m 57s (- 22m 26s) (21 21%) 0.0696\n",
            "6m 14s (- 22m 9s) (22 22%) 0.0694\n",
            "6m 31s (- 21m 51s) (23 23%) 0.0676\n",
            "6m 48s (- 21m 33s) (24 24%) 0.0682\n",
            "7m 5s (- 21m 17s) (25 25%) 0.0674\n",
            "7m 22s (- 20m 58s) (26 26%) 0.0673\n",
            "7m 39s (- 20m 42s) (27 27%) 0.0667\n",
            "7m 56s (- 20m 24s) (28 28%) 0.0672\n",
            "8m 13s (- 20m 7s) (29 28%) 0.0657\n",
            "8m 30s (- 19m 50s) (30 30%) 0.0656\n",
            "8m 46s (- 19m 32s) (31 31%) 0.0658\n",
            "9m 3s (- 19m 15s) (32 32%) 0.0656\n",
            "9m 20s (- 18m 58s) (33 33%) 0.0647\n",
            "9m 37s (- 18m 40s) (34 34%) 0.0650\n",
            "9m 53s (- 18m 22s) (35 35%) 0.0661\n",
            "10m 11s (- 18m 7s) (36 36%) 0.0653\n",
            "10m 29s (- 17m 51s) (37 37%) 0.0650\n",
            "10m 45s (- 17m 33s) (38 38%) 0.0636\n",
            "11m 2s (- 17m 16s) (39 39%) 0.0646\n",
            "11m 18s (- 16m 57s) (40 40%) 0.0632\n",
            "11m 34s (- 16m 39s) (41 41%) 0.0641\n",
            "11m 51s (- 16m 22s) (42 42%) 0.0632\n",
            "12m 7s (- 16m 4s) (43 43%) 0.0634\n",
            "12m 23s (- 15m 46s) (44 44%) 0.0617\n",
            "12m 40s (- 15m 29s) (45 45%) 0.0638\n",
            "12m 56s (- 15m 11s) (46 46%) 0.0631\n",
            "13m 12s (- 14m 54s) (47 47%) 0.0640\n",
            "13m 29s (- 14m 37s) (48 48%) 0.0627\n",
            "13m 46s (- 14m 19s) (49 49%) 0.0644\n",
            "14m 2s (- 14m 2s) (50 50%) 0.0625\n",
            "14m 19s (- 13m 45s) (51 51%) 0.0609\n",
            "14m 35s (- 13m 27s) (52 52%) 0.0616\n",
            "14m 51s (- 13m 10s) (53 53%) 0.0626\n",
            "15m 8s (- 12m 53s) (54 54%) 0.0625\n",
            "15m 24s (- 12m 36s) (55 55%) 0.0614\n",
            "15m 40s (- 12m 19s) (56 56%) 0.0635\n",
            "15m 57s (- 12m 2s) (57 56%) 0.0623\n",
            "16m 13s (- 11m 44s) (58 57%) 0.0609\n",
            "16m 29s (- 11m 27s) (59 59%) 0.0609\n",
            "16m 46s (- 11m 10s) (60 60%) 0.0608\n",
            "17m 2s (- 10m 53s) (61 61%) 0.0629\n",
            "17m 18s (- 10m 36s) (62 62%) 0.0628\n",
            "17m 35s (- 10m 19s) (63 63%) 0.0614\n",
            "17m 51s (- 10m 2s) (64 64%) 0.0630\n",
            "18m 8s (- 9m 45s) (65 65%) 0.0603\n",
            "18m 24s (- 9m 28s) (66 66%) 0.0595\n",
            "18m 40s (- 9m 12s) (67 67%) 0.0611\n",
            "18m 57s (- 8m 55s) (68 68%) 0.0622\n",
            "19m 13s (- 8m 38s) (69 69%) 0.0614\n",
            "19m 29s (- 8m 21s) (70 70%) 0.0609\n",
            "19m 46s (- 8m 4s) (71 71%) 0.0625\n",
            "20m 2s (- 7m 47s) (72 72%) 0.0608\n",
            "20m 18s (- 7m 30s) (73 73%) 0.0607\n",
            "20m 35s (- 7m 14s) (74 74%) 0.0607\n",
            "20m 51s (- 6m 57s) (75 75%) 0.0609\n",
            "21m 8s (- 6m 40s) (76 76%) 0.0603\n",
            "21m 24s (- 6m 23s) (77 77%) 0.0617\n",
            "21m 40s (- 6m 6s) (78 78%) 0.0601\n",
            "21m 57s (- 5m 50s) (79 79%) 0.0613\n",
            "22m 13s (- 5m 33s) (80 80%) 0.0601\n",
            "22m 30s (- 5m 16s) (81 81%) 0.0611\n",
            "22m 46s (- 5m 0s) (82 82%) 0.0601\n",
            "23m 2s (- 4m 43s) (83 83%) 0.0599\n",
            "23m 18s (- 4m 26s) (84 84%) 0.0603\n",
            "23m 35s (- 4m 9s) (85 85%) 0.0597\n",
            "23m 51s (- 3m 53s) (86 86%) 0.0608\n",
            "24m 8s (- 3m 36s) (87 87%) 0.0606\n",
            "24m 25s (- 3m 19s) (88 88%) 0.0611\n",
            "24m 41s (- 3m 3s) (89 89%) 0.0609\n",
            "24m 57s (- 2m 46s) (90 90%) 0.0592\n",
            "25m 14s (- 2m 29s) (91 91%) 0.0602\n",
            "25m 30s (- 2m 13s) (92 92%) 0.0604\n",
            "25m 46s (- 1m 56s) (93 93%) 0.0599\n",
            "26m 3s (- 1m 39s) (94 94%) 0.0602\n",
            "26m 19s (- 1m 23s) (95 95%) 0.0607\n",
            "26m 36s (- 1m 6s) (96 96%) 0.0589\n",
            "26m 52s (- 0m 49s) (97 97%) 0.0611\n",
            "27m 9s (- 0m 33s) (98 98%) 0.0599\n",
            "27m 25s (- 0m 16s) (99 99%) 0.0612\n",
            "27m 41s (- 0m 0s) (100 100%) 0.0605\n"
          ]
        },
        {
          "data": {
            "text/plain": [
              "<Figure size 640x480 with 0 Axes>"
            ]
          },
          "metadata": {},
          "output_type": "display_data"
        },
        {
          "data": {
            "image/png": "[encoded data removed]",
            "text/plain": [
              "<Figure size 640x480 with 1 Axes>"
            ]
          },
          "metadata": {},
          "output_type": "display_data"
        }
      ],
      "source": [
        "%matplotlib inline\n",
        "# Asegura que los gráficos se muestren dentro del notebook.\n",
        "\n",
        "# Define el tamaño de la capa oculta, el tamaño del lote y el número de épocas.\n",
        "hidden_size = 256  # Aquí se define el tamaño de la capa oculta como 256 nodos\n",
        "batch_size = 32  # Define el tamaño del lote: número de ejemplos procesados simultáneamente en cada paso de entrenamiento.\n",
        "epochs = 100     # Número de épocas de entrenamiento: cantidad de veces que el modelo pasará por todo el conjunto de datos.\n",
        "\n",
        "# Obtiene el dataloader con frases en los idiomas especificados y convierte las frases en tensores.\n",
        "input_lang, output_lang, train_dataloader = get_dataloader(batch_size, LANG_1, LANG_2)\n",
        "\n",
        "# Inicializa el modelo de encoder con el tamaño de la entrada igual al número de palabras únicas en el idioma de entrada.\n",
        "encoder = EncoderRNN(input_lang.n_words, hidden_size).to(device)\n",
        "\n",
        "# Inicializa el modelo de decoder con atención.\n",
        "decoder = AttnDecoderRNN(hidden_size, output_lang.n_words).to(device)\n",
        "\n",
        "# Entrena el modelo, imprimiendo el error de entrenamiento y actualizando la gráfica de pérdida en cada época.\n",
        "train(train_dataloader, encoder, decoder, epochs, print_every=1, plot_every=1)\n"
      ]
    },
    {
      "cell_type": "markdown",
      "metadata": {
        "id": "SAcZzG8CtLD7"
      },
      "source": [
        "*El código siguiente se utiliza para evaluar el rendimiento del modelo previamente entrenado en datos de prueba al elegir frases al azar del conjunto de datos.*\n",
        "\n",
        "*Este fragmento de código coloca al encoder y decoder en modo de evaluación (sin gradientes), lo que es más eficiente y adecuado para hacer predicciones. Luego, llama a evaluateRandomly para que seleccione 10 frases al azar del conjunto de datos y las traduzca, mostrando tanto la frase de entrada (>) como la traducción de salida generada por el modelo (<) y la traducción correcta (=)*"
      ]
    },
    {
      "cell_type": "markdown",
      "metadata": {
        "id": "n_JuaHsLVevX"
      },
      "source": [
        "#### Evaluación de resultados"
      ]
    },
    {
      "cell_type": "code",
      "execution_count": null,
      "metadata": {
        "colab": {
          "base_uri": "https://localhost:8080/"
        },
        "id": "4oN5FsWDtQ5Z",
        "outputId": "ab6dfab7-87c3-45f2-f52e-22f8d1225da3"
      },
      "outputs": [
        {
          "name": "stdout",
          "output_type": "stream",
          "text": [
            "> sto ancora lavorando\n",
            "= i m still working\n",
            "< i m still working <EOS>\n",
            "\n",
            "> io sono pulito\n",
            "= i m clean\n",
            "< i m clean <EOS>\n",
            "\n",
            "> tu non sei diversa\n",
            "= you re no different\n",
            "< you re no different <EOS>\n",
            "\n",
            "> sono tuoi\n",
            "= they re yours\n",
            "< they re yours <EOS>\n",
            "\n",
            "> sono ancora frustrata\n",
            "= i m still frustrated\n",
            "< i m still frustrated <EOS>\n",
            "\n",
            "> sei insolito\n",
            "= you re unusual\n",
            "< you re unusual <EOS>\n",
            "\n",
            "> io sono una masochista\n",
            "= i m a masochist\n",
            "< i m a masochist <EOS>\n",
            "\n",
            "> siamo veramente ubriachi\n",
            "= we re really drunk\n",
            "< we re really drunk <EOS>\n",
            "\n",
            "> io sono molto nervoso\n",
            "= i m very nervous\n",
            "< i m very nervous <EOS>\n",
            "\n",
            "> ho quasi trent anni\n",
            "= i m almost thirty\n",
            "< i m almost thirty <EOS>\n",
            "\n"
          ]
        }
      ],
      "source": [
        "encoder.eval()  # Configura el modelo encoder en modo de evaluación (desactiva el cálculo de gradientes).\n",
        "decoder.eval()  # Configura el modelo decoder en modo de evaluación.\n",
        "\n",
        "# Llama a la función para evaluar el modelo de forma aleatoria en 10 frases del conjunto de datos.\n",
        "evaluateRandomly(encoder, decoder)\n"
      ]
    },
    {
      "cell_type": "markdown",
      "metadata": {
        "id": "nqZoDP-6SKxr"
      },
      "source": [
        "*El código a continuación ejecuta la evaluación de un modelo de traducción basado en RNN y visualiza la atención que el modelo aplica a las palabras de la entrada mientras genera la salida. Primero, evalúa la frase de entrada, luego muestra la frase de salida generada y representa la matriz de atención con un gráfico para visualizar qué palabras de la entrada fueron más relevantes para cada palabra generada en la salida.*"
      ]
    },
    {
      "cell_type": "code",
      "execution_count": null,
      "metadata": {
        "colab": {
          "base_uri": "https://localhost:8080/",
          "height": 1000
        },
        "id": "1s3AQbhGR1fU",
        "outputId": "b5358528-b091-45d2-c239-a4f2a26051ab"
      },
      "outputs": [
        {
          "name": "stdout",
          "output_type": "stream",
          "text": [
            "input = sei una studentessa\n",
            "output = you are a student <EOS>\n"
          ]
        },
        {
          "name": "stderr",
          "output_type": "stream",
          "text": [
            "C:\\Users\\aalon\\AppData\\Local\\Temp\\ipykernel_11676\\131804528.py:10: UserWarning: set_ticklabels() should only be used with a fixed number of ticks, i.e. after set_ticks() or using a FixedLocator.\n",
            "  ax.set_xticklabels([''] + input_sentence.split(' ') + ['<EOS>'], rotation=90)  # Etiquetas en el eje X\n",
            "C:\\Users\\aalon\\AppData\\Local\\Temp\\ipykernel_11676\\131804528.py:11: UserWarning: set_ticklabels() should only be used with a fixed number of ticks, i.e. after set_ticks() or using a FixedLocator.\n",
            "  ax.set_yticklabels([''] + output_words)  # Etiquetas en el eje Y\n"
          ]
        },
        {
          "data": {
            "image/png": "[encoded data removed]",
            "text/plain": [
              "<Figure size 640x480 with 2 Axes>"
            ]
          },
          "metadata": {},
          "output_type": "display_data"
        },
        {
          "name": "stdout",
          "output_type": "stream",
          "text": [
            "input = ho finito di lavorare\n",
            "output = i m done working <EOS>\n"
          ]
        },
        {
          "name": "stderr",
          "output_type": "stream",
          "text": [
            "C:\\Users\\aalon\\AppData\\Local\\Temp\\ipykernel_11676\\131804528.py:10: UserWarning: set_ticklabels() should only be used with a fixed number of ticks, i.e. after set_ticks() or using a FixedLocator.\n",
            "  ax.set_xticklabels([''] + input_sentence.split(' ') + ['<EOS>'], rotation=90)  # Etiquetas en el eje X\n",
            "C:\\Users\\aalon\\AppData\\Local\\Temp\\ipykernel_11676\\131804528.py:11: UserWarning: set_ticklabels() should only be used with a fixed number of ticks, i.e. after set_ticks() or using a FixedLocator.\n",
            "  ax.set_yticklabels([''] + output_words)  # Etiquetas en el eje Y\n"
          ]
        },
        {
          "data": {
            "image/png": "[encoded data removed]",
            "text/plain": [
              "<Figure size 640x480 with 2 Axes>"
            ]
          },
          "metadata": {},
          "output_type": "display_data"
        }
      ],
      "source": [
        "# Evalúa y muestra la atención para varias frases de ejemplo\n",
        "if REVERSE_LANG:    # True para lang2 → lang1\n",
        "  if LANG_2=='ita':\n",
        "      evaluateAndShowAttention('sei una studentessa')\n",
        "      evaluateAndShowAttention('ho finito di lavorare')\n",
        "  else:\n",
        "      evaluateAndShowAttention('usted es la mejor')\n",
        "      evaluateAndShowAttention('estoy bastante cansado')\n",
        "else:               # False para lang1 → lang2\n",
        "    evaluateAndShowAttention('you re very stylish')\n",
        "    evaluateAndShowAttention('he is very brave')"
      ]
    },
    {
      "cell_type": "markdown",
      "source": [
        "### Español-->Inglés"
      ],
      "metadata": {
        "id": "6a4ShtMwymLu"
      }
    },
    {
      "cell_type": "markdown",
      "source": [
        "*El código siguiente define la constante REVERSE_LANG para establecer el sentido de traducción y los idiomas con los que realizará la traducción. En este caso Español a Inglés.*"
      ],
      "metadata": {
        "id": "j8fxeZnjyxc7"
      }
    },
    {
      "cell_type": "code",
      "execution_count": null,
      "metadata": {
        "id": "SBqvrVGiUPr3"
      },
      "outputs": [],
      "source": [
        "# CASO ESPAÑOL --> INGLÉS\n",
        "REVERSE_LANG = True    #True para lang2 → lang1 (inglés), y False para lang1 → lang2.\n",
        "LANG_1 = 'eng'\n",
        "LANG_2 = 'spa'"
      ]
    },
    {
      "cell_type": "markdown",
      "source": [],
      "metadata": {
        "id": "678s1qAlzVe3"
      }
    },
    {
      "cell_type": "markdown",
      "metadata": {
        "id": "JWzXMc9tzWh_"
      },
      "source": [
        "#### Carga de datos y preprocesamiento"
      ]
    },
    {
      "cell_type": "markdown",
      "metadata": {
        "id": "QpgwOTBFzWiA"
      },
      "source": [
        "*El código siguiente carga y preprocesa el set de idiomas seleccionado*"
      ]
    },
    {
      "cell_type": "code",
      "execution_count": null,
      "metadata": {
        "colab": {
          "base_uri": "https://localhost:8080/"
        },
        "outputId": "dce51410-cbeb-473a-b266-e9cb5e33e88b",
        "id": "f3Fn5UmTzWiB"
      },
      "outputs": [
        {
          "output_type": "stream",
          "name": "stdout",
          "text": [
            "Reading lines...\n",
            "Read 141543 sentence pairs\n",
            "Trimmed to 2802 sentence pairs\n",
            "Counting words...\n",
            "Counted words:\n",
            "spa 1524\n",
            "eng 1036\n",
            "['soy fotografo', 'i m a photographer']\n"
          ]
        }
      ],
      "source": [
        "input_lang, output_lang, pairs = prepareData(LANG_1, LANG_2, REVERSE_LANG)\n",
        "print(random.choice(pairs))  # Imprime un par de frases al azar de los datos preparados."
      ]
    },
    {
      "cell_type": "markdown",
      "metadata": {
        "id": "RCdGdzmCzWiC"
      },
      "source": [
        "#### Ejecución del entrenamiento"
      ]
    },
    {
      "cell_type": "markdown",
      "metadata": {
        "id": "u3ZquyiMzWiC"
      },
      "source": [
        "*Este código configura un encoder y un decoder **con atención**, y entrena la red en un conjunto de datos de frases para traducir de un idioma a otro. El entrenamiento se realiza durante 100 épocas, y se imprime la pérdida promedio en cada época mientras se actualiza una gráfica de pérdidas para seguir el progreso del entrenamiento.*"
      ]
    },
    {
      "cell_type": "code",
      "execution_count": null,
      "metadata": {
        "colab": {
          "base_uri": "https://localhost:8080/",
          "height": 1000
        },
        "outputId": "6cadfcd5-8209-43b0-fdbd-aec4f71022f3",
        "id": "TzOQiUDCzWiD"
      },
      "outputs": [
        {
          "output_type": "stream",
          "name": "stdout",
          "text": [
            "Reading lines...\n",
            "Read 141543 sentence pairs\n",
            "Trimmed to 2802 sentence pairs\n",
            "Counting words...\n",
            "Counted words:\n",
            "spa 1524\n",
            "eng 1036\n",
            "0m 10s (- 18m 3s) (1 1%) 2.8859\n",
            "0m 17s (- 14m 25s) (2 2%) 1.8566\n",
            "0m 23s (- 12m 30s) (3 3%) 1.5321\n",
            "0m 29s (- 11m 55s) (4 4%) 1.2917\n",
            "0m 35s (- 11m 9s) (5 5%) 1.0845\n",
            "0m 41s (- 10m 54s) (6 6%) 0.8971\n",
            "0m 47s (- 10m 29s) (7 7%) 0.7268\n",
            "0m 53s (- 10m 19s) (8 8%) 0.5739\n",
            "0m 59s (- 10m 1s) (9 9%) 0.4441\n",
            "1m 5s (- 9m 49s) (10 10%) 0.3433\n",
            "1m 11s (- 9m 38s) (11 11%) 0.2522\n",
            "1m 17s (- 9m 25s) (12 12%) 0.1950\n",
            "1m 23s (- 9m 19s) (13 13%) 0.1555\n",
            "1m 29s (- 9m 7s) (14 14%) 0.1293\n",
            "1m 35s (- 9m 1s) (15 15%) 0.1109\n",
            "1m 41s (- 8m 50s) (16 16%) 0.0964\n",
            "1m 47s (- 8m 45s) (17 17%) 0.0893\n",
            "1m 53s (- 8m 34s) (18 18%) 0.0815\n",
            "1m 59s (- 8m 28s) (19 19%) 0.0794\n",
            "2m 4s (- 8m 19s) (20 20%) 0.0732\n",
            "2m 10s (- 8m 10s) (21 21%) 0.0725\n",
            "2m 16s (- 8m 5s) (22 22%) 0.0691\n",
            "2m 22s (- 7m 56s) (23 23%) 0.0686\n",
            "2m 28s (- 7m 51s) (24 24%) 0.0667\n",
            "2m 34s (- 7m 43s) (25 25%) 0.0639\n",
            "2m 40s (- 7m 38s) (26 26%) 0.0607\n",
            "2m 46s (- 7m 30s) (27 27%) 0.0621\n",
            "2m 54s (- 7m 28s) (28 28%) 0.0595\n",
            "2m 59s (- 7m 20s) (29 28%) 0.0607\n",
            "3m 6s (- 7m 15s) (30 30%) 0.0584\n",
            "3m 11s (- 7m 7s) (31 31%) 0.0583\n",
            "3m 18s (- 7m 0s) (32 32%) 0.0557\n",
            "3m 24s (- 6m 54s) (33 33%) 0.0561\n",
            "3m 29s (- 6m 47s) (34 34%) 0.0559\n",
            "3m 36s (- 6m 41s) (35 35%) 0.0554\n",
            "3m 41s (- 6m 34s) (36 36%) 0.0556\n",
            "3m 48s (- 6m 28s) (37 37%) 0.0528\n",
            "3m 53s (- 6m 21s) (38 38%) 0.0580\n",
            "4m 0s (- 6m 15s) (39 39%) 0.0632\n",
            "4m 5s (- 6m 8s) (40 40%) 0.0619\n",
            "4m 11s (- 6m 2s) (41 41%) 0.0608\n",
            "4m 17s (- 5m 55s) (42 42%) 0.0589\n",
            "4m 23s (- 5m 49s) (43 43%) 0.0552\n",
            "4m 29s (- 5m 43s) (44 44%) 0.0521\n",
            "4m 35s (- 5m 36s) (45 45%) 0.0529\n",
            "4m 41s (- 5m 30s) (46 46%) 0.0531\n",
            "4m 47s (- 5m 23s) (47 47%) 0.0526\n",
            "4m 53s (- 5m 18s) (48 48%) 0.0508\n",
            "4m 59s (- 5m 11s) (49 49%) 0.0520\n",
            "5m 5s (- 5m 5s) (50 50%) 0.0512\n",
            "5m 11s (- 4m 59s) (51 51%) 0.0504\n",
            "5m 17s (- 4m 52s) (52 52%) 0.0523\n",
            "5m 23s (- 4m 46s) (53 53%) 0.0512\n",
            "5m 28s (- 4m 40s) (54 54%) 0.0546\n",
            "5m 35s (- 4m 34s) (55 55%) 0.0531\n",
            "5m 40s (- 4m 27s) (56 56%) 0.0519\n",
            "5m 47s (- 4m 22s) (57 56%) 0.0509\n",
            "5m 52s (- 4m 15s) (58 57%) 0.0508\n",
            "5m 59s (- 4m 9s) (59 59%) 0.0543\n",
            "6m 4s (- 4m 3s) (60 60%) 0.0552\n",
            "6m 11s (- 3m 57s) (61 61%) 0.0542\n",
            "6m 17s (- 3m 51s) (62 62%) 0.0513\n",
            "6m 22s (- 3m 44s) (63 63%) 0.0508\n",
            "6m 29s (- 3m 38s) (64 64%) 0.0508\n",
            "6m 34s (- 3m 32s) (65 65%) 0.0503\n",
            "6m 41s (- 3m 26s) (66 66%) 0.0543\n",
            "6m 47s (- 3m 20s) (67 67%) 0.0523\n",
            "6m 53s (- 3m 14s) (68 68%) 0.0504\n",
            "6m 59s (- 3m 8s) (69 69%) 0.0482\n",
            "7m 8s (- 3m 3s) (70 70%) 0.0494\n",
            "7m 13s (- 2m 57s) (71 71%) 0.0494\n",
            "7m 20s (- 2m 51s) (72 72%) 0.0482\n",
            "7m 27s (- 2m 45s) (73 73%) 0.0497\n",
            "7m 32s (- 2m 39s) (74 74%) 0.0491\n",
            "7m 39s (- 2m 33s) (75 75%) 0.0495\n",
            "7m 44s (- 2m 26s) (76 76%) 0.0497\n",
            "7m 51s (- 2m 20s) (77 77%) 0.0509\n",
            "7m 56s (- 2m 14s) (78 78%) 0.0539\n",
            "8m 3s (- 2m 8s) (79 79%) 0.0511\n",
            "8m 9s (- 2m 2s) (80 80%) 0.0515\n",
            "8m 15s (- 1m 56s) (81 81%) 0.0504\n",
            "8m 21s (- 1m 50s) (82 82%) 0.0517\n",
            "8m 27s (- 1m 44s) (83 83%) 0.0494\n",
            "8m 33s (- 1m 37s) (84 84%) 0.0496\n",
            "8m 39s (- 1m 31s) (85 85%) 0.0493\n",
            "8m 45s (- 1m 25s) (86 86%) 0.0488\n",
            "8m 51s (- 1m 19s) (87 87%) 0.0473\n",
            "8m 57s (- 1m 13s) (88 88%) 0.0475\n",
            "9m 3s (- 1m 7s) (89 89%) 0.0474\n",
            "9m 9s (- 1m 1s) (90 90%) 0.0471\n",
            "9m 15s (- 0m 54s) (91 91%) 0.0471\n",
            "9m 21s (- 0m 48s) (92 92%) 0.0465\n",
            "9m 27s (- 0m 42s) (93 93%) 0.0469\n",
            "9m 33s (- 0m 36s) (94 94%) 0.0472\n",
            "9m 39s (- 0m 30s) (95 95%) 0.0489\n",
            "9m 45s (- 0m 24s) (96 96%) 0.0483\n",
            "9m 51s (- 0m 18s) (97 97%) 0.0487\n",
            "9m 57s (- 0m 12s) (98 98%) 0.0488\n",
            "10m 4s (- 0m 6s) (99 99%) 0.0510\n",
            "10m 10s (- 0m 0s) (100 100%) 0.0591\n"
          ]
        },
        {
          "output_type": "display_data",
          "data": {
            "text/plain": [
              "<Figure size 640x480 with 0 Axes>"
            ]
          },
          "metadata": {}
        },
        {
          "output_type": "display_data",
          "data": {
            "text/plain": [
              "<Figure size 640x480 with 1 Axes>"
            ],
            "image/png": "[encoded data removed]"
          },
          "metadata": {}
        }
      ],
      "source": [
        "%matplotlib inline\n",
        "# Asegura que los gráficos se muestren dentro del notebook.\n",
        "\n",
        "# Define el tamaño de la capa oculta, el tamaño del lote y el número de épocas.\n",
        "hidden_size = 256  # Aquí se define el tamaño de la capa oculta como 256 nodos\n",
        "batch_size = 32  # Define el tamaño del lote: número de ejemplos procesados simultáneamente en cada paso de entrenamiento.\n",
        "epochs = 100     # Número de épocas de entrenamiento: cantidad de veces que el modelo pasará por todo el conjunto de datos.\n",
        "\n",
        "# Obtiene el dataloader con frases en los idiomas especificados y convierte las frases en tensores.\n",
        "input_lang, output_lang, train_dataloader = get_dataloader(batch_size, LANG_1, LANG_2)\n",
        "\n",
        "# Inicializa el modelo de encoder con el tamaño de la entrada igual al número de palabras únicas en el idioma de entrada.\n",
        "encoder = EncoderRNN(input_lang.n_words, hidden_size).to(device)\n",
        "\n",
        "# Inicializa el modelo de decoder con atención.\n",
        "decoder = AttnDecoderRNN(hidden_size, output_lang.n_words).to(device)\n",
        "\n",
        "# Entrena el modelo, imprimiendo el error de entrenamiento y actualizando la gráfica de pérdida en cada época.\n",
        "train(train_dataloader, encoder, decoder, epochs, print_every=1, plot_every=1)\n"
      ]
    },
    {
      "cell_type": "markdown",
      "metadata": {
        "id": "aqYlS01GzWiD"
      },
      "source": [
        "*El código siguiente se utiliza para evaluar el rendimiento del modelo previamente entrenado en datos de prueba al elegir frases al azar del conjunto de datos.*\n",
        "\n",
        "*Este fragmento de código coloca al encoder y decoder en modo de evaluación (sin gradientes), lo que es más eficiente y adecuado para hacer predicciones. Luego, llama a evaluateRandomly para que seleccione 10 frases al azar del conjunto de datos y las traduzca, mostrando tanto la frase de entrada (>) como la traducción de salida generada por el modelo (<) y la traducción correcta (=)*"
      ]
    },
    {
      "cell_type": "markdown",
      "metadata": {
        "id": "0-t9ApJUzWiD"
      },
      "source": [
        "#### Evaluación de resultados"
      ]
    },
    {
      "cell_type": "code",
      "execution_count": null,
      "metadata": {
        "colab": {
          "base_uri": "https://localhost:8080/"
        },
        "outputId": "1aa4540c-b3e4-45c8-ae86-bb28083bf8f5",
        "id": "-pkde966zWiD"
      },
      "outputs": [
        {
          "output_type": "stream",
          "name": "stdout",
          "text": [
            "> eres buena\n",
            "= you re good\n",
            "< you re good <EOS>\n",
            "\n",
            "> estamos a cargo\n",
            "= we re in charge\n",
            "< we re in charge <EOS>\n",
            "\n",
            "> me falta uno\n",
            "= i m missing one\n",
            "< i m missing one <EOS>\n",
            "\n",
            "> no soy alto\n",
            "= i m not tall\n",
            "< i m not tall <EOS>\n",
            "\n",
            "> estas dormido\n",
            "= you re sleepy\n",
            "< you re sleepy <EOS>\n",
            "\n",
            "> sos muy lista\n",
            "= you are very smart\n",
            "< you are very smart <EOS>\n",
            "\n",
            "> son espias\n",
            "= they re spies\n",
            "< they re spies <EOS>\n",
            "\n",
            "> estoy en la carcel\n",
            "= i m in jail\n",
            "< i m in jail <EOS>\n",
            "\n",
            "> ya has terminado\n",
            "= you re finished already\n",
            "< you re finished already <EOS>\n",
            "\n",
            "> estoy feliz !\n",
            "= i am happy\n",
            "< i am happy <EOS>\n",
            "\n"
          ]
        }
      ],
      "source": [
        "encoder.eval()  # Configura el modelo encoder en modo de evaluación (desactiva el cálculo de gradientes).\n",
        "decoder.eval()  # Configura el modelo decoder en modo de evaluación.\n",
        "\n",
        "# Llama a la función para evaluar el modelo de forma aleatoria en 10 frases del conjunto de datos.\n",
        "evaluateRandomly(encoder, decoder)\n"
      ]
    },
    {
      "cell_type": "markdown",
      "metadata": {
        "id": "gd_YhPGTzWiE"
      },
      "source": [
        "*El código a continuación ejecuta la evaluación de un modelo de traducción basado en RNN y visualiza la atención que el modelo aplica a las palabras de la entrada mientras genera la salida. Primero, evalúa la frase de entrada, luego muestra la frase de salida generada y representa la matriz de atención con un gráfico para visualizar qué palabras de la entrada fueron más relevantes para cada palabra generada en la salida.*"
      ]
    },
    {
      "cell_type": "code",
      "execution_count": null,
      "metadata": {
        "colab": {
          "base_uri": "https://localhost:8080/",
          "height": 1000
        },
        "outputId": "e16158ee-6e5c-4fed-ea7c-feedb709494c",
        "id": "FtCxFC9vzWiE"
      },
      "outputs": [
        {
          "output_type": "stream",
          "name": "stdout",
          "text": [
            "input = usted es la mejor\n",
            "output = you are the best <EOS>\n"
          ]
        },
        {
          "output_type": "stream",
          "name": "stderr",
          "text": [
            "<ipython-input-17-110a4424089d>:10: UserWarning: set_ticklabels() should only be used with a fixed number of ticks, i.e. after set_ticks() or using a FixedLocator.\n",
            "  ax.set_xticklabels([''] + input_sentence.split(' ') + ['<EOS>'], rotation=90)  # Etiquetas en el eje X\n",
            "<ipython-input-17-110a4424089d>:11: UserWarning: set_ticklabels() should only be used with a fixed number of ticks, i.e. after set_ticks() or using a FixedLocator.\n",
            "  ax.set_yticklabels([''] + output_words)  # Etiquetas en el eje Y\n"
          ]
        },
        {
          "output_type": "display_data",
          "data": {
            "text/plain": [
              "<Figure size 640x480 with 2 Axes>"
            ],
            "image/png": "[encoded data removed]"
          },
          "metadata": {}
        },
        {
          "output_type": "stream",
          "name": "stdout",
          "text": [
            "input = estoy bastante cansado\n",
            "output = i m quite tired <EOS>\n"
          ]
        },
        {
          "output_type": "stream",
          "name": "stderr",
          "text": [
            "<ipython-input-17-110a4424089d>:10: UserWarning: set_ticklabels() should only be used with a fixed number of ticks, i.e. after set_ticks() or using a FixedLocator.\n",
            "  ax.set_xticklabels([''] + input_sentence.split(' ') + ['<EOS>'], rotation=90)  # Etiquetas en el eje X\n",
            "<ipython-input-17-110a4424089d>:11: UserWarning: set_ticklabels() should only be used with a fixed number of ticks, i.e. after set_ticks() or using a FixedLocator.\n",
            "  ax.set_yticklabels([''] + output_words)  # Etiquetas en el eje Y\n"
          ]
        },
        {
          "output_type": "display_data",
          "data": {
            "text/plain": [
              "<Figure size 640x480 with 2 Axes>"
            ],
            "image/png": "[encoded data removed]"
          },
          "metadata": {}
        }
      ],
      "source": [
        "# Evalúa y muestra la atención para varias frases de ejemplo\n",
        "if REVERSE_LANG:    # True para lang2 → lang1\n",
        "  if LANG_2=='ita':\n",
        "      evaluateAndShowAttention('sei una studentessa')\n",
        "      evaluateAndShowAttention('ho finito di lavorare')\n",
        "  else:\n",
        "      evaluateAndShowAttention('usted es la mejor')\n",
        "      evaluateAndShowAttention('estoy bastante cansado')\n",
        "else:               # False para lang1 → lang2\n",
        "    evaluateAndShowAttention('you re very stylish')\n",
        "    evaluateAndShowAttention('he is very brave')"
      ]
    },
    {
      "cell_type": "markdown",
      "metadata": {
        "id": "13SjVV7SDt6p"
      },
      "source": [
        "## Análisis de Resultados"
      ]
    },
    {
      "cell_type": "markdown",
      "metadata": {
        "id": "Ma2EAOSNKGIg"
      },
      "source": [
        "Este apartado presenta el análisis de los modelos de traducción con atención de Bahdanau, entrenados para realizar traducciones del español al inglés y del italiano al inglés. Se analizaron tanto las métricas de pérdida durante el entrenamiento como los ejemplos de traducción y las matrices de atención generadas.\n"
      ]
    },
    {
      "cell_type": "markdown",
      "metadata": {
        "id": "C3StiqsbKIWD"
      },
      "source": [
        "### Evolución de la Pérdida durante el Entrenamiento"
      ]
    },
    {
      "cell_type": "markdown",
      "metadata": {
        "id": "kcJyK4y-KKTs"
      },
      "source": [
        "La pérdida de entrenamiento para ambos modelos muestra una disminución consistente a lo largo de las 100 épocas. A continuación, se presentan los detalles de pérdida observados en cada caso:\n",
        "\n",
        "- **Traducción del español al inglés:** El modelo comenzó con una pérdida de 2.8881 en la primera época y finalizó con una pérdida de 0.0460, lo cual indica que el modelo fue ajustándose adecuadamente a los datos de entrenamiento.\n",
        "- **Traducción del italiano al inglés:** Para este modelo, la pérdida inicial fue de 1.8760, y después de 100 épocas se redujo a 0.0605. Esta tendencia sugiere una convergencia estable del modelo y un buen ajuste a los datos.\n"
      ]
    },
    {
      "cell_type": "markdown",
      "metadata": {
        "id": "TYYPdhh5KNfv"
      },
      "source": [
        "### Análisis de Ejemplos de Traducción"
      ]
    },
    {
      "cell_type": "markdown",
      "metadata": {
        "id": "4ZFJSmZMDxFz"
      },
      "source": [
        "Para evaluar la calidad de las traducciones, se presentan ejemplos de frases de prueba traducidas por ambos modelos.\n",
        "\n",
        "Hacer **clic** para expandir y ver los ejemplos completos de cada modelo.<BR><BR>\n",
        "\n",
        "<details>\n",
        "<summary><strong>Español-->Inglés</strong></summary>\n",
        "<BR>\n",
        "> el aun sigue vivo<BR>\n",
        "= he s still alive<BR>\n",
        "< he is still alive <EOS><BR>\n",
        "<BR>\n",
        "> tu siempre eres bienvenido<BR>\n",
        "= you are always welcome<BR>\n",
        "< you are always welcome <EOS><BR>\n",
        "<BR>\n",
        "> estoy de vacaciones<BR>\n",
        "= i m on holiday<BR>\n",
        "< i m on vacation <EOS><BR>\n",
        "<BR>\n",
        "> estan invitados<BR>\n",
        "= you re invited<BR>\n",
        "< you re invited <EOS><BR>\n",
        "<BR>\n",
        "> estas perdido<BR>\n",
        "= you re lost<BR>\n",
        "< you re lost <EOS><BR>\n",
        "<BR>\n",
        "> somos prisioneros<BR>\n",
        "= we re prisoners<BR>\n",
        "< we re prisoners <EOS><BR>\n",
        "<BR>\n",
        "> soy empresario<BR>\n",
        "...<BR>\n",
        "> sos muy valiente<BR>\n",
        "= you are very brave<BR>\n",
        "< you are very brave <EOS><BR>\n",
        "\n",
        "</details>\n",
        "\n",
        "<details>\n",
        "<summary><strong>Italiano-->Inglés</strong></summary>\n",
        "<BR>\n",
        "> sto ancora lavorando<BR>\n",
        "= i m still working<BR>\n",
        "< i m still working <EOS><BR>\n",
        "<BR>\n",
        "> io sono pulito<BR>\n",
        "= i m clean<BR>\n",
        "< i m clean <EOS><BR>\n",
        "<BR>\n",
        "> tu non sei diversa<BR>\n",
        "= you re no different<BR>\n",
        "< you re no different <EOS><BR>\n",
        "<BR>\n",
        "> sono tuoi<BR>\n",
        "= they re yours<BR>\n",
        "< they re yours <EOS><BR>\n",
        "<BR>\n",
        "> sono ancora frustrata<BR>\n",
        "= i m still frustrated<BR>\n",
        "< i m still frustrated <EOS><BR>\n",
        "<BR>\n",
        "> sei insolito<BR>\n",
        "= you re unusual<BR>\n",
        "< you re unusual <EOS><BR>\n",
        "<BR>\n",
        "> io sono una masochista<BR>\n",
        "...<BR>\n",
        "> ho quasi trent anni<BR>\n",
        "= i m almost thirty<BR>\n",
        "< i m almost thirty <EOS><BR>\n",
        "\n",
        "</details>\n",
        "<BR>\n",
        "\n",
        "**Español a Inglés**\n",
        "- **Frase en español:** _el aún sigue vivo_ - **Esperada:** _he's still alive_ - **Predicción:** _he is still alive_ - **Análisis:** La predicción es correcta, aunque el modelo utilizó una estructura ligeramente distinta (_he is_ en lugar de _he's_). Esto muestra que el modelo comprende el sentido general de la frase, aunque no siempre use la contracción esperada.\n",
        "\n",
        "- **Frase en español:** _tú siempre eres bienvenido_ - **Esperada:** _you are always welcome_ - **Predicción:** _you are always welcome_ - **Análisis:** La traducción es exacta, mostrando que el modelo capta bien el significado y estructura la frase de manera natural en inglés.\n",
        "\n",
        "- **Frase en español:** _estoy de vacaciones_ - **Esperada:** _I'm on holiday_ - **Predicción:** _I'm on vacation_ - **Análisis:** La predicción es adecuada en términos de significado, aunque muestra una diferencia cultural en el uso de palabras (_holiday_ vs _vacation_). Esto sugiere que el modelo puede seleccionar alternativas contextuales correctas, aunque no siempre coincidan con la expresión esperada.\n",
        "\n",
        "**Italiano a Inglés**\n",
        "- **Frase en italiano:** _sto ancora lavorando_ - **Esperada:** _I'm still working_ - **Predicción:** _I'm still working_ - **Análisis:** La traducción es completamente precisa, demostrando que el modelo es efectivo en capturar el sentido y la estructura de frases simples en tiempo presente.\n",
        "\n",
        "- **Frase en italiano:** _io sono pulito_ - **Esperada:** _I'm clean_ - **Predicción:** _I'm clean_ - **Análisis:** La traducción es perfecta. Este ejemplo sugiere que el modelo maneja bien frases en primera persona y con verbos sencillos.\n",
        "\n",
        "- **Frase en italiano:** _sei insolito_ - **Esperada:** _you're unusual_ - **Predicción:** _you're unusual_ - - **Análisis:** La predicción es exacta, lo que muestra que el modelo también puede capturar adjetivos descriptivos sin dificultad.\n",
        "\n",
        "<BR>Estos ejemplos indican que los modelos son efectivos en captar el significado de las frases y en general producen traducciones precisas. Sin embargo, las diferencias culturales en el lenguaje (como _holiday_ vs _vacation_) y ligeras variaciones en la estructura (_he's_ vs _he is_) son áreas que pueden mejorarse. En contextos más complejos o expresiones menos literales, puede ser útil entrenar con datasets más grandes y variados para captar mejor estas sutilezas del idioma.\n",
        "\n"
      ]
    },
    {
      "cell_type": "markdown",
      "metadata": {
        "id": "Nf6ynVnPLV7e"
      },
      "source": [
        "### Análisis de las Matrices de Atención"
      ]
    },
    {
      "cell_type": "markdown",
      "metadata": {
        "id": "FcwMJlA-LY6C"
      },
      "source": [
        "Las matrices de atención muestran cómo el modelo presta atención a diferentes palabras en la oración de entrada en español e italiano al generar cada palabra en la traducción en inglés. Esto es fundamental para entender el alineamiento y cómo el modelo maneja frases de longitud y estructura variadas. Las matrices de atención indican que el modelo puede concentrarse en las palabras correctas al traducir.\n",
        "<BR><BR>\n",
        "\n",
        "**Español a Inglés**\n",
        "- En el ejemplo \"_usted es la mejor_\" traducido como \"_you are the best_\", la matriz de atención muestra una fuerte alineación con las palabras correspondientes, particularmente en \"_la mejor_\" con \"_the best_\".\n",
        "- En el ejemplo \"_estoy bastante cansado_\" traducido como \"_i'm quite tired_\", se observa una atención adecuada en las palabras de la frase en español que ayuda a mantener la traducción precisa y fiel al contexto en inglés.\n",
        "\n",
        "**Italiano a Inglés**\n",
        "- En el ejemplo \"_sei una studentessa_\" traducido como \"_you are a student_\", la matriz de atención destaca cómo el modelo alinea correctamente \"_studentessa_\" con \"_student_\", lo que demuestra una adecuada correspondencia entre las palabras en ambos idiomas, a pesar de las diferencias de género y estructura gramatical entre el italiano y el inglés.\n",
        "- En el ejemplo \"_ho finito di lavorare_\" traducido como \"_i'm done working_\", la atención se distribuye correctamente en \"_finito_\" y \"_done_\", así como en \"_lavorare_\" y \"_working_\", capturando el significado completo de la frase en italiano y alineándolo con precisión en inglés.\n",
        "\n",
        "\n",
        "<BR>Estas matrices de atención refuerzan que el modelo de atención de Bahdanau es efectivo al asignar atención a las palabras correctas en idiomas con diferencias estructurales, como el español, el italiano y el inglés.\n"
      ]
    },
    {
      "cell_type": "markdown",
      "metadata": {
        "id": "sHKqeKipLbnb"
      },
      "source": [
        "### Conclusiones y posibles mejoras"
      ]
    },
    {
      "cell_type": "markdown",
      "metadata": {
        "id": "YL1sv0tdLS4A"
      },
      "source": [
        "El modelo con atención Bahdanau para la traducción de español a inglés ha demostrado ser efectivo, produciendo resultados precisos y alineados con las expectativas de traducción. La pérdida de entrenamiento baja y las matrices de atención consistentes reflejan un aprendizaje satisfactorio del modelo en el conjunto de datos de entrenamiento.\n",
        "\n",
        "En el caso de la traducción de italiano a inglés, el modelo también ha mostrado un rendimiento sólido. Las traducciones generadas son coherentes y la atención se distribuye adecuadamente, capturando la estructura y el significado de las frases en italiano al convertirlas al inglés. Las matrices de atención destacan cómo el modelo logra una alineación adecuada, incluso en casos donde existen diferencias gramaticales y estructurales entre el italiano y el inglés, lo cual indica que el modelo ha capturado bien las relaciones semánticas entre ambos idiomas.\n",
        "\n",
        "Para mejorar aún más el rendimiento en ambos casos:\n",
        "- **Ampliar el conjunto de datos**: Incrementar el número de pares de frases de entrenamiento podría mejorar la capacidad generalizadora del modelo, especialmente en frases más complejas o menos comunes.\n",
        "- **Aumentar el número de épocas**: Entrenar durante más épocas podría mejorar el ajuste del modelo, aunque se debe tener cuidado con el sobreajuste.\n",
        "- **Ajustar hiperparámetros**: Experimentar con tamaños de capa oculta más grandes o ajustar la tasa de aprendizaje podría ayudar al modelo a capturar mejor las relaciones complejas en las frases.\n",
        "  \n"
      ]
    }
  ],
  "metadata": {
    "colab": {
      "provenance": [],
      "toc_visible": true
    },
    "kernelspec": {
      "display_name": "Python 3",
      "name": "python3"
    },
    "language_info": {
      "codemirror_mode": {
        "name": "ipython",
        "version": 3
      },
      "file_extension": ".py",
      "mimetype": "text/x-python",
      "name": "python",
      "nbconvert_exporter": "python",
      "pygments_lexer": "ipython3",
      "version": "3.11.9"
    }
  },
  "nbformat": 4,
  "nbformat_minor": 0
}
{
  "cells": [
    {
      "cell_type": "markdown",
      "source": [
        "# RNN de corrección de gramática inglesa"
      ],
      "metadata": {
        "id": "c2T79E6xfgE3"
      }
    },
    {
      "cell_type": "markdown",
      "metadata": {
        "id": "_l0a5MD7VLfI"
      },
      "source": [
        "## Objetivo"
      ]
    },
    {
      "cell_type": "markdown",
      "metadata": {
        "id": "8me19X2AVY9e"
      },
      "source": [
        "Usando el datasets de la página de [Kaggle](https://www.kaggle.com/datasets/satishgunjal/grammar-correction), realizaremos paso a paso un corrector de gramática inglesa basado algoritmos seq2seq con atención de Bahdanau.\n",
        "\n",
        "El desarrollo de la red que hemos usado como referencia está basada en [este tutorial](https://pytorch.org/tutorials/intermediate/seq2seq_translation_tutorial.html) de las páginas de Pytorch.\n",
        "\n",
        "Este Jupyter Notebook está optimizado para su ejecución en Google Colab.\n",
        "\n",
        "Utilizaremos un RNN de una capa oculta, con 255 nodos, que entrenaremos durante 100 epochs, para la traducción de frases de hasta 10 caracteres. Todos estos parámetros son configurables.\n",
        "\n",
        "#### Selección y Justificación del Dataset\n",
        "Seleccionamos el dataset Grammar Correction por las siguientes razones:\n",
        "\n",
        "- Es un dataset especializado en la corrección gramatical de inglés, adecuado para el modelo seq2seq.\n",
        "- Su tamaño compacto permite una fácil manipulación sin necesidad de redimensionar.\n",
        "- Está bien estructurado, con pares de oraciones (incorrectas y corregidas), facilitando su uso directo en la arquitectura encoder-decoder.\n",
        "\n",
        "#### Construcción del Modelo\n",
        "Usaremos un modelo seq2seq con atención de Bahdanau, similar al implementado en los ejercicios anteriores, adaptado al problema de corrección de errores. Este modelo toma como entrada una oración con errores gramaticales y genera una versión corregida.\n",
        "\n",
        "Modificaciones específicas para el modelo:\n",
        "- La entrada será la oración con errores (incorrect sentence).\n",
        "- La salida será la oración corregida (correct sentence).\n",
        "- El vocabulario se construirá a partir del dataset de corrección de errores.\n",
        "\n",
        "#### Análisis de Resultados\n",
        "Después del entrenamiento, evaluamos el modelo con ejemplos de corrección de errores y matrices de atención. Se siguen las mismas pautas que en ejercicios anteriores:\n",
        "\n",
        "- Evaluar frases con errores gramaticales y analizar las correcciones generadas.\n",
        "- Visualizar las matrices de atención para entender cómo el modelo se enfoca en las palabras clave al corregir.\n",
        "\n",
        "\n",
        "\n"
      ]
    },
    {
      "cell_type": "markdown",
      "metadata": {
        "id": "gy1UN0b4epku"
      },
      "source": [
        "## Librerías"
      ]
    },
    {
      "cell_type": "markdown",
      "metadata": {
        "id": "0w_ylovYe0Vd"
      },
      "source": [
        "*El código a continuación importa las librerías y módulos necesarios para trabajar con PyTorch, manipular texto y realizar operaciones de preprocesamiento, y configura el dispositivo de hardware para la ejecución (GPU si está disponible, o CPU si no lo está). También se asegura de que las funciones de impresión y manejo de Unicode sean compatibles con versiones de Python 2 y 3.*"
      ]
    },
    {
      "cell_type": "code",
      "execution_count": null,
      "metadata": {
        "id": "0iyzFGhvxBBN"
      },
      "outputs": [],
      "source": [
        "from __future__ import unicode_literals, print_function, division  # Permite compatibilidad con Python 2 y 3 en impresiones y manejo de Unicode.\n",
        "from io import open  # Importa el módulo para manejo de archivos.\n",
        "import unicodedata  # Biblioteca para normalización de texto Unicode.\n",
        "import re  # Módulo para trabajar con expresiones regulares.\n",
        "import random  # Módulo para generar números y seleccionar elementos al azar.\n",
        "\n",
        "import torch  # Biblioteca principal de PyTorch.\n",
        "import torch.nn as nn  # Importa el módulo de redes neuronales de PyTorch.\n",
        "from torch import optim  # Importa el optimizador de PyTorch.\n",
        "import torch.nn.functional as F  # Importa funciones como activaciones, etc.\n",
        "\n",
        "import numpy as np  # Biblioteca para operaciones numéricas.\n",
        "from torch.utils.data import TensorDataset, DataLoader, RandomSampler  # Para manipular conjuntos de datos y crear cargadores de datos.\n",
        "\n",
        "# Configura el dispositivo para ejecutar el código en la GPU si está disponible; si no, en la CPU.\n",
        "device = torch.device(\"cuda\" if torch.cuda.is_available() else \"cpu\")\n"
      ]
    },
    {
      "cell_type": "markdown",
      "metadata": {
        "id": "QcFP9fe4nime"
      },
      "source": [
        "Variables (constantes) que utilizaremos. Las ponemos al principio del notebook por si se quieren ajustar."
      ]
    },
    {
      "cell_type": "code",
      "execution_count": null,
      "metadata": {
        "id": "SdO2gEc1nq6r"
      },
      "outputs": [],
      "source": [
        "hidden_size = 256  # Tamaño de la capa oculta (número de nodos).\n",
        "batch_size = 32  # Tamaño del lote: ejemplos procesados simultáneamente.\n",
        "epochs = 100  # Número de épocas: repeticiones del entrenamiento completo.\n",
        "MAX_LENGTH = 10  # Longitud máxima permitida para las frases.\n",
        "\n",
        "# Columnas de entrada y salida en el dataset de corrección gramatical.\n",
        "input_col = \"Ungrammatical Statement\"  # Columna que contiene las frases con errores gramaticales.\n",
        "output_col = \"Standard English\"        # Columna que contiene las frases corregidas.\n",
        "\n",
        "# Ruta al archivo CSV con los datos.\n",
        "file_path = \"data/Grammar Correction.csv\"\n"
      ]
    },
    {
      "cell_type": "markdown",
      "metadata": {
        "id": "QF8zJWiWvF-C"
      },
      "source": [
        "## Preparación datos de entrenamiento (descarga y métodos)"
      ]
    },
    {
      "cell_type": "markdown",
      "metadata": {
        "id": "X1W0Z16Qupxn"
      },
      "source": [
        "*Este script descarga el dataset de Corrección gramatica y lo descomprime en la carpeta data.*"
      ]
    },
    {
      "cell_type": "code",
      "execution_count": null,
      "metadata": {
        "colab": {
          "base_uri": "https://localhost:8080/"
        },
        "id": "KIQrO1Io7xf3",
        "outputId": "5b097c1f-6a5b-4320-be0f-e915e9716b60"
      },
      "outputs": [
        {
          "output_type": "stream",
          "name": "stdout",
          "text": [
            "Requirement already satisfied: kaggle in /usr/local/lib/python3.10/dist-packages (1.6.17)\n",
            "Requirement already satisfied: six>=1.10 in /usr/local/lib/python3.10/dist-packages (from kaggle) (1.16.0)\n",
            "Requirement already satisfied: certifi>=2023.7.22 in /usr/local/lib/python3.10/dist-packages (from kaggle) (2024.8.30)\n",
            "Requirement already satisfied: python-dateutil in /usr/local/lib/python3.10/dist-packages (from kaggle) (2.8.2)\n",
            "Requirement already satisfied: requests in /usr/local/lib/python3.10/dist-packages (from kaggle) (2.32.3)\n",
            "Requirement already satisfied: tqdm in /usr/local/lib/python3.10/dist-packages (from kaggle) (4.66.6)\n",
            "Requirement already satisfied: python-slugify in /usr/local/lib/python3.10/dist-packages (from kaggle) (8.0.4)\n",
            "Requirement already satisfied: urllib3 in /usr/local/lib/python3.10/dist-packages (from kaggle) (2.2.3)\n",
            "Requirement already satisfied: bleach in /usr/local/lib/python3.10/dist-packages (from kaggle) (6.2.0)\n",
            "Requirement already satisfied: webencodings in /usr/local/lib/python3.10/dist-packages (from bleach->kaggle) (0.5.1)\n",
            "Requirement already satisfied: text-unidecode>=1.3 in /usr/local/lib/python3.10/dist-packages (from python-slugify->kaggle) (1.3)\n",
            "Requirement already satisfied: charset-normalizer<4,>=2 in /usr/local/lib/python3.10/dist-packages (from requests->kaggle) (3.4.0)\n",
            "Requirement already satisfied: idna<4,>=2.5 in /usr/local/lib/python3.10/dist-packages (from requests->kaggle) (3.10)\n",
            "Dataset URL: https://www.kaggle.com/datasets/satishgunjal/grammar-correction\n",
            "License(s): apache-2.0\n",
            "Downloading grammar-correction.zip to data\n",
            "  0% 0.00/62.4k [00:00<?, ?B/s]\n",
            "100% 62.4k/62.4k [00:00<00:00, 49.5MB/s]\n"
          ]
        }
      ],
      "source": [
        "# Instala la API de Kaggle si aún no está instalada\n",
        "!pip install kaggle\n",
        "\n",
        "# Crea una carpeta para almacenar el dataset si no existe\n",
        "import os\n",
        "if not os.path.exists(\"data\"):\n",
        "    os.makedirs(\"data\")\n",
        "\n",
        "# Descarga el dataset de corrección gramatical desde Kaggle\n",
        "!kaggle datasets download -d satishgunjal/grammar-correction -p data\n",
        "\n",
        "# Descomprime el archivo descargado\n",
        "import zipfile\n",
        "with zipfile.ZipFile(\"data/grammar-correction.zip\", 'r') as zip_ref:\n",
        "    zip_ref.extractall(\"data\")"
      ]
    },
    {
      "cell_type": "markdown",
      "metadata": {
        "id": "kyoZpyRWVloj"
      },
      "source": [
        "Esta clase se utiliza para convertir palabras en índices y viceversa."
      ]
    },
    {
      "cell_type": "code",
      "execution_count": null,
      "metadata": {
        "id": "AW7dEwi1UOvo"
      },
      "outputs": [],
      "source": [
        "SOS_token = 0  # Token de inicio de secuencia.\n",
        "EOS_token = 1  # Token de fin de secuencia.\n",
        "\n",
        "class TextProcessor:\n",
        "    \"\"\"\n",
        "    Procesador de texto para mapear palabras a índices y manejar vocabularios.\n",
        "    \"\"\"\n",
        "    def __init__(self, name):\n",
        "        self.name = name\n",
        "        self.word2index = {}\n",
        "        self.word2count = {}\n",
        "        self.index2word = {0: \"<SOS>\", 1: \"<EOS>\"}\n",
        "        self.n_words = 2  # Contar <SOS> y <EOS>\n",
        "\n",
        "    def addSentence(self, sentence):\n",
        "        \"\"\"\n",
        "        Añade una frase completa al vocabulario.\n",
        "        \"\"\"\n",
        "        for word in sentence.split(' '):\n",
        "            self.addWord(word)\n",
        "\n",
        "    def addWord(self, word):\n",
        "        \"\"\"\n",
        "        Añade una palabra al vocabulario si no existe, o incrementa su conteo.\n",
        "        \"\"\"\n",
        "        if word not in self.word2index:\n",
        "            self.word2index[word] = self.n_words\n",
        "            self.word2count[word] = 1\n",
        "            self.index2word[self.n_words] = word\n",
        "            self.n_words += 1\n",
        "        else:\n",
        "            self.word2count[word] += 1\n"
      ]
    },
    {
      "cell_type": "markdown",
      "metadata": {
        "id": "DHYYM-q914iT"
      },
      "source": [
        "El código a continuación incluye dos funciones de preprocesamiento de texto. La función unicodeToAscii convierte una cadena Unicode a caracteres ASCII normales eliminando las tildes y otros acentos, mientras que normalizeString convierte el texto a minúsculas, lo recorta y elimina los caracteres que no son letras o signos de puntuación, haciendo que el texto sea más uniforme para el procesamiento posterior."
      ]
    },
    {
      "cell_type": "code",
      "execution_count": null,
      "metadata": {
        "id": "-Rga1llt1y1z"
      },
      "outputs": [],
      "source": [
        "import re\n",
        "import unicodedata\n",
        "\n",
        "# Convierte una cadena Unicode a ASCII normal, eliminando tildes y acentos.\n",
        "# Inspirado en https://stackoverflow.com/a/518232/2809427\n",
        "def unicodeToAscii(s):\n",
        "    return ''.join(\n",
        "        c for c in unicodedata.normalize('NFD', s)  # Descompone caracteres Unicode en su forma base y acentos separados.\n",
        "        if unicodedata.category(c) != 'Mn'  # Filtra los caracteres que no son marcas diacríticas (como tildes).\n",
        "    )\n",
        "\n",
        "# Convierte la cadena a minúsculas, elimina espacios adicionales y elimina caracteres no alfabéticos.\n",
        "def normalizeString(s):\n",
        "    s = unicodeToAscii(s.lower().strip())  # Convierte a minúsculas, elimina espacios al inicio y final, y normaliza a ASCII.\n",
        "    s = re.sub(r\"([.!?])\", r\" \\1\", s)  # Asegura que los signos de puntuación tengan un espacio antes.\n",
        "    s = re.sub(r\"[^a-zA-Z!?]+\", r\" \", s)  # Reemplaza caracteres no alfabéticos ni de puntuación por un espacio.\n",
        "    return s.strip()  # Elimina espacios adicionales al inicio y final."
      ]
    },
    {
      "cell_type": "markdown",
      "metadata": {
        "id": "a5iW7v_2YUX8"
      },
      "source": [
        "El código siguiente lee un dataset de corrección gramatical en formato CSV, extrae pares de frases con errores y sus correcciones, normaliza las frases, construye vocabularios para ambas y retorna los pares junto con los procesadores de texto."
      ]
    },
    {
      "cell_type": "code",
      "execution_count": null,
      "metadata": {
        "colab": {
          "base_uri": "https://localhost:8080/",
          "height": 328
        },
        "id": "aU4hGMnXaHmk",
        "outputId": "6ce363e9-0eae-4dde-f63d-a94e754b782e"
      },
      "outputs": [
        {
          "output_type": "stream",
          "name": "stdout",
          "text": [
            "Reading lines...\n"
          ]
        },
        {
          "output_type": "execute_result",
          "data": {
            "text/plain": [
              "   Serial Number         Error Type              Ungrammatical Statement  \\\n",
              "0              1  Verb Tense Errors        I goes to the store everyday.   \n",
              "1              2  Verb Tense Errors  They was playing soccer last night.   \n",
              "2              3  Verb Tense Errors     She have completed her homework.   \n",
              "3              4  Verb Tense Errors            He don't know the answer.   \n",
              "4              5  Verb Tense Errors            The sun rise in the east.   \n",
              "\n",
              "                       Standard English  \n",
              "0           I go to the store everyday.  \n",
              "1  They were playing soccer last night.  \n",
              "2       She has completed her homework.  \n",
              "3           He doesn't know the answer.  \n",
              "4            The sun rises in the east.  "
            ],
            "text/html": [
              "\n",
              "  <div id=\"df-1692946e-0a8f-4f30-9673-c4e49ff4e5b9\" class=\"colab-df-container\">\n",
              "    <div>\n",
              "<style scoped>\n",
              "    .dataframe tbody tr th:only-of-type {\n",
              "        vertical-align: middle;\n",
              "    }\n",
              "\n",
              "    .dataframe tbody tr th {\n",
              "        vertical-align: top;\n",
              "    }\n",
              "\n",
              "    .dataframe thead th {\n",
              "        text-align: right;\n",
              "    }\n",
              "</style>\n",
              "<table border=\"1\" class=\"dataframe\">\n",
              "  <thead>\n",
              "    <tr style=\"text-align: right;\">\n",
              "      <th></th>\n",
              "      <th>Serial Number</th>\n",
              "      <th>Error Type</th>\n",
              "      <th>Ungrammatical Statement</th>\n",
              "      <th>Standard English</th>\n",
              "    </tr>\n",
              "  </thead>\n",
              "  <tbody>\n",
              "    <tr>\n",
              "      <th>0</th>\n",
              "      <td>1</td>\n",
              "      <td>Verb Tense Errors</td>\n",
              "      <td>I goes to the store everyday.</td>\n",
              "      <td>I go to the store everyday.</td>\n",
              "    </tr>\n",
              "    <tr>\n",
              "      <th>1</th>\n",
              "      <td>2</td>\n",
              "      <td>Verb Tense Errors</td>\n",
              "      <td>They was playing soccer last night.</td>\n",
              "      <td>They were playing soccer last night.</td>\n",
              "    </tr>\n",
              "    <tr>\n",
              "      <th>2</th>\n",
              "      <td>3</td>\n",
              "      <td>Verb Tense Errors</td>\n",
              "      <td>She have completed her homework.</td>\n",
              "      <td>She has completed her homework.</td>\n",
              "    </tr>\n",
              "    <tr>\n",
              "      <th>3</th>\n",
              "      <td>4</td>\n",
              "      <td>Verb Tense Errors</td>\n",
              "      <td>He don't know the answer.</td>\n",
              "      <td>He doesn't know the answer.</td>\n",
              "    </tr>\n",
              "    <tr>\n",
              "      <th>4</th>\n",
              "      <td>5</td>\n",
              "      <td>Verb Tense Errors</td>\n",
              "      <td>The sun rise in the east.</td>\n",
              "      <td>The sun rises in the east.</td>\n",
              "    </tr>\n",
              "  </tbody>\n",
              "</table>\n",
              "</div>\n",
              "    <div class=\"colab-df-buttons\">\n",
              "\n",
              "  <div class=\"colab-df-container\">\n",
              "    <button class=\"colab-df-convert\" onclick=\"convertToInteractive('df-1692946e-0a8f-4f30-9673-c4e49ff4e5b9')\"\n",
              "            title=\"Convert this dataframe to an interactive table.\"\n",
              "            style=\"display:none;\">\n",
              "\n",
              "  <svg xmlns=\"http://www.w3.org/2000/svg\" height=\"24px\" viewBox=\"0 -960 960 960\">\n",
              "    <path d=\"M120-120v-720h720v720H120Zm60-500h600v-160H180v160Zm220 220h160v-160H400v160Zm0 220h160v-160H400v160ZM180-400h160v-160H180v160Zm440 0h160v-160H620v160ZM180-180h160v-160H180v160Zm440 0h160v-160H620v160Z\"/>\n",
              "  </svg>\n",
              "    </button>\n",
              "\n",
              "  <style>\n",
              "    .colab-df-container {\n",
              "      display:flex;\n",
              "      gap: 12px;\n",
              "    }\n",
              "\n",
              "    .colab-df-convert {\n",
              "      background-color: #E8F0FE;\n",
              "      border: none;\n",
              "      border-radius: 50%;\n",
              "      cursor: pointer;\n",
              "      display: none;\n",
              "      fill: #1967D2;\n",
              "      height: 32px;\n",
              "      padding: 0 0 0 0;\n",
              "      width: 32px;\n",
              "    }\n",
              "\n",
              "    .colab-df-convert:hover {\n",
              "      background-color: #E2EBFA;\n",
              "      box-shadow: 0px 1px 2px rgba(60, 64, 67, 0.3), 0px 1px 3px 1px rgba(60, 64, 67, 0.15);\n",
              "      fill: #174EA6;\n",
              "    }\n",
              "\n",
              "    .colab-df-buttons div {\n",
              "      margin-bottom: 4px;\n",
              "    }\n",
              "\n",
              "    [theme=dark] .colab-df-convert {\n",
              "      background-color: #3B4455;\n",
              "      fill: #D2E3FC;\n",
              "    }\n",
              "\n",
              "    [theme=dark] .colab-df-convert:hover {\n",
              "      background-color: #434B5C;\n",
              "      box-shadow: 0px 1px 3px 1px rgba(0, 0, 0, 0.15);\n",
              "      filter: drop-shadow(0px 1px 2px rgba(0, 0, 0, 0.3));\n",
              "      fill: #FFFFFF;\n",
              "    }\n",
              "  </style>\n",
              "\n",
              "    <script>\n",
              "      const buttonEl =\n",
              "        document.querySelector('#df-1692946e-0a8f-4f30-9673-c4e49ff4e5b9 button.colab-df-convert');\n",
              "      buttonEl.style.display =\n",
              "        google.colab.kernel.accessAllowed ? 'block' : 'none';\n",
              "\n",
              "      async function convertToInteractive(key) {\n",
              "        const element = document.querySelector('#df-1692946e-0a8f-4f30-9673-c4e49ff4e5b9');\n",
              "        const dataTable =\n",
              "          await google.colab.kernel.invokeFunction('convertToInteractive',\n",
              "                                                    [key], {});\n",
              "        if (!dataTable) return;\n",
              "\n",
              "        const docLinkHtml = 'Like what you see? Visit the ' +\n",
              "          '<a target=\"_blank\" href=https://colab.research.google.com/notebooks/data_table.ipynb>data table notebook</a>'\n",
              "          + ' to learn more about interactive tables.';\n",
              "        element.innerHTML = '';\n",
              "        dataTable['output_type'] = 'display_data';\n",
              "        await google.colab.output.renderOutput(dataTable, element);\n",
              "        const docLink = document.createElement('div');\n",
              "        docLink.innerHTML = docLinkHtml;\n",
              "        element.appendChild(docLink);\n",
              "      }\n",
              "    </script>\n",
              "  </div>\n",
              "\n",
              "\n",
              "<div id=\"df-363c5da1-bec6-45db-9666-02a5816da815\">\n",
              "  <button class=\"colab-df-quickchart\" onclick=\"quickchart('df-363c5da1-bec6-45db-9666-02a5816da815')\"\n",
              "            title=\"Suggest charts\"\n",
              "            style=\"display:none;\">\n",
              "\n",
              "<svg xmlns=\"http://www.w3.org/2000/svg\" height=\"24px\"viewBox=\"0 0 24 24\"\n",
              "     width=\"24px\">\n",
              "    <g>\n",
              "        <path d=\"M19 3H5c-1.1 0-2 .9-2 2v14c0 1.1.9 2 2 2h14c1.1 0 2-.9 2-2V5c0-1.1-.9-2-2-2zM9 17H7v-7h2v7zm4 0h-2V7h2v10zm4 0h-2v-4h2v4z\"/>\n",
              "    </g>\n",
              "</svg>\n",
              "  </button>\n",
              "\n",
              "<style>\n",
              "  .colab-df-quickchart {\n",
              "      --bg-color: #E8F0FE;\n",
              "      --fill-color: #1967D2;\n",
              "      --hover-bg-color: #E2EBFA;\n",
              "      --hover-fill-color: #174EA6;\n",
              "      --disabled-fill-color: #AAA;\n",
              "      --disabled-bg-color: #DDD;\n",
              "  }\n",
              "\n",
              "  [theme=dark] .colab-df-quickchart {\n",
              "      --bg-color: #3B4455;\n",
              "      --fill-color: #D2E3FC;\n",
              "      --hover-bg-color: #434B5C;\n",
              "      --hover-fill-color: #FFFFFF;\n",
              "      --disabled-bg-color: #3B4455;\n",
              "      --disabled-fill-color: #666;\n",
              "  }\n",
              "\n",
              "  .colab-df-quickchart {\n",
              "    background-color: var(--bg-color);\n",
              "    border: none;\n",
              "    border-radius: 50%;\n",
              "    cursor: pointer;\n",
              "    display: none;\n",
              "    fill: var(--fill-color);\n",
              "    height: 32px;\n",
              "    padding: 0;\n",
              "    width: 32px;\n",
              "  }\n",
              "\n",
              "  .colab-df-quickchart:hover {\n",
              "    background-color: var(--hover-bg-color);\n",
              "    box-shadow: 0 1px 2px rgba(60, 64, 67, 0.3), 0 1px 3px 1px rgba(60, 64, 67, 0.15);\n",
              "    fill: var(--button-hover-fill-color);\n",
              "  }\n",
              "\n",
              "  .colab-df-quickchart-complete:disabled,\n",
              "  .colab-df-quickchart-complete:disabled:hover {\n",
              "    background-color: var(--disabled-bg-color);\n",
              "    fill: var(--disabled-fill-color);\n",
              "    box-shadow: none;\n",
              "  }\n",
              "\n",
              "  .colab-df-spinner {\n",
              "    border: 2px solid var(--fill-color);\n",
              "    border-color: transparent;\n",
              "    border-bottom-color: var(--fill-color);\n",
              "    animation:\n",
              "      spin 1s steps(1) infinite;\n",
              "  }\n",
              "\n",
              "  @keyframes spin {\n",
              "    0% {\n",
              "      border-color: transparent;\n",
              "      border-bottom-color: var(--fill-color);\n",
              "      border-left-color: var(--fill-color);\n",
              "    }\n",
              "    20% {\n",
              "      border-color: transparent;\n",
              "      border-left-color: var(--fill-color);\n",
              "      border-top-color: var(--fill-color);\n",
              "    }\n",
              "    30% {\n",
              "      border-color: transparent;\n",
              "      border-left-color: var(--fill-color);\n",
              "      border-top-color: var(--fill-color);\n",
              "      border-right-color: var(--fill-color);\n",
              "    }\n",
              "    40% {\n",
              "      border-color: transparent;\n",
              "      border-right-color: var(--fill-color);\n",
              "      border-top-color: var(--fill-color);\n",
              "    }\n",
              "    60% {\n",
              "      border-color: transparent;\n",
              "      border-right-color: var(--fill-color);\n",
              "    }\n",
              "    80% {\n",
              "      border-color: transparent;\n",
              "      border-right-color: var(--fill-color);\n",
              "      border-bottom-color: var(--fill-color);\n",
              "    }\n",
              "    90% {\n",
              "      border-color: transparent;\n",
              "      border-bottom-color: var(--fill-color);\n",
              "    }\n",
              "  }\n",
              "</style>\n",
              "\n",
              "  <script>\n",
              "    async function quickchart(key) {\n",
              "      const quickchartButtonEl =\n",
              "        document.querySelector('#' + key + ' button');\n",
              "      quickchartButtonEl.disabled = true;  // To prevent multiple clicks.\n",
              "      quickchartButtonEl.classList.add('colab-df-spinner');\n",
              "      try {\n",
              "        const charts = await google.colab.kernel.invokeFunction(\n",
              "            'suggestCharts', [key], {});\n",
              "      } catch (error) {\n",
              "        console.error('Error during call to suggestCharts:', error);\n",
              "      }\n",
              "      quickchartButtonEl.classList.remove('colab-df-spinner');\n",
              "      quickchartButtonEl.classList.add('colab-df-quickchart-complete');\n",
              "    }\n",
              "    (() => {\n",
              "      let quickchartButtonEl =\n",
              "        document.querySelector('#df-363c5da1-bec6-45db-9666-02a5816da815 button');\n",
              "      quickchartButtonEl.style.display =\n",
              "        google.colab.kernel.accessAllowed ? 'block' : 'none';\n",
              "    })();\n",
              "  </script>\n",
              "</div>\n",
              "\n",
              "    </div>\n",
              "  </div>\n"
            ],
            "application/vnd.google.colaboratory.intrinsic+json": {
              "type": "dataframe",
              "variable_name": "data",
              "summary": "{\n  \"name\": \"data\",\n  \"rows\": 2018,\n  \"fields\": [\n    {\n      \"column\": \"Serial Number\",\n      \"properties\": {\n        \"dtype\": \"number\",\n        \"std\": 582,\n        \"min\": 1,\n        \"max\": 2018,\n        \"num_unique_values\": 2018,\n        \"samples\": [\n          1557,\n          527,\n          394\n        ],\n        \"semantic_type\": \"\",\n        \"description\": \"\"\n      }\n    },\n    {\n      \"column\": \"Error Type\",\n      \"properties\": {\n        \"dtype\": \"category\",\n        \"num_unique_values\": 36,\n        \"samples\": [\n          \"Lack of Parallelism in Lists or Series\",\n          \"Passive Voice Overuse\",\n          \"Negation Errors\"\n        ],\n        \"semantic_type\": \"\",\n        \"description\": \"\"\n      }\n    },\n    {\n      \"column\": \"Ungrammatical Statement\",\n      \"properties\": {\n        \"dtype\": \"string\",\n        \"num_unique_values\": 2016,\n        \"samples\": [\n          \"Many of the hotels in this city are fully booked during the summer.\",\n          \"29. When I was young, I used to played soccer every day.\",\n          \"The car is parked in front of the house.\"\n        ],\n        \"semantic_type\": \"\",\n        \"description\": \"\"\n      }\n    },\n    {\n      \"column\": \"Standard English\",\n      \"properties\": {\n        \"dtype\": \"string\",\n        \"num_unique_values\": 2009,\n        \"samples\": [\n          \"The test was difficult, but I managed to pass.\",\n          \"30. She often has to work late hours at her job.\",\n          \"He is waiting for her at the restaurant.\"\n        ],\n        \"semantic_type\": \"\",\n        \"description\": \"\"\n      }\n    }\n  ]\n}"
            }
          },
          "metadata": {},
          "execution_count": 6
        }
      ],
      "source": [
        "    import pandas as pd\n",
        "    print(\"Reading lines...\")  # Indica que se están leyendo los datos.\n",
        "\n",
        "    # Lee los datos del archivo CSV\n",
        "    data = pd.read_csv(\"data/Grammar Correction.csv\")\n",
        "    data.head()"
      ]
    },
    {
      "cell_type": "code",
      "execution_count": null,
      "metadata": {
        "id": "q8bFDFaRX87c"
      },
      "outputs": [],
      "source": [
        "def readGrammarCorrectionData(file_path, input_col, output_col):\n",
        "    \"\"\"\n",
        "    Lee el archivo de datos para el caso de corrección gramatical.\n",
        "    :param file_path: Ruta del archivo CSV con los datos.\n",
        "    :param input_col: Nombre de la columna que contiene las frases con errores.\n",
        "    :param output_col: Nombre de la columna que contiene las frases corregidas.\n",
        "    :return: Un objeto procesador de entrada, uno de salida y los pares de frases.\n",
        "    \"\"\"\n",
        "    import pandas as pd\n",
        "    print(\"Reading lines...\")  # Indica que se están leyendo los datos.\n",
        "\n",
        "    # Lee los datos del archivo CSV\n",
        "    data = pd.read_csv(file_path)\n",
        "\n",
        "    # Extrae las columnas de entrada (con errores) y salida (corregidas)\n",
        "    input_sentences = data[input_col].apply(normalizeString).tolist()\n",
        "    output_sentences = data[output_col].apply(normalizeString).tolist()\n",
        "\n",
        "    # Crea pares (entrada, salida)\n",
        "    pairs = list(zip(input_sentences, output_sentences))\n",
        "\n",
        "    print(f\"Read {len(pairs)} sentence pairs.\")  # Imprime el número de pares de frases leídos.\n",
        "\n",
        "    # Crea procesadores de texto para entrada y salida\n",
        "    input_processor = TextProcessor(\"input\")\n",
        "    output_processor = TextProcessor(\"output\")\n",
        "\n",
        "    # Añade las frases al vocabulario de cada procesador\n",
        "    for pair in pairs:\n",
        "        input_processor.addSentence(pair[0])  # Añade la frase con errores al vocabulario de entrada.\n",
        "        output_processor.addSentence(pair[1])  # Añade la frase corregida al vocabulario de salida.\n",
        "\n",
        "    print(\"Counted words:\")\n",
        "    print(f\"Input: {input_processor.n_words}, Output: {output_processor.n_words}\")\n",
        "\n",
        "    return input_processor, output_processor, pairs\n"
      ]
    },
    {
      "cell_type": "markdown",
      "metadata": {
        "id": "1JhST5-na9mZ"
      },
      "source": [
        "ejemplo de uso:"
      ]
    },
    {
      "cell_type": "code",
      "execution_count": null,
      "metadata": {
        "colab": {
          "base_uri": "https://localhost:8080/"
        },
        "id": "6vLlucXPYk7b",
        "outputId": "b5287b92-e0b2-4dfc-e4d2-88c898e9e2ef"
      },
      "outputs": [
        {
          "output_type": "stream",
          "name": "stdout",
          "text": [
            "Reading lines...\n",
            "Read 2018 sentence pairs.\n",
            "Counted words:\n",
            "Input: 3234, Output: 3018\n"
          ]
        }
      ],
      "source": [
        "input_processor, output_processor, pairs = readGrammarCorrectionData(file_path, input_col, output_col)\n"
      ]
    },
    {
      "cell_type": "markdown",
      "metadata": {
        "id": "_0woXVYjbyN3"
      },
      "source": [
        "El código siguiente filtra pares de frases asegurándose de que ambas frases (con errores y corregidas) tengan menos de MAX_LENGTH palabras."
      ]
    },
    {
      "cell_type": "code",
      "execution_count": null,
      "metadata": {
        "id": "5xv8XDsBbpoO"
      },
      "outputs": [],
      "source": [
        "\n",
        "# Función que filtra las frases según longitud y contenido\n",
        "def filterPair(p):\n",
        "    \"\"\"\n",
        "    Filtra los pares de frases según la longitud máxima definida.\n",
        "    \"\"\"\n",
        "    return len(p[0].split(' ')) < MAX_LENGTH and len(p[1].split(' ')) < MAX_LENGTH\n",
        "\n",
        "# Filtra los pares de frases usando la función `filterPair`.\n",
        "def filterPairs(pairs):\n",
        "    \"\"\"\n",
        "    Aplica el filtro de longitud máxima a todos los pares de frases y retorna los pares válidos.\n",
        "    \"\"\"\n",
        "    return [pair for pair in pairs if filterPair(pair)]  # Retorna solo los pares que cumplen las condiciones.\n"
      ]
    },
    {
      "cell_type": "markdown",
      "metadata": {
        "id": "0aXgRS2FdBKf"
      },
      "source": [
        "El código carga frases con errores gramaticales y sus correcciones de un archivo CSV, aplica un filtro basado en la longitud máxima de las frases, cuenta las palabras únicas en las frases de entrada y salida, y devuelve los datos procesados junto con estadísticas básicas."
      ]
    },
    {
      "cell_type": "code",
      "execution_count": null,
      "metadata": {
        "id": "MSCBh9KodCir"
      },
      "outputs": [],
      "source": [
        "# Función para preparar el conjunto de datos genérico para corrección gramatical\n",
        "def prepareGrammarCorrectionData(file_path, input_col, output_col):\n",
        "    \"\"\"\n",
        "    Prepara los datos de corrección gramatical, cargando frases con errores como entrada\n",
        "    y frases corregidas como salida. Filtra según la longitud máxima y calcula estadísticas.\n",
        "    \"\"\"\n",
        "    # Lee el archivo CSV y carga las frases\n",
        "    input_processor, output_processor, pairs = readGrammarCorrectionData(file_path, input_col, output_col)\n",
        "    print(\"Read %s sentence pairs\" % len(pairs))  # Imprime la cantidad de pares de frases leídos.\n",
        "\n",
        "    # Filtra los pares de frases según las condiciones establecidas.\n",
        "    pairs = filterPairs(pairs)\n",
        "    print(\"Trimmed to %s sentence pairs\" % len(pairs))  # Imprime la cantidad de pares después de filtrar.\n",
        "\n",
        "    print(\"Counting words...\")\n",
        "    # Cuenta las palabras en cada frase de los pares y las agrega a los diccionarios de palabras.\n",
        "    for pair in pairs:\n",
        "        input_processor.addSentence(pair[0])  # Agrega las palabras de la frase de entrada (con errores).\n",
        "        output_processor.addSentence(pair[1])  # Agrega las palabras de la frase de salida (corregida).\n",
        "\n",
        "    print(\"Counted words:\")\n",
        "    # Imprime el nombre y el número de palabras únicas para las frases de entrada y salida.\n",
        "    print(\"Input:\", input_processor.n_words, \"Output:\", output_processor.n_words)\n",
        "\n",
        "    # Retorna los procesadores de texto y los pares de frases.\n",
        "    return input_processor, output_processor, pairs\n",
        "\n",
        "\n"
      ]
    },
    {
      "cell_type": "markdown",
      "metadata": {
        "id": "gwZHdXwMdUGS"
      },
      "source": [
        "Ejemplo de uso:"
      ]
    },
    {
      "cell_type": "code",
      "execution_count": null,
      "metadata": {
        "colab": {
          "base_uri": "https://localhost:8080/"
        },
        "id": "-1_URiuOdR8l",
        "outputId": "e599f769-2a18-4bd0-82e2-5c8ba084fe14"
      },
      "outputs": [
        {
          "output_type": "stream",
          "name": "stdout",
          "text": [
            "Reading lines...\n",
            "Read 2018 sentence pairs.\n",
            "Counted words:\n",
            "Input: 3234, Output: 3018\n",
            "Read 2018 sentence pairs\n",
            "Trimmed to 1134 sentence pairs\n",
            "Counting words...\n",
            "Counted words:\n",
            "Input: 3234 Output: 3018\n",
            "('the movie am starting in five minutes', 'the movie is starting in five minutes')\n"
          ]
        }
      ],
      "source": [
        "# Ejemplo de uso para corrección gramatical\n",
        "input_processor, output_processor, pairs = prepareGrammarCorrectionData(file_path, input_col, output_col)\n",
        "print(random.choice(pairs))  # Imprime un par de frases al azar de los datos preparados."
      ]
    },
    {
      "cell_type": "markdown",
      "metadata": {
        "id": "bYh1PLiRGR-Z"
      },
      "source": [
        "Muestra las primeras filas del dataset"
      ]
    },
    {
      "cell_type": "markdown",
      "metadata": {
        "id": "2WwfJ5N9JPpF"
      },
      "source": [
        "## Definición del modelo con atención"
      ]
    },
    {
      "cell_type": "markdown",
      "metadata": {
        "id": "NBBPHeQGJJZ8"
      },
      "source": [
        "El código a continuación define una clase EncoderRNN, que representa el codificador de una red neuronal recurrente (RNN) utilizada en modelos de traducción de secuencias. Este codificador convierte secuencias de palabras en representaciones vectoriales que pueden ser utilizadas por un decodificador. Se utiliza un embedding para convertir los índices de las palabras en vectores densos y una capa GRU (Gated Recurrent Unit) para procesar la secuencia."
      ]
    },
    {
      "cell_type": "code",
      "execution_count": null,
      "metadata": {
        "id": "zfKvJYVdp4Ct"
      },
      "outputs": [],
      "source": [
        "class EncoderRNN(nn.Module):\n",
        "    def __init__(self, input_size, hidden_size, dropout_p=0.1):\n",
        "        super(EncoderRNN, self).__init__()  # Inicializa la clase base nn.Module\n",
        "        self.hidden_size = hidden_size  # Tamaño de los vectores de estado oculto\n",
        "\n",
        "        # Capa de embedding para convertir índices de palabras en vectores densos\n",
        "        self.embedding = nn.Embedding(input_size, hidden_size)\n",
        "\n",
        "        # Capa GRU para procesar la secuencia de embeddings, con salida de tamaño `hidden_size`\n",
        "        self.gru = nn.GRU(hidden_size, hidden_size, num_layers=1, batch_first=True)\n",
        "\n",
        "        # Capa de dropout para regularización, que ayuda a prevenir el overfitting\n",
        "        self.dropout = nn.Dropout(dropout_p)\n",
        "\n",
        "    def forward(self, input):\n",
        "        # Aplica la capa de embedding seguida del dropout a la entrada\n",
        "        embedded = self.dropout(self.embedding(input))\n",
        "\n",
        "        # Pasa el embedding a través de la capa GRU, obteniendo la salida y el último estado oculto\n",
        "        output, hidden = self.gru(embedded)\n",
        "\n",
        "        # Devuelve la salida y el estado oculto final\n",
        "        return output, hidden\n"
      ]
    },
    {
      "cell_type": "markdown",
      "metadata": {
        "id": "wVt_CtSpJyLG"
      },
      "source": [
        "El código a continuación implementa un AttnDecoderRNN, que es un decodificador de red neuronal recurrente con mecanismo de atención tipo Bahdanau. Este decodificador permite a la red enfocarse en diferentes partes de la secuencia de entrada en cada paso de la decodificación, lo que mejora la capacidad de la red para manejar secuencias largas y complejas."
      ]
    },
    {
      "cell_type": "code",
      "execution_count": null,
      "metadata": {
        "id": "-TNUxFTuxBBU"
      },
      "outputs": [],
      "source": [
        "class BahdanauAttention(nn.Module):\n",
        "    def __init__(self, hidden_size):\n",
        "        super(BahdanauAttention, self).__init__()\n",
        "        # Matrices de pesos para calcular los scores de atención\n",
        "        self.Wa = nn.Linear(hidden_size, hidden_size)  # Para transformar la consulta (hidden state)\n",
        "        self.Ua = nn.Linear(hidden_size, hidden_size)  # Para transformar las claves (encoder outputs)\n",
        "        self.Va = nn.Linear(hidden_size, 1)  # Para calcular el score final de atención\n",
        "\n",
        "    def forward(self, query, keys):\n",
        "        # Calcula los scores de atención sumando y aplicando activación tanh\n",
        "        scores = self.Va(torch.tanh(self.Wa(query) + self.Ua(keys)))\n",
        "        scores = scores.squeeze(2).unsqueeze(1)  # Ajusta la forma del tensor para softmax\n",
        "\n",
        "        # Calcula los pesos de atención aplicando softmax sobre los scores\n",
        "        weights = F.softmax(scores, dim=-1)\n",
        "        # Calcula el contexto multiplicando los pesos por las claves\n",
        "        context = torch.bmm(weights, keys)\n",
        "\n",
        "        return context, weights  # Devuelve el contexto y los pesos de atención\n",
        "\n",
        "class AttnDecoderRNN(nn.Module):\n",
        "    def __init__(self, hidden_size, output_size, dropout_p=0.1):\n",
        "        super(AttnDecoderRNN, self).__init__()\n",
        "        self.embedding = nn.Embedding(output_size, hidden_size) # Capa de embedding para las palabras de salida\n",
        "        self.attention = BahdanauAttention(hidden_size) # Mecanismo de atención Bahdanau\n",
        "        self.gru = nn.GRU(2*hidden_size, hidden_size, num_layers=1, batch_first=True) # Capa GRU que toma en cuenta el contexto de atención\n",
        "        self.out = nn.Linear(hidden_size, output_size) # Capa lineal para generar la salida\n",
        "        self.dropout = nn.Dropout(dropout_p) # Dropout para regularización\n",
        "\n",
        "    def forward(self, encoder_outputs, encoder_hidden, target_tensor=None):\n",
        "        batch_size = encoder_outputs.size(0)  # Tamaño del lote\n",
        "        decoder_input = torch.empty(batch_size, 1, dtype=torch.long, device=device).fill_(SOS_token)  # Token de inicio\n",
        "        decoder_hidden = encoder_hidden  # Estado oculto inicial proporcionado por el codificador\n",
        "        decoder_outputs = []  # Lista para almacenar las salidas del decodificador\n",
        "        attentions = []  # Lista para almacenar los pesos de atención\n",
        "\n",
        "        # Proceso de decodificación secuencial\n",
        "        for i in range(MAX_LENGTH):\n",
        "            decoder_output, decoder_hidden, attn_weights = self.forward_step(\n",
        "                decoder_input, decoder_hidden, encoder_outputs\n",
        "            )\n",
        "            decoder_outputs.append(decoder_output)  # Agrega la salida actual a la lista\n",
        "            attentions.append(attn_weights)  # Agrega los pesos de atención\n",
        "\n",
        "            if target_tensor is not None:\n",
        "                # Teacher forcing: usa el objetivo real como la siguiente entrada\n",
        "                decoder_input = target_tensor[:, i].unsqueeze(1)\n",
        "            else:\n",
        "                # Sin teacher forcing: usa su propia predicción como la siguiente entrada\n",
        "                _, topi = decoder_output.topk(1)\n",
        "                decoder_input = topi.squeeze(-1).detach()  # Desconecta del historial de cálculo\n",
        "\n",
        "        decoder_outputs = torch.cat(decoder_outputs, dim=1)  # Concatena las salidas\n",
        "        decoder_outputs = F.log_softmax(decoder_outputs, dim=-1)  # Aplica softmax logarítmico\n",
        "        attentions = torch.cat(attentions, dim=1)  # Concatena las atenciones\n",
        "\n",
        "        return decoder_outputs, decoder_hidden, attentions  # Devuelve las salidas, estado oculto y atenciones\n",
        "\n",
        "    def forward_step(self, input, hidden, encoder_outputs):\n",
        "        # Genera el embedding de la entrada y aplica dropout\n",
        "        embedded = self.dropout(self.embedding(input))\n",
        "        query = hidden.permute(1, 0, 2)  # Permuta para que tenga la forma adecuada\n",
        "        context, attn_weights = self.attention(query, encoder_outputs)  # Calcula el contexto y pesos de atención\n",
        "        input_gru = torch.cat((embedded, context), dim=2)  # Concatena el embedding y el contexto\n",
        "\n",
        "        # Pasa la entrada a través de la GRU\n",
        "        output, hidden = self.gru(input_gru, hidden)\n",
        "        output = self.out(output)  # Genera la salida proyectada\n",
        "\n",
        "        return output, hidden, attn_weights  # Devuelve la salida, estado oculto y pesos de atención\n",
        "\n"
      ]
    },
    {
      "cell_type": "markdown",
      "metadata": {
        "id": "4xyMW8y5Lrce"
      },
      "source": [
        "## Entrenamiento (métodos)"
      ]
    },
    {
      "cell_type": "markdown",
      "metadata": {
        "id": "QlbNuqqmeqPy"
      },
      "source": [
        "El código siguiente procesa frases con errores gramaticales y sus correcciones en tensores, creando un DataLoader para entrenar el modelo con lotes de datos procesados y preparados de manera eficiente."
      ]
    },
    {
      "cell_type": "code",
      "execution_count": null,
      "metadata": {
        "id": "_bMWY3ajeljD"
      },
      "outputs": [],
      "source": [
        "def indexesFromSentence(processor, sentence):\n",
        "    \"\"\"\n",
        "    Convierte una oración en una lista de índices según el diccionario de la clase `LangProcessor`.\n",
        "    \"\"\"\n",
        "    return [processor.word2index[word] for word in sentence.split(' ')]\n",
        "\n",
        "def tensorFromSentence(processor, sentence):\n",
        "    \"\"\"\n",
        "    Convierte una lista de índices en un tensor y agrega el token de fin de oración (EOS).\n",
        "    \"\"\"\n",
        "    indexes = indexesFromSentence(processor, sentence)\n",
        "    indexes.append(EOS_token)  # Añade token de fin de oración\n",
        "    return torch.tensor(indexes, dtype=torch.long, device=device).view(1, -1)\n",
        "\n",
        "def tensorsFromPair(pair, input_processor, output_processor):\n",
        "    \"\"\"\n",
        "    Crea tensores de entrada y salida a partir de un par de frases (entrada y objetivo).\n",
        "    \"\"\"\n",
        "    input_tensor = tensorFromSentence(input_processor, pair[0])\n",
        "    target_tensor = tensorFromSentence(output_processor, pair[1])\n",
        "    return (input_tensor, target_tensor)\n",
        "\n",
        "def get_dataloader(file_path, input_col, output_col, batch_size):\n",
        "    \"\"\"\n",
        "    Prepara los datos de entrenamiento creando un DataLoader a partir de pares de frases.\n",
        "    \"\"\"\n",
        "    # Prepara los datos usando las columnas de entrada y salida\n",
        "    input_processor, output_processor, pairs = prepareGrammarCorrectionData(file_path, input_col, output_col)\n",
        "\n",
        "    n = len(pairs)  # Número de pares de frases\n",
        "    input_ids = np.zeros((n, MAX_LENGTH), dtype=np.int32)  # Matriz para IDs de entrada\n",
        "    target_ids = np.zeros((n, MAX_LENGTH), dtype=np.int32)  # Matriz para IDs de salida\n",
        "\n",
        "    for idx, (inp, tgt) in enumerate(pairs):\n",
        "        # Convierte las frases en índices y las almacena\n",
        "        inp_ids = indexesFromSentence(input_processor, inp)\n",
        "        tgt_ids = indexesFromSentence(output_processor, tgt)\n",
        "        inp_ids.append(EOS_token)  # Agrega token de fin de oración\n",
        "        tgt_ids.append(EOS_token)  # Agrega token de fin de oración\n",
        "        input_ids[idx, :len(inp_ids)] = inp_ids\n",
        "        target_ids[idx, :len(tgt_ids)] = tgt_ids\n",
        "\n",
        "    # Crea un dataset de tensores y lo convierte en un DataLoader con muestreo aleatorio.\n",
        "    train_data = TensorDataset(torch.LongTensor(input_ids).to(device),\n",
        "                               torch.LongTensor(target_ids).to(device))\n",
        "\n",
        "    train_sampler = RandomSampler(train_data)  # Muestreo aleatorio\n",
        "    train_dataloader = DataLoader(train_data, sampler=train_sampler, batch_size=batch_size)\n",
        "    return input_processor, output_processor, train_dataloader  # Retorna los procesadores y DataLoader\n"
      ]
    },
    {
      "cell_type": "markdown",
      "metadata": {
        "id": "vfw7_1dMMKAN"
      },
      "source": [
        "La función `train_epoch` siguiente realiza el entrenamiento del modelo encoder-decoder durante una época completa. Procesa todos los lotes del dataloader, calcula la pérdida de predicción para cada lote, realiza la retropropagación y actualiza los parámetros del modelo."
      ]
    },
    {
      "cell_type": "code",
      "execution_count": null,
      "metadata": {
        "id": "4UY_v2-VxBBU"
      },
      "outputs": [],
      "source": [
        "def train_epoch(dataloader, encoder, decoder, encoder_optimizer,\n",
        "          decoder_optimizer, criterion):\n",
        "    \"\"\"\n",
        "    Entrena el modelo encoder-decoder durante una época completa.\n",
        "\n",
        "    Args:\n",
        "        dataloader (DataLoader): Dataloader que proporciona lotes de datos.\n",
        "        encoder (nn.Module): Modelo de encoder.\n",
        "        decoder (nn.Module): Modelo de decoder.\n",
        "        encoder_optimizer (torch.optim.Optimizer): Optimizador para el encoder.\n",
        "        decoder_optimizer (torch.optim.Optimizer): Optimizador para el decoder.\n",
        "        criterion (nn.Module): Función de pérdida para calcular el error.\n",
        "\n",
        "    Returns:\n",
        "        float: Pérdida promedio por lote en la época.\n",
        "    \"\"\"\n",
        "\n",
        "    total_loss = 0  # Inicializa la pérdida acumulada para calcular el promedio.\n",
        "\n",
        "    for data in dataloader:  # Itera sobre cada lote del dataloader.\n",
        "        input_tensor, target_tensor = data  # Obtiene tensores de entrada y objetivo del lote.\n",
        "\n",
        "        # Reinicia los gradientes de los optimizadores.\n",
        "        encoder_optimizer.zero_grad()\n",
        "        decoder_optimizer.zero_grad()\n",
        "\n",
        "        # Pasada hacia adelante por el encoder: genera las salidas y el estado oculto.\n",
        "        encoder_outputs, encoder_hidden = encoder(input_tensor)\n",
        "\n",
        "        # Pasada hacia adelante por el decoder, usando las salidas del encoder y su estado oculto.\n",
        "        decoder_outputs, _, _ = decoder(encoder_outputs, encoder_hidden, target_tensor)\n",
        "\n",
        "        # Calcula la pérdida entre las salidas predichas y el objetivo real.\n",
        "        loss = criterion(\n",
        "            decoder_outputs.view(-1, decoder_outputs.size(-1)),  # Ajusta la forma de las salidas.\n",
        "            target_tensor.view(-1)  # Ajusta la forma del tensor objetivo.\n",
        "        )\n",
        "\n",
        "        loss.backward()  # Realiza la retropropagación para calcular los gradientes.\n",
        "\n",
        "        # Actualiza los parámetros del encoder y el decoder.\n",
        "        encoder_optimizer.step()\n",
        "        decoder_optimizer.step()\n",
        "\n",
        "        total_loss += loss.item()  # Acumula la pérdida total para esta época.\n",
        "\n",
        "    # Calcula la pérdida promedio por lote y la retorna.\n",
        "    return total_loss / len(dataloader)\n"
      ]
    },
    {
      "cell_type": "markdown",
      "metadata": {
        "id": "6M4dVeHnMgZS"
      },
      "source": [
        "El código a continuación define dos funciones auxiliares que ayudan a medir y mostrar el tiempo transcurrido y estimar el tiempo restante durante el entrenamiento."
      ]
    },
    {
      "cell_type": "code",
      "execution_count": null,
      "metadata": {
        "id": "9L6NpaU_MeaB"
      },
      "outputs": [],
      "source": [
        "import time\n",
        "import math\n",
        "\n",
        "# Convierte los segundos a un formato de minutos y segundos.\n",
        "def asMinutes(s):\n",
        "    m = math.floor(s / 60)  # Calcula los minutos enteros.\n",
        "    s -= m * 60  # Resta los minutos completos para obtener los segundos restantes.\n",
        "    return '%dm %ds' % (m, s)  # Devuelve el tiempo en formato \"Xm Ys\".\n",
        "\n",
        "# Calcula el tiempo transcurrido desde un momento dado y estima el tiempo restante.\n",
        "def timeSince(since, percent):\n",
        "    now = time.time()  # Obtiene el tiempo actual.\n",
        "    s = now - since  # Calcula el tiempo transcurrido desde el momento inicial.\n",
        "    es = s / percent  # Estima el tiempo total esperado dividiendo el tiempo transcurrido por el porcentaje completado.\n",
        "    rs = es - s  # Calcula el tiempo restante.\n",
        "    return '%s (- %s)' % (asMinutes(s), asMinutes(rs))  # Devuelve el tiempo transcurrido y el tiempo restante en formato \"Xm Ys (- Xm Ys)\"."
      ]
    },
    {
      "cell_type": "markdown",
      "metadata": {
        "id": "XZ6OroBcMo9i"
      },
      "source": [
        "El código a continuación define la función showPlot que se utiliza para graficar los puntos de pérdida acumulada durante el entrenamiento de un modelo.\n",
        "\n",
        "La función showPlot toma un conjunto de puntos (como las pérdidas registradas durante el entrenamiento) y los grafica en un gráfico de línea. Utiliza MultipleLocator para definir intervalos regulares en el eje y y plt.plot() para dibujar los datos."
      ]
    },
    {
      "cell_type": "code",
      "execution_count": null,
      "metadata": {
        "id": "UCTwt9_WMmCT"
      },
      "outputs": [],
      "source": [
        "%matplotlib inline\n",
        "# Muestra los gráficos directamente en el notebook.\n",
        "\n",
        "import matplotlib.pyplot as plt\n",
        "plt.switch_backend('agg')  # Cambia el backend de Matplotlib para no mostrar gráficos en vivo.\n",
        "import matplotlib.ticker as ticker  # Importa herramientas para manipular los ejes de las gráficas.\n",
        "import numpy as np\n",
        "\n",
        "def showPlot(points):\n",
        "    plt.figure()  # Crea una nueva figura.\n",
        "    fig, ax = plt.subplots()  # Crea una figura y un eje de la gráfica.\n",
        "    # Establece un localizador que coloca las marcas en intervalos regulares en el eje y.\n",
        "    loc = ticker.MultipleLocator(base=0.2)\n",
        "    ax.yaxis.set_major_locator(loc)  # Aplica el localizador al eje y.\n",
        "    plt.plot(points)  # Dibuja la gráfica de los puntos.\n",
        "    plt.show()"
      ]
    },
    {
      "cell_type": "markdown",
      "metadata": {
        "id": "wi6AfILqNG2V"
      },
      "source": [
        "La función `train` siguiente ejecuta el proceso de entrenamiento del modelo encoder-decoder durante un número específico de épocas, utilizando un dataloader, optimizadores y una función de pérdida. También muestra las estadísticas de entrenamiento (como la pérdida promedio) y genera un gráfico de pérdidas a lo largo del tiempo."
      ]
    },
    {
      "cell_type": "code",
      "execution_count": null,
      "metadata": {
        "id": "XaGP7SUZxBBV"
      },
      "outputs": [],
      "source": [
        "def train(train_dataloader, encoder, decoder, n_epochs, learning_rate=0.001,\n",
        "               print_every=100, plot_every=100):\n",
        "    \"\"\"\n",
        "    Entrena el modelo encoder-decoder durante un número de épocas especificado.\n",
        "\n",
        "    Args:\n",
        "        train_dataloader (DataLoader): Dataloader con los datos de entrenamiento.\n",
        "        encoder (nn.Module): Modelo de encoder.\n",
        "        decoder (nn.Module): Modelo de decoder.\n",
        "        n_epochs (int): Número de épocas de entrenamiento.\n",
        "        learning_rate (float, opcional): Tasa de aprendizaje. Por defecto, 0.001.\n",
        "        print_every (int, opcional): Intervalo para imprimir la pérdida promedio. Por defecto, 100.\n",
        "        plot_every (int, opcional): Intervalo para actualizar el gráfico de pérdida. Por defecto, 100.\n",
        "\n",
        "    \"\"\"\n",
        "    start = time.time()  # Registra el tiempo de inicio para calcular tiempos de ejecución.\n",
        "    plot_losses = []  # Lista para almacenar las pérdidas para graficar.\n",
        "    print_loss_total = 0  # Acumula la pérdida total para mostrar cada `print_every`.\n",
        "    plot_loss_total = 0  # Acumula la pérdida total para graficar cada `plot_every`.\n",
        "\n",
        "    # Inicializa los optimizadores para el encoder y el decoder.\n",
        "    encoder_optimizer = optim.Adam(encoder.parameters(), lr=learning_rate)  # Optimizador Adam para el encoder.\n",
        "    decoder_optimizer = optim.Adam(decoder.parameters(), lr=learning_rate)  # Optimizador Adam para el decoder.\n",
        "    criterion = nn.NLLLoss()  # Usa la función de pérdida Negative Log-Likelihood.\n",
        "\n",
        "    # Itera a través de las épocas de entrenamiento.\n",
        "    for epoch in range(1, n_epochs + 1):\n",
        "        # Entrena una época y devuelve la pérdida promedio.\n",
        "        loss = train_epoch(train_dataloader, encoder, decoder, encoder_optimizer, decoder_optimizer, criterion)\n",
        "        print_loss_total += loss  # Acumula la pérdida total para imprimir.\n",
        "        plot_loss_total += loss  # Acumula la pérdida total para el gráfico.\n",
        "\n",
        "        # Imprime estadísticas de pérdida promedio cada `print_every` épocas.\n",
        "        if epoch % print_every == 0:\n",
        "            print_loss_avg = print_loss_total / print_every  # Calcula la pérdida promedio.\n",
        "            print_loss_total = 0  # Reinicia la pérdida acumulada para impresión.\n",
        "            print('%s (%d %d%%) %.4f' % (\n",
        "                timeSince(start, epoch / n_epochs),  # Calcula el tiempo transcurrido desde el inicio.\n",
        "                epoch, epoch / n_epochs * 100,  # Imprime el progreso en porcentaje.\n",
        "                print_loss_avg))  # Muestra la pérdida promedio para este intervalo.\n",
        "\n",
        "        # Actualiza la lista de pérdidas para el gráfico cada `plot_every` épocas.\n",
        "        if epoch % plot_every == 0:\n",
        "            plot_loss_avg = plot_loss_total / plot_every  # Calcula la pérdida promedio para el gráfico.\n",
        "            plot_losses.append(plot_loss_avg)  # Añade la pérdida al gráfico.\n",
        "            plot_loss_total = 0  # Reinicia la pérdida acumulada para el gráfico.\n",
        "\n",
        "    # Muestra el gráfico de pérdidas acumuladas a lo largo del tiempo.\n",
        "    showPlot(plot_losses)\n",
        "\n"
      ]
    },
    {
      "cell_type": "markdown",
      "metadata": {
        "id": "q0Wl_6Z9Ob5D"
      },
      "source": [
        "## Evaluación (métodos)\n"
      ]
    },
    {
      "cell_type": "markdown",
      "metadata": {
        "id": "2ygat3D_Okg0"
      },
      "source": [
        "La función `evaluate` utiliza un modelo de arquitectura encoder-decoder con atención para corregir una frase con errores ortográficos o gramaticales, convirtiendo la frase de entrada en índices según el vocabulario de origen, procesándola con el encoder para generar representaciones ocultas, y luego con el decoder para generar una secuencia corregida en forma de palabras del vocabulario objetivo, además de devolver la matriz de atención que muestra cómo el modelo asignó peso a cada palabra de la entrada durante la corrección."
      ]
    },
    {
      "cell_type": "code",
      "execution_count": null,
      "metadata": {
        "id": "06URliFeOYjQ"
      },
      "outputs": [],
      "source": [
        "def evaluate(encoder, decoder, sentence, source_vocab, target_vocab):\n",
        "    \"\"\"\n",
        "    Evalúa el modelo encoder-decoder con una frase de entrada y produce una salida.\n",
        "\n",
        "    Args:\n",
        "        encoder (nn.Module): El modelo encoder entrenado.\n",
        "        decoder (nn.Module): El modelo decoder entrenado.\n",
        "        sentence (str): La frase de entrada a evaluar.\n",
        "        source_vocab: Objeto que contiene el vocabulario del texto fuente (entrada).\n",
        "        target_vocab: Objeto que contiene el vocabulario del texto objetivo (salida).\n",
        "\n",
        "    Returns:\n",
        "        decoded_words (list): Lista de palabras generadas por el decoder como salida.\n",
        "        decoder_attn (tensor): Matriz de atención generada por el decoder.\n",
        "    \"\"\"\n",
        "    with torch.no_grad():  # Desactiva el cálculo de gradientes para ahorrar memoria y acelerar la evaluación.\n",
        "        # Convierte la frase de entrada en un tensor de índices basado en el vocabulario del texto fuente.\n",
        "        input_tensor = tensorFromSentence(source_vocab, sentence)\n",
        "\n",
        "        # Pasa el tensor de entrada a través del encoder para obtener las salidas y el estado oculto.\n",
        "        encoder_outputs, encoder_hidden = encoder(input_tensor)\n",
        "\n",
        "        # Pasa las salidas del encoder y su estado oculto al decoder para obtener las predicciones.\n",
        "        decoder_outputs, decoder_hidden, decoder_attn = decoder(encoder_outputs, encoder_hidden)\n",
        "\n",
        "        # Obtiene los índices de las palabras con las puntuaciones más altas de las salidas del decoder.\n",
        "        _, topi = decoder_outputs.topk(1)  # topk(1) devuelve el índice de la mejor palabra.\n",
        "        decoded_ids = topi.squeeze()  # Elimina dimensiones innecesarias para procesar los índices.\n",
        "\n",
        "        decoded_words = []  # Lista para almacenar las palabras generadas por el decoder.\n",
        "        for idx in decoded_ids:  # Itera sobre cada índice decodificado.\n",
        "            if idx.item() == EOS_token:  # Verifica si el índice corresponde al token de fin de secuencia (EOS).\n",
        "                decoded_words.append('<EOS>')  # Agrega el token EOS a la lista de palabras generadas.\n",
        "                break  # Detiene el proceso de decodificación.\n",
        "            # Agrega la palabra correspondiente al índice actual a la lista de palabras generadas.\n",
        "            decoded_words.append(target_vocab.index2word[idx.item()])\n",
        "\n",
        "    # Retorna las palabras generadas y la matriz de atención asociada.\n",
        "    return decoded_words, decoder_attn\n",
        "\n",
        "\n"
      ]
    },
    {
      "cell_type": "markdown",
      "metadata": {
        "id": "3badgpB1RR6j"
      },
      "source": [
        "La función siguiente selecciona aleatoriamente pares de frases (con error y corrección esperada) del conjunto de datos, evalúa el modelo en cada una, muestra la frase de entrada, la corrección esperada y la corrección generada por el modelo, permitiendo observar la calidad de las predicciones de manera práctica."
      ]
    },
    {
      "cell_type": "code",
      "execution_count": null,
      "metadata": {
        "id": "MY60U-zYPK9G"
      },
      "outputs": [],
      "source": [
        "# Función para evaluar aleatoriamente 10 ejemplos del conjunto de datos.\n",
        "def evaluateRandomly(encoder, decoder, n=10):\n",
        "    \"\"\"\n",
        "    Evalúa el modelo con ejemplos aleatorios del conjunto de datos de corrección gramatical.\n",
        "\n",
        "    Argumentos:\n",
        "        encoder: El modelo de codificación.\n",
        "        decoder: El modelo de decodificación.\n",
        "        n: Número de ejemplos a evaluar (por defecto 10).\n",
        "    \"\"\"\n",
        "    for i in range(n):\n",
        "        # Selecciona un par de frases aleatorio del conjunto de datos.\n",
        "        pair = random.choice(pairs)  # `pairs` contiene las frases de entrada y salida.\n",
        "        print('>', pair[0])  # Imprime la frase de entrada (con errores gramaticales).\n",
        "        print('=', pair[1])  # Imprime la frase corregida esperada.\n",
        "\n",
        "        # Evalúa el modelo con la frase de entrada y obtiene la salida generada.\n",
        "        output_words, _ = evaluate(encoder, decoder, pair[0], source_vocab, target_vocab)\n",
        "\n",
        "        # Convierte las palabras de salida en una oración completa.\n",
        "        output_sentence = ' '.join(output_words)\n",
        "        print('<', output_sentence)  # Imprime la frase corregida generada por el modelo.\n",
        "        print('')  # Imprime una línea en blanco para separar los ejemplos."
      ]
    },
    {
      "cell_type": "markdown",
      "metadata": {
        "id": "Q91SbWAKV-T2"
      },
      "source": [
        "## Ejecución y análisis del modelo con atención"
      ]
    },
    {
      "cell_type": "markdown",
      "source": [
        "### Entrenamiento del Modelo"
      ],
      "metadata": {
        "id": "Lbhx5_WesuvG"
      }
    },
    {
      "cell_type": "markdown",
      "metadata": {
        "id": "V-QJU4DxWAb1"
      },
      "source": [
        "Este código define los parámetros clave del entrenamiento (tamaño de vectores ocultos, tamaño de lote, y número de épocas), configura los dataloaders para obtener los tensores de entrada y salida, inicializa un modelo seq2seq con atención utilizando un encoder y un decoder, y entrena el modelo mostrando tanto el error durante el proceso como un gráfico que refleja la evolución de la pérdida en las épocas."
      ]
    },
    {
      "cell_type": "code",
      "execution_count": null,
      "metadata": {
        "colab": {
          "base_uri": "https://localhost:8080/",
          "height": 1000
        },
        "id": "Rdn9_6_gWGET",
        "outputId": "8dc6786a-40cb-43af-88bd-fc6cb923c51c"
      },
      "outputs": [
        {
          "output_type": "stream",
          "name": "stdout",
          "text": [
            "Reading lines...\n",
            "Read 2018 sentence pairs.\n",
            "Counted words:\n",
            "Input: 3234, Output: 3018\n",
            "Read 2018 sentence pairs\n",
            "Trimmed to 1134 sentence pairs\n",
            "Counting words...\n",
            "Counted words:\n",
            "Input: 3234 Output: 3018\n",
            "0m 23s (- 39m 9s) (1 1%) 5.3488\n",
            "0m 35s (- 28m 44s) (2 2%) 4.1690\n",
            "0m 44s (- 23m 47s) (3 3%) 3.7146\n",
            "0m 52s (- 20m 53s) (4 4%) 3.3117\n",
            "1m 0s (- 19m 0s) (5 5%) 2.9286\n",
            "1m 6s (- 17m 26s) (6 6%) 2.5909\n",
            "1m 14s (- 16m 33s) (7 7%) 2.2761\n",
            "1m 22s (- 15m 48s) (8 8%) 1.9957\n",
            "1m 30s (- 15m 14s) (9 9%) 1.7501\n",
            "1m 38s (- 14m 42s) (10 10%) 1.5155\n",
            "1m 45s (- 14m 10s) (11 11%) 1.2990\n",
            "1m 52s (- 13m 47s) (12 12%) 1.0871\n",
            "1m 59s (- 13m 20s) (13 13%) 0.9010\n",
            "2m 7s (- 13m 3s) (14 14%) 0.7396\n",
            "2m 14s (- 12m 40s) (15 15%) 0.6014\n",
            "2m 21s (- 12m 25s) (16 16%) 0.4813\n",
            "2m 29s (- 12m 7s) (17 17%) 0.3869\n",
            "2m 36s (- 11m 53s) (18 18%) 0.3118\n",
            "2m 44s (- 11m 40s) (19 19%) 0.2490\n",
            "2m 51s (- 11m 24s) (20 20%) 0.1960\n",
            "2m 58s (- 11m 12s) (21 21%) 0.1581\n",
            "3m 5s (- 10m 57s) (22 22%) 0.1279\n",
            "3m 13s (- 10m 46s) (23 23%) 0.1063\n",
            "3m 19s (- 10m 33s) (24 24%) 0.0877\n",
            "3m 27s (- 10m 23s) (25 25%) 0.0752\n",
            "3m 34s (- 10m 11s) (26 26%) 0.0651\n",
            "3m 42s (- 10m 0s) (27 27%) 0.0571\n",
            "3m 49s (- 9m 51s) (28 28%) 0.0504\n",
            "3m 57s (- 9m 42s) (29 28%) 0.0448\n",
            "4m 5s (- 9m 33s) (30 30%) 0.0402\n",
            "4m 12s (- 9m 22s) (31 31%) 0.0352\n",
            "4m 20s (- 9m 12s) (32 32%) 0.0332\n",
            "4m 27s (- 9m 3s) (33 33%) 0.0319\n",
            "4m 34s (- 8m 53s) (34 34%) 0.0283\n",
            "4m 42s (- 8m 44s) (35 35%) 0.0256\n",
            "4m 49s (- 8m 34s) (36 36%) 0.0234\n",
            "4m 56s (- 8m 25s) (37 37%) 0.0215\n",
            "5m 3s (- 8m 15s) (38 38%) 0.0200\n",
            "5m 11s (- 8m 6s) (39 39%) 0.0185\n",
            "5m 17s (- 7m 56s) (40 40%) 0.0174\n",
            "5m 25s (- 7m 48s) (41 41%) 0.0164\n",
            "5m 32s (- 7m 39s) (42 42%) 0.0153\n",
            "5m 39s (- 7m 30s) (43 43%) 0.0146\n",
            "5m 47s (- 7m 22s) (44 44%) 0.0137\n",
            "5m 54s (- 7m 12s) (45 45%) 0.0130\n",
            "6m 1s (- 7m 4s) (46 46%) 0.0125\n",
            "6m 8s (- 6m 55s) (47 47%) 0.0117\n",
            "6m 16s (- 6m 47s) (48 48%) 0.0112\n",
            "6m 22s (- 6m 38s) (49 49%) 0.0113\n",
            "6m 30s (- 6m 30s) (50 50%) 0.0164\n",
            "6m 37s (- 6m 22s) (51 51%) 0.0373\n",
            "6m 44s (- 6m 13s) (52 52%) 0.0337\n",
            "6m 52s (- 6m 6s) (53 53%) 0.0339\n",
            "6m 59s (- 5m 57s) (54 54%) 0.0198\n",
            "7m 9s (- 5m 51s) (55 55%) 0.0130\n",
            "7m 16s (- 5m 42s) (56 56%) 0.0105\n",
            "7m 24s (- 5m 35s) (57 56%) 0.0093\n",
            "7m 31s (- 5m 26s) (58 57%) 0.0084\n",
            "7m 38s (- 5m 18s) (59 59%) 0.0078\n",
            "7m 46s (- 5m 10s) (60 60%) 0.0072\n",
            "7m 52s (- 5m 2s) (61 61%) 0.0068\n",
            "8m 0s (- 4m 54s) (62 62%) 0.0065\n",
            "8m 7s (- 4m 46s) (63 63%) 0.0062\n",
            "8m 15s (- 4m 38s) (64 64%) 0.0059\n",
            "8m 21s (- 4m 30s) (65 65%) 0.0056\n",
            "8m 29s (- 4m 22s) (66 66%) 0.0054\n",
            "8m 38s (- 4m 15s) (67 67%) 0.0050\n",
            "8m 44s (- 4m 7s) (68 68%) 0.0049\n",
            "8m 52s (- 3m 59s) (69 69%) 0.0047\n",
            "8m 59s (- 3m 51s) (70 70%) 0.0045\n",
            "9m 7s (- 3m 43s) (71 71%) 0.0044\n",
            "9m 13s (- 3m 35s) (72 72%) 0.0042\n",
            "9m 21s (- 3m 27s) (73 73%) 0.0040\n",
            "9m 28s (- 3m 19s) (74 74%) 0.0039\n",
            "9m 36s (- 3m 12s) (75 75%) 0.0038\n",
            "9m 43s (- 3m 4s) (76 76%) 0.0037\n",
            "9m 50s (- 2m 56s) (77 77%) 0.0035\n",
            "9m 58s (- 2m 48s) (78 78%) 0.0035\n",
            "10m 4s (- 2m 40s) (79 79%) 0.0046\n",
            "10m 12s (- 2m 33s) (80 80%) 0.0044\n",
            "10m 19s (- 2m 25s) (81 81%) 0.0046\n",
            "10m 26s (- 2m 17s) (82 82%) 0.0036\n",
            "10m 34s (- 2m 9s) (83 83%) 0.0032\n",
            "10m 41s (- 2m 2s) (84 84%) 0.0030\n",
            "10m 48s (- 1m 54s) (85 85%) 0.0029\n",
            "10m 55s (- 1m 46s) (86 86%) 0.0028\n",
            "11m 3s (- 1m 39s) (87 87%) 0.0027\n",
            "11m 9s (- 1m 31s) (88 88%) 0.0026\n",
            "11m 17s (- 1m 23s) (89 89%) 0.0025\n",
            "11m 24s (- 1m 16s) (90 90%) 0.0024\n",
            "11m 32s (- 1m 8s) (91 91%) 0.0024\n",
            "11m 39s (- 1m 0s) (92 92%) 0.0023\n",
            "11m 46s (- 0m 53s) (93 93%) 0.0022\n",
            "11m 54s (- 0m 45s) (94 94%) 0.0022\n",
            "12m 1s (- 0m 37s) (95 95%) 0.0021\n",
            "12m 8s (- 0m 30s) (96 96%) 0.0021\n",
            "12m 15s (- 0m 22s) (97 97%) 0.0020\n",
            "12m 22s (- 0m 15s) (98 98%) 0.0027\n",
            "12m 29s (- 0m 7s) (99 99%) 0.0067\n",
            "12m 37s (- 0m 0s) (100 100%) 0.0254\n"
          ]
        },
        {
          "output_type": "display_data",
          "data": {
            "text/plain": [
              "<Figure size 640x480 with 0 Axes>"
            ]
          },
          "metadata": {}
        },
        {
          "output_type": "display_data",
          "data": {
            "text/plain": [
              "<Figure size 640x480 with 1 Axes>"
            ],
            "image/png": "[encoded data removed]"
          },
          "metadata": {}
        }
      ],
      "source": [
        "%matplotlib inline\n",
        "# Asegura que los gráficos se muestren dentro del notebook.\n",
        "\n",
        "# Obtiene el dataloader con las frases de entrada y salida del dataset de corrección gramatical.\n",
        "source_vocab, target_vocab, train_dataloader = get_dataloader(file_path, input_col, output_col, batch_size)\n",
        "\n",
        "# Inicializa el modelo de encoder con el tamaño del vocabulario fuente como tamaño de entrada.\n",
        "encoder = EncoderRNN(source_vocab.n_words, hidden_size).to(device)\n",
        "\n",
        "# Inicializa el modelo de decoder con atención y el tamaño del vocabulario objetivo como tamaño de salida.\n",
        "decoder = AttnDecoderRNN(hidden_size, target_vocab.n_words).to(device)\n",
        "\n",
        "# Entrena el modelo usando el dataloader. Se imprimen las métricas de pérdida y se actualizan los gráficos.\n",
        "train(train_dataloader, encoder, decoder, epochs, print_every=1, plot_every=1)\n"
      ]
    },
    {
      "cell_type": "markdown",
      "source": [
        "### Análisis del Entrenamiento del Modelo\n",
        "\n",
        "El entrenamiento del modelo se llevó a cabo en 100 épocas con un tamaño de lote de 32, una capa oculta de 256 nodos, utilizando un conjunto de datos ajustado a 1134 pares de frases (hasta 10 palabras por frase). A continuación, se destacan los puntos clave observados durante el proceso de entrenamiento:\n",
        "\n",
        "\n",
        "\n",
        "#### **Evolución de la Pérdida**\n",
        "- **Inicio del Entrenamiento**:\n",
        "  - La pérdida inicial fue de **5.3488**, indicando que el modelo comenzaba con un error significativo en sus predicciones.\n",
        "  - Durante las primeras épocas, se observó una rápida disminución de la pérdida, alcanzando valores por debajo de **1.0** en menos de un 20% del entrenamiento.\n",
        "- **Reducción Progresiva**:\n",
        "  - La pérdida continuó disminuyendo de forma consistente, alcanzando valores inferiores a **0.01** alrededor del 70% del entrenamiento.\n",
        "  - Este comportamiento sugiere que el modelo logró aprender rápidamente las relaciones entre frases no gramaticales y sus versiones corregidas.\n",
        "- **Fase Final**:\n",
        "  - La pérdida mínima alcanzada fue de **0.0020**, indicando que el modelo se adaptó bien a los datos.\n",
        "  - Se observó un ligero aumento de la pérdida en las últimas épocas (**0.0254 en la época 100**), posiblemente debido a fluctuaciones naturales o un pequeño sobreajuste en los datos.\n",
        "\n",
        "\n",
        "\n",
        "#### **Duración del Entrenamiento**\n",
        "- **Tiempo Total**:\n",
        "  - El entrenamiento completo tomó **12 minutos y 37 segundos**, con una duración promedio por época de aproximadamente **7.5 segundos**.\n",
        "  - Este tiempo es razonable dado el tamaño moderado del conjunto de datos y la arquitectura utilizada.\n",
        "\n",
        "\n",
        "\n",
        "#### **Observaciones**\n",
        "- **Convergencia Temprana**:\n",
        "   - La pérdida comenzó a estabilizarse alrededor del 50% del entrenamiento, mostrando que el modelo aprendió rápidamente las características principales del conjunto de datos.\n",
        "   - Sin embargo, continuar entrenando permitió una mejora en los detalles y en la precisión de las predicciones.\n",
        "- **Tamaño del Conjunto de Datos**:\n",
        "   - Aunque el tamaño del conjunto de datos es relativamente pequeño (1134 pares de frases), el modelo logró ajustarse bien gracias a su capacidad para captar patrones repetitivos.\n",
        "\n",
        "\n",
        "\n",
        "#### **Conclusiones**\n",
        "- **Efectividad del Entrenamiento**:\n",
        "  - La rápida disminución de la pérdida inicial y los valores bajos al final del entrenamiento indican que el modelo logró aprender las relaciones gramaticales.\n",
        "- **Potencial de Mejora**:\n",
        "  - **Más datos**: Incluir un conjunto de datos más grande podría permitir una generalización mejor, especialmente para frases menos comunes.\n",
        "  - **Ajuste de hiperparámetros**: Experimentar con diferentes tasas de aprendizaje o tamaños de lote podría optimizar aún más el rendimiento.\n",
        "- **Aplicabilidad del Modelo**:\n",
        "  - Los resultados obtenidos muestran que el modelo es adecuado para tareas de corrección gramatical en un conjunto de datos moderado y puede ampliarse para tareas más complejas.\n",
        "  \n"
      ],
      "metadata": {
        "id": "UBjQIzMTpyT6"
      }
    },
    {
      "cell_type": "markdown",
      "metadata": {
        "id": "3PYSsACtuCeN"
      },
      "source": [
        "### Predicciones del Modelo\n",
        "\n",
        "El código siguiente se utiliza para evaluar el rendimiento del modelo previamente entrenado en datos de prueba al elegir frases al azar del conjunto de datos.\n",
        "\n",
        "Este fragmento de código coloca al encoder y decoder en modo de evaluación (sin gradientes), lo que es más eficiente y adecuado para hacer predicciones. Luego, llama a evaluateRandomly para que seleccione 10 frases al azar del conjunto de datos y los corrija, mostrando tanto la frase de entrada (>) como la corrección de salida generada por el modelo (<) y la corrección real (=)"
      ]
    },
    {
      "cell_type": "code",
      "execution_count": null,
      "metadata": {
        "colab": {
          "base_uri": "https://localhost:8080/"
        },
        "id": "AS81NI08tpqv",
        "outputId": "78f172a3-35f9-4cdb-ba0a-b907676a9dff"
      },
      "outputs": [
        {
          "output_type": "stream",
          "name": "stdout",
          "text": [
            "> the man which bought the car was happy\n",
            "= the man who bought the car was happy\n",
            "< the man who bought the car was happy <EOS>\n",
            "\n",
            "> the test is difficult but it is fair\n",
            "= the test is difficult and fair\n",
            "< the test is difficult and fair <EOS>\n",
            "\n",
            "> the dog jumped in the fence\n",
            "= the dog jumped over the fence\n",
            "< the dog jumped over the fence <EOS>\n",
            "\n",
            "> the coach instructed to aggressively play defense\n",
            "= the coach instructed to play defense aggressively\n",
            "< the coach instructed to play defense aggressively <EOS>\n",
            "\n",
            "> she s book is on the table\n",
            "= her book is on the table\n",
            "< her book is on the table <EOS>\n",
            "\n",
            "> i need to repeat again what i said earlier\n",
            "= i need to repeat what i said earlier\n",
            "< i need to repeat what i said earlier <EOS>\n",
            "\n",
            "> the photographer take a picture of the sunset\n",
            "= the photographer took a picture of the sunset\n",
            "< the photographer took a picture of the sunset <EOS>\n",
            "\n",
            "> my car is more better than yours\n",
            "= my car is better than yours\n",
            "< my car is better than yours <EOS>\n",
            "\n",
            "> she gave a complimentary to her colleague\n",
            "= she gave a compliment to her colleague\n",
            "< she gave a compliment to her colleague <EOS>\n",
            "\n",
            "> the dogs runs quickly to the park\n",
            "= the dogs run quickly to the park\n",
            "< the dogs run quickly to the park <EOS>\n",
            "\n"
          ]
        }
      ],
      "source": [
        "encoder.eval()  # Configura el modelo encoder en modo de evaluación (desactiva el cálculo de gradientes).\n",
        "decoder.eval()  # Configura el modelo decoder en modo de evaluación.\n",
        "\n",
        "# Llama a la función para evaluar el modelo de forma aleatoria en 10 frases del conjunto de datos.\n",
        "evaluateRandomly(encoder, decoder)"
      ]
    },
    {
      "cell_type": "markdown",
      "source": [
        "### Análisis del Uso Predictivo del Modelo\n",
        "\n",
        "El modelo mostró un desempeño sólido al corregir 10 frases con errores gramaticales. En todos los casos, las predicciones coincidieron con las salidas esperadas, evidenciando su capacidad para:\n",
        "\n",
        "- **Corregir conjugaciones verbales**: Ejemplo: *the photographer take* → *the photographer took*.\n",
        "- **Eliminar redundancias**: Ejemplo: *repeat again* → *repeat*.\n",
        "- **Ajustar preposiciones**: Ejemplo: *jumped in the fence* → *jumped over the fence*.\n",
        "- **Corregir posesivos y vocabulario**: Ejemplo: *she s book* → *her book*.\n",
        "\n",
        "#### **Conclusión**\n",
        "\n",
        "El modelo es preciso y consistente en la corrección gramatical. Su capacidad de generalización es adecuada para datos similares al conjunto de entrenamiento, aunque podría mejorarse ampliando el dataset y evaluándolo en frases más complejas o fuera de distribución.\n"
      ],
      "metadata": {
        "id": "7enVDoyEsQnC"
      }
    },
    {
      "cell_type": "markdown",
      "source": [
        "### Análisis de matriz de atención"
      ],
      "metadata": {
        "id": "qToVd-1rtckX"
      }
    },
    {
      "cell_type": "markdown",
      "source": [
        "El código a continuación realiza la evaluación de un modelo de traducción basado en RNN y visualiza la atención que el modelo aplica a las palabras de la entrada mientras genera la salida. Primero, evalúa la frase de entrada, luego muestra la frase de salida generada y representa la matriz de atención con un gráfico para visualizar qué palabras de la entrada fueron más relevantes para cada palabra generada en la salida.\n",
        "\n",
        "- showAttention se encarga de representar la matriz de atención visualmente, mostrando qué partes de la frase de entrada influyeron más en cada palabra de la salida.\n",
        "\n",
        "- evaluateAndShowAttention evalúa una frase de entrada, imprime la frase de salida generada por el modelo y llama a showAttention para visualizar la atención."
      ],
      "metadata": {
        "id": "_EnAZKAun5z5"
      }
    },
    {
      "cell_type": "code",
      "execution_count": null,
      "metadata": {
        "colab": {
          "base_uri": "https://localhost:8080/",
          "height": 1000
        },
        "id": "OMLShkpHxBBW",
        "outputId": "16f52e44-5e48-483f-f78b-915ebcc207ff"
      },
      "outputs": [
        {
          "output_type": "stream",
          "name": "stdout",
          "text": [
            "Frase de entrada (con errores): he s hitting two birds stone\n",
            "Frase corregida (generada): he s hitting two birds with one stone <EOS>\n"
          ]
        },
        {
          "output_type": "stream",
          "name": "stderr",
          "text": [
            "<ipython-input-23-b0c53e9657bd>:18: UserWarning: set_ticklabels() should only be used with a fixed number of ticks, i.e. after set_ticks() or using a FixedLocator.\n",
            "  ax.set_xticklabels([''] + input_sentence.split(' ') + ['<EOS>'], rotation=90)  # Etiquetas en el eje X\n",
            "<ipython-input-23-b0c53e9657bd>:19: UserWarning: set_ticklabels() should only be used with a fixed number of ticks, i.e. after set_ticks() or using a FixedLocator.\n",
            "  ax.set_yticklabels([''] + output_words)  # Etiquetas en el eje Y\n"
          ]
        },
        {
          "output_type": "display_data",
          "data": {
            "text/plain": [
              "<Figure size 640x480 with 2 Axes>"
            ],
            "image/png": "[encoded data removed]"
          },
          "metadata": {}
        },
        {
          "output_type": "stream",
          "name": "stdout",
          "text": [
            "Frase de entrada (con errores): she do her homework every day\n",
            "Frase corregida (generada): she does her homework every day <EOS>\n"
          ]
        },
        {
          "output_type": "stream",
          "name": "stderr",
          "text": [
            "<ipython-input-23-b0c53e9657bd>:18: UserWarning: set_ticklabels() should only be used with a fixed number of ticks, i.e. after set_ticks() or using a FixedLocator.\n",
            "  ax.set_xticklabels([''] + input_sentence.split(' ') + ['<EOS>'], rotation=90)  # Etiquetas en el eje X\n",
            "<ipython-input-23-b0c53e9657bd>:19: UserWarning: set_ticklabels() should only be used with a fixed number of ticks, i.e. after set_ticks() or using a FixedLocator.\n",
            "  ax.set_yticklabels([''] + output_words)  # Etiquetas en el eje Y\n"
          ]
        },
        {
          "output_type": "display_data",
          "data": {
            "text/plain": [
              "<Figure size 640x480 with 2 Axes>"
            ],
            "image/png": "[encoded data removed]"
          },
          "metadata": {}
        }
      ],
      "source": [
        "def showAttention(input_sentence, output_words, attentions):\n",
        "    \"\"\"\n",
        "    Muestra la matriz de atención generada por el modelo para una frase específica.\n",
        "\n",
        "    Argumentos:\n",
        "        input_sentence: La frase de entrada (con errores gramaticales).\n",
        "        output_words: La lista de palabras generadas por el modelo (corregidas).\n",
        "        attentions: La matriz de atención generada por el modelo.\n",
        "    \"\"\"\n",
        "    # Crea una figura para mostrar la matriz de atención\n",
        "    fig = plt.figure()\n",
        "    ax = fig.add_subplot(111)\n",
        "    # Muestra la matriz de atención como una imagen con un mapa de color 'bone'\n",
        "    cax = ax.matshow(attentions.cpu().numpy(), cmap='bone')\n",
        "    fig.colorbar(cax)\n",
        "\n",
        "    # Configura las etiquetas de los ejes\n",
        "    ax.set_xticklabels([''] + input_sentence.split(' ') + ['<EOS>'], rotation=90)  # Etiquetas en el eje X\n",
        "    ax.set_yticklabels([''] + output_words)  # Etiquetas en el eje Y\n",
        "\n",
        "    # Muestra una etiqueta en cada tick (marcador de eje)\n",
        "    ax.xaxis.set_major_locator(ticker.MultipleLocator(1))\n",
        "    ax.yaxis.set_major_locator(ticker.MultipleLocator(1))\n",
        "\n",
        "    # Muestra el gráfico\n",
        "    plt.show()\n",
        "\n",
        "def evaluateAndShowAttention(input_sentence):\n",
        "    \"\"\"\n",
        "    Evalúa una frase de entrada con errores gramaticales y muestra la matriz de atención\n",
        "    generada por el modelo para visualizar cómo el modelo corrige los errores.\n",
        "\n",
        "    Argumentos:\n",
        "        input_sentence: La frase de entrada (con errores gramaticales).\n",
        "    \"\"\"\n",
        "    # Evalúa el modelo con la frase de entrada y obtiene las palabras de salida y la matriz de atención\n",
        "    output_words, attentions = evaluate(encoder, decoder, input_sentence, source_vocab, target_vocab)\n",
        "    print('Frase de entrada (con errores):', input_sentence)  # Imprime la frase de entrada\n",
        "    print('Frase corregida (generada):', ' '.join(output_words))  # Imprime la frase corregida generada\n",
        "    # Muestra la atención aplicada en la corrección\n",
        "    showAttention(input_sentence, output_words, attentions[0, :len(output_words), :])\n",
        "\n",
        "# Evalúa y muestra la atención para varias frases de ejemplo\n",
        "evaluateAndShowAttention('he s hitting two birds stone')\n",
        "evaluateAndShowAttention('she do her homework every day')\n"
      ]
    },
    {
      "cell_type": "markdown",
      "source": [
        "Las matrices de atención muestran una alineación clara entre las palabras de entrada y salida, lo que indica que el modelo puede identificar correctamente las relaciones gramaticales y semánticas en las frases. Por ejemplo, en \"he's hitting two birds with one stone\", se observa cómo el modelo presta atención adecuada al alineamiento de cada palabra, asegurando una traducción precisa y consistente. Similarmente, en \"she does her homework every day\", se aprecia una correspondencia que refleja una comprensión precisa de las estructuras gramaticales del modelo."
      ],
      "metadata": {
        "id": "Tmd1Blr4txta"
      }
    }
  ],
  "metadata": {
    "colab": {
      "toc_visible": true,
      "provenance": []
    },
    "kernelspec": {
      "display_name": "Python 3",
      "name": "python3"
    },
    "language_info": {
      "name": "python"
    }
  },
  "nbformat": 4,
  "nbformat_minor": 0
}